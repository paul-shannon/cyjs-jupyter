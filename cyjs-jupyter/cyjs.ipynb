{
 "cells": [
  {
   "cell_type": "code",
   "execution_count": 1,
   "metadata": {
    "collapsed": true
   },
   "outputs": [],
   "source": [
    "import cyjs\n",
    "from IPython.display import display, HTML"
   ]
  },
  {
   "cell_type": "code",
   "execution_count": 2,
   "metadata": {},
   "outputs": [
    {
     "data": {
      "text/html": [
       "<style>\n",
       "    div#notebook-container    { width: 95%; }\n",
       "    div#menubar-container     { width: 65%; }\n",
       "    div#maintoolbar-container { width: 99%; }\n",
       "</style>"
      ],
      "text/plain": [
       "<IPython.core.display.HTML object>"
      ]
     },
     "metadata": {},
     "output_type": "display_data"
    }
   ],
   "source": [
    "display(HTML(data=\"\"\"<style>\n",
    "    div#notebook-container    { width: 95%; }\n",
    "    div#menubar-container     { width: 65%; }\n",
    "    div#maintoolbar-container { width: 99%; }\n",
    "</style>\"\"\"))"
   ]
  },
  {
   "cell_type": "code",
   "execution_count": 3,
   "metadata": {
    "collapsed": true
   },
   "outputs": [],
   "source": [
    "cy = cyjs.cyjs()"
   ]
  },
  {
   "cell_type": "code",
   "execution_count": 4,
   "metadata": {},
   "outputs": [
    {
     "data": {
      "application/vnd.jupyter.widget-view+json": {
       "model_id": "71e239f272a94ea186424295d4cfc714"
      }
     },
     "metadata": {},
     "output_type": "display_data"
    }
   ],
   "source": [
    "display(cy)"
   ]
  },
  {
   "cell_type": "code",
   "execution_count": 5,
   "metadata": {
    "collapsed": true
   },
   "outputs": [],
   "source": [
    "from igraph import *\n",
    "\n",
    "networkFile = \"toyNetwork2.tsv\"\n",
    "nodeAttributesFile = \"type.noa\"\n",
    "lines = open(networkFile).readlines()\n",
    "tbl_rel = []\n",
    "for line in lines:\n",
    "   tokens = line.rstrip(\"\\n\").split(\"\\t\")\n",
    "   tokens = [x.strip() for x in tokens]\n",
    "   if(len(tokens) == 3):\n",
    "      tbl_rel.append(tokens)"
   ]
  },
  {
   "cell_type": "code",
   "execution_count": 6,
   "metadata": {
    "collapsed": true
   },
   "outputs": [],
   "source": [
    "lines = open(nodeAttributesFile).readlines()\n",
    "\n",
    "nodeTypes=[]\n",
    "for line in lines:\n",
    "   (node, type) = line.rstrip(\"\\n\").split(\"\\t\")\n",
    "   nodeTypes.append([node, type])\n",
    "\n",
    "g = Graph(directed=True)\n",
    "nodeNames = [x[0] for x in nodeTypes]\n",
    "nodeTypeValues = [x[1] for x in nodeTypes]\n",
    "\n",
    "g.add_vertices(nodeNames)\n",
    "g.vs['type'] = nodeTypeValues\n",
    "\n",
    "for row in tbl_rel:\n",
    "  source = row[0];\n",
    "  target = row[1];\n",
    "  #print(\"adding edge, %s -> %s\" % (source, target))\n",
    "  g.add_edge(source, target)\n",
    "\n",
    "g.es['edgeType'] = [x[2] for x in tbl_rel]"
   ]
  },
  {
   "cell_type": "code",
   "execution_count": 7,
   "metadata": {
    "collapsed": true
   },
   "outputs": [],
   "source": [
    "cy.deleteGraph()\n",
    "cy.addGraph(g)\n",
    "cy.loadStyleFile(\"style2.js\")\n",
    "kkLayout = g.layout(\"kk\")\n",
    "cy.setPosition(kkLayout)\n",
    "cy.fit(100)"
   ]
  },
  {
   "cell_type": "code",
   "execution_count": 8,
   "metadata": {
    "collapsed": true
   },
   "outputs": [],
   "source": [
    "cy.setHeight(1500)"
   ]
  },
  {
   "cell_type": "code",
   "execution_count": null,
   "metadata": {
    "collapsed": true
   },
   "outputs": [],
   "source": []
  }
 ],
 "metadata": {
  "anaconda-cloud": {},
  "kernelspec": {
   "display_name": "Python [conda root]",
   "language": "python",
   "name": "conda-root-py"
  },
  "language_info": {
   "codemirror_mode": {
    "name": "ipython",
    "version": 3
   },
   "file_extension": ".py",
   "mimetype": "text/x-python",
   "name": "python",
   "nbconvert_exporter": "python",
   "pygments_lexer": "ipython3",
   "version": "3.5.2"
  },
  "widgets": {
   "state": {
    "406bfb3292674bed9fb7e465be614d40": {
     "model_module": "jupyter-js-widgets",
     "model_module_version": "*",
     "model_name": "DOMWidgetModel",
     "state": {
      "_dom_classes": [],
      "_model_module": "jupyter-js-widgets",
      "_model_module_version": "*",
      "_model_name": "DOMWidgetModel",
      "_view_module": "cyjs",
      "_view_module_version": "*",
      "_view_name": "CyjsView",
      "frameHeight": 300,
      "frameWidth": 400,
      "msgFromBrowser": "{}",
      "msgFromKernel": "{}",
      "msg_throttle": 1
     }
    }
   },
   "version": "2.0.10"
  }
 },
 "nbformat": 4,
 "nbformat_minor": 2
}

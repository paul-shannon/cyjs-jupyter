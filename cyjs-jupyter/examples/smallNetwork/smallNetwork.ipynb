{
 "cells": [
  {
   "cell_type": "code",
   "execution_count": 1,
   "metadata": {},
   "outputs": [
    {
     "name": "stderr",
     "output_type": "stream",
     "text": [
      "/Users/paul/anaconda/lib/python3.5/site-packages/numexpr/cpuinfo.py:76: UserWarning: [Errno 2] No such file or directory: 'sysctl'\n",
      "  stacklevel=stacklevel + 1):\n"
     ]
    }
   ],
   "source": [
    "from cyjs import *\n",
    "from IPython.display import display, HTML\n",
    "from pandas import *"
   ]
  },
  {
   "cell_type": "code",
   "execution_count": 2,
   "metadata": {},
   "outputs": [
    {
     "data": {
      "text/html": [
       "<style>\n",
       "    div#notebook-container    { width: 95%; }\n",
       "    div#menubar-container     { width: 65%; }\n",
       "    div#maintoolbar-container { width: 99%; }\n",
       "</style>"
      ],
      "text/plain": [
       "<IPython.core.display.HTML object>"
      ]
     },
     "metadata": {},
     "output_type": "display_data"
    }
   ],
   "source": [
    "display(HTML(data=\"\"\"<style>\n",
    "    div#notebook-container    { width: 95%; }\n",
    "    div#menubar-container     { width: 65%; }\n",
    "    div#maintoolbar-container { width: 99%; }\n",
    "</style>\"\"\"))"
   ]
  },
  {
   "cell_type": "code",
   "execution_count": 3,
   "metadata": {
    "collapsed": true
   },
   "outputs": [],
   "source": [
    "from igraph import *\n",
    "nodeFile = \"nodes.tsv\"\n",
    "edgeFile = \"edges.tsv\"\n",
    "nodeAttributesFile = \"geneExpression.tsv\"\n",
    "edgeAttributesFile = \"edgeFlux.tsv\""
   ]
  },
  {
   "cell_type": "code",
   "execution_count": 4,
   "metadata": {
    "collapsed": true
   },
   "outputs": [],
   "source": [
    "tblNodes = read_csv(nodeFile, sep=\"\\t\")\n",
    "tblEdges = read_csv(edgeFile, sep=\"\\t\")\n",
    "tblGeneExpression = read_csv(nodeAttributesFile, sep=\"\\t\")\n",
    "tblEdgeFlux = read_csv(edgeAttributesFile, sep=\"\\t\")"
   ]
  },
  {
   "cell_type": "code",
   "execution_count": 5,
   "metadata": {
    "collapsed": true
   },
   "outputs": [],
   "source": [
    "nodeNames = tblNodes['name'].tolist()\n",
    "nodeTypes = tblNodes['type'].tolist()\n",
    "g = Graph(directed=True)\n",
    "g.add_vertices(nodeNames)\n",
    "g.vs['type'] = nodeTypes\n",
    "sources = tblEdges['source'].tolist()\n",
    "targets = tblEdges['target'].tolist()\n",
    "edgeTypes = tblEdges['edgeType'].tolist()"
   ]
  },
  {
   "cell_type": "code",
   "execution_count": 6,
   "metadata": {
    "collapsed": true
   },
   "outputs": [],
   "source": [
    "g.add_edges(zip(tblEdges['source'].tolist(), tblEdges['target'].tolist()))\n",
    "g.es['edgeType'] = edgeTypes"
   ]
  },
  {
   "cell_type": "code",
   "execution_count": 7,
   "metadata": {},
   "outputs": [
    {
     "data": {
      "application/vnd.jupyter.widget-view+json": {
       "model_id": "3096eabdce93464ba279809d93563623"
      }
     },
     "metadata": {},
     "output_type": "display_data"
    }
   ],
   "source": [
    "cy = cyjs()\n",
    "display(cy)"
   ]
  },
  {
   "cell_type": "code",
   "execution_count": 13,
   "metadata": {
    "collapsed": true
   },
   "outputs": [],
   "source": [
    "cy.deleteGraph()\n",
    "cy.addGraph(g)\n",
    "kkLayout = g.layout(\"kk\")\n",
    "cy.setPosition(kkLayout)\n",
    "cy.fit(100)"
   ]
  },
  {
   "cell_type": "code",
   "execution_count": 14,
   "metadata": {
    "collapsed": true
   },
   "outputs": [],
   "source": [
    "cy.setHeight(900)"
   ]
  },
  {
   "cell_type": "code",
   "execution_count": 15,
   "metadata": {
    "collapsed": true
   },
   "outputs": [],
   "source": [
    "sourceNodes = tblEdgeFlux[\"source\"].tolist()\n",
    "targetNodes = tblEdgeFlux[\"target\"].tolist()\n",
    "edgeTypes = tblEdgeFlux[\"edgeType\"].tolist()"
   ]
  },
  {
   "cell_type": "code",
   "execution_count": 16,
   "metadata": {
    "collapsed": true
   },
   "outputs": [],
   "source": [
    "cy.loadStyleFile(\"style.js\")"
   ]
  },
  {
   "cell_type": "code",
   "execution_count": 17,
   "metadata": {
    "collapsed": true
   },
   "outputs": [],
   "source": [
    "for condition in [\"cond1\", \"cond2\", \"cond3\"]:\n",
    "   values = tblEdgeFlux[condition].tolist()\n",
    "   cy.setEdgeAttributes(g, \"flux\", sourceNodes, targetNodes, edgeTypes, values)\n",
    "   time.sleep(2)                        "
   ]
  },
  {
   "cell_type": "code",
   "execution_count": 19,
   "metadata": {
    "collapsed": true
   },
   "outputs": [],
   "source": [
    "nodes = tblGeneExpression[\"name\"].tolist()\n",
    "values = tblGeneExpression[\"expression\"].tolist()\n",
    "cy.setNodeAttributes(g, \"expression\", nodes, values)"
   ]
  }
 ],
 "metadata": {
  "anaconda-cloud": {},
  "kernelspec": {
   "display_name": "Python [conda root]",
   "language": "python",
   "name": "conda-root-py"
  },
  "language_info": {
   "codemirror_mode": {
    "name": "ipython",
    "version": 3
   },
   "file_extension": ".py",
   "mimetype": "text/x-python",
   "name": "python",
   "nbconvert_exporter": "python",
   "pygments_lexer": "ipython3",
   "version": "3.5.2"
  },
  "widgets": {
   "state": {
    "406bfb3292674bed9fb7e465be614d40": {
     "model_module": "jupyter-js-widgets",
     "model_module_version": "*",
     "model_name": "DOMWidgetModel",
     "state": {
      "_dom_classes": [],
      "_model_module": "jupyter-js-widgets",
      "_model_module_version": "*",
      "_model_name": "DOMWidgetModel",
      "_view_module": "cyjs",
      "_view_module_version": "*",
      "_view_name": "CyjsView",
      "frameHeight": 300,
      "frameWidth": 400,
      "msgFromBrowser": "{}",
      "msgFromKernel": "{}",
      "msg_throttle": 1
     }
    }
   },
   "version": "2.0.10"
  }
 },
 "nbformat": 4,
 "nbformat_minor": 2
}

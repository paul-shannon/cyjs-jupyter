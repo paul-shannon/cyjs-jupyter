{
 "cells": [
  {
   "cell_type": "code",
   "execution_count": 1,
   "metadata": {
    "collapsed": false
   },
   "outputs": [
    {
     "data": {
      "application/javascript": [
       "require.config({\n",
       "   paths: {cytoscape: 'http://localhost:8099/js/cytoscape-2.7.10'}\n",
       "   })"
      ],
      "text/plain": [
       "<IPython.core.display.Javascript object>"
      ]
     },
     "metadata": {},
     "output_type": "display_data"
    }
   ],
   "source": [
    "%%javascript\n",
    "require.config({\n",
    "   paths: {cytoscape: 'http://localhost:8099/js/cytoscape-2.7.10'}\n",
    "   })"
   ]
  },
  {
   "cell_type": "code",
   "execution_count": 4,
   "metadata": {
    "collapsed": true
   },
   "outputs": [],
   "source": [
    "import igraph as ig\n",
    "DEF_SCALING = 100.0\n",
    "def from_igraph(igraph_network, layout=None, scale=DEF_SCALING):\n",
    "    new_graph = {}\n",
    "    network_data = {}\n",
    "    elements = {}\n",
    "    nodes = []\n",
    "    edges = []\n",
    "    network_attr = igraph_network.attributes() # Convert network attributes\n",
    "    for key in network_attr:\n",
    "        network_data[key] = igraph_network[key]\n",
    "    edges_original = igraph_network.es # get network as a list of edges\n",
    "    nodes_original = igraph_network.vs\n",
    "    node_attr = igraph_network.vs.attributes()\n",
    "    for idx, node in enumerate(nodes_original):\n",
    "        new_node = {}\n",
    "        data = {}\n",
    "        data['id'] = str(node.index)\n",
    "        data['name'] = str(node.index)\n",
    "        for key in node_attr:\n",
    "            data[key] = node[key]\n",
    "        new_node['data'] = data\n",
    "        if layout is not None:\n",
    "            position = {}\n",
    "            position['x'] = layout[idx][0] * scale\n",
    "            position['y'] = layout[idx][1] * scale\n",
    "            new_node['position'] = position\n",
    "        nodes.append(new_node)\n",
    "    edge_attr = igraph_network.es.attributes()  # Add edges to the elements\n",
    "    for edge in edges_original:\n",
    "        new_edge = {}\n",
    "        data = {}\n",
    "        data['source'] = str(edge.source)\n",
    "        data['target'] = str(edge.target)\n",
    "        for key in edge_attr:\n",
    "            data[key] = edge[key]\n",
    "        new_edge['data'] = data\n",
    "        edges.append(new_edge)\n",
    "    elements['nodes'] = nodes\n",
    "    elements['edges'] = edges\n",
    "    new_graph['elements'] = elements\n",
    "    new_graph['data'] = network_data\n",
    "    return new_graph\n",
    "\n",
    "\n",
    "def to_igraph(network):\n",
    "\n",
    "    nodes = network['elements']['nodes']\n",
    "    edges = network['elements']['edges']\n",
    "    network_attr = network['data']\n",
    "\n",
    "    node_count = len(nodes)\n",
    "    edge_count = len(edges)\n",
    "\n",
    "    g = ig.Graph()\n",
    "\n",
    "    # Graph attributes\n",
    "    for key in network_attr.keys():\n",
    "        g[key] = network_attr[key]\n",
    "\n",
    "    g.add_vertices(nodes)\n",
    "\n",
    "    # Add node attributes\n",
    "    node_attributes = {}\n",
    "    node_id_dict = {}\n",
    "    for i, node in enumerate(nodes):\n",
    "        data = node['data']\n",
    "        for key in data.keys():\n",
    "            if key not in node_attributes:\n",
    "                node_attributes[key] = [None] * node_count\n",
    "\n",
    "            # Save index to map\n",
    "            if key == 'id':\n",
    "                node_id_dict[data[key]] = i\n",
    "\n",
    "            node_attributes[key][i] = data[key]\n",
    "\n",
    "    for key in node_attributes.keys():\n",
    "        g.vs[key] = node_attributes[key]\n",
    "\n",
    "    # Create edges\n",
    "    edge_tuples = []\n",
    "    edge_attributes = {}\n",
    "    for i, edge in enumerate(edges):\n",
    "        data = edge['data']\n",
    "        source = data['source']\n",
    "        target = data['target']\n",
    "        edge_tuple = (node_id_dict[source], node_id_dict[target])\n",
    "        edge_tuples.append(edge_tuple)\n",
    "        for key in data.keys():\n",
    "            if key not in edge_attributes:\n",
    "                edge_attributes[key] = [None] * edge_count\n",
    "\n",
    "            # Save index to map\n",
    "            edge_attributes[key][i] = data[key]\n",
    "\n",
    "    g.add_edges(edge_tuples)\n",
    "\n",
    "    # Assign edge attributes\n",
    "    for key in edge_attributes.keys():\n",
    "        if key == 'source' or key == 'target':\n",
    "            continue\n",
    "        else:\n",
    "            g.es[key] = edge_attributes[key]\n",
    "\n",
    "    return g\n"
   ]
  },
  {
   "cell_type": "code",
   "execution_count": 6,
   "metadata": {
    "collapsed": false
   },
   "outputs": [],
   "source": [
    "from igraph import *\n",
    "lines = open(\"test.tsv\").readlines()\n",
    "abRelations = []\n",
    "for line in lines:\n",
    "    abRelations.append(line.split(\"\\t\"))\n",
    "g = Graph.TupleList(abRelations)\n",
    "g.json = from_igraph(g)"
   ]
  },
  {
   "cell_type": "code",
   "execution_count": 7,
   "metadata": {
    "collapsed": false
   },
   "outputs": [
    {
     "data": {
      "text/plain": [
       "{'data': {},\n",
       " 'elements': {'edges': [{'data': {'source': '0', 'target': '1'}},\n",
       "   {'data': {'source': '1', 'target': '2'}},\n",
       "   {'data': {'source': '3', 'target': '4'}},\n",
       "   {'data': {'source': '3', 'target': '5'}},\n",
       "   {'data': {'source': '5', 'target': '6'}},\n",
       "   {'data': {'source': '5', 'target': '7'}},\n",
       "   {'data': {'source': '5', 'target': '8'}}],\n",
       "  'nodes': [{'data': {'id': '0', 'name': 'M_10fthf6glu_m'}},\n",
       "   {'data': {'id': '1', 'name': 'R_FPGS9m\\n'}},\n",
       "   {'data': {'id': '2', 'name': 'M_glu_DASH_DASH_DASH_L_m'}},\n",
       "   {'data': {'id': '3', 'name': 'R_FPGS9m'}},\n",
       "   {'data': {'id': '4', 'name': 'M_10fthf7glu_m\\n'}},\n",
       "   {'data': {'id': '5', 'name': 'M_pi_m\\n'}},\n",
       "   {'data': {'id': '6', 'name': 'R_PPCOACm'}},\n",
       "   {'data': {'id': '7', 'name': 'R_SUCOAS1m'}},\n",
       "   {'data': {'id': '8', 'name': 'R_SUCOASm'}}]}}"
      ]
     },
     "execution_count": 7,
     "metadata": {},
     "output_type": "execute_result"
    }
   ],
   "source": [
    "g.json"
   ]
  },
  {
   "cell_type": "code",
   "execution_count": 9,
   "metadata": {
    "collapsed": false
   },
   "outputs": [],
   "source": [
    "import ipywidgets as widgets\n",
    "import json\n",
    "import time\n",
    "from IPython.display import display\n",
    "from traitlets import Int, Unicode, Tuple, CInt, Dict, validate, observe\n",
    "\n",
    "class cyjsWidget(widgets.DOMWidget):\n",
    "    \n",
    "    _view_name = Unicode('CyjsView').tag(sync=True)\n",
    "    _view_module = Unicode('cyjs').tag(sync=True)\n",
    "    frameWidth = Int(400).tag(sync=True)\n",
    "    frameHeight = Int(300).tag(sync=True)\n",
    "    msgFromKernel = Unicode(\"{}\").tag(sync=True)\n",
    "    msgFromBrowser = Unicode(\"{}\").tag(sync=True)\n",
    "    _incomingMessage = {};\n",
    "    status = \"initial status message\\n\"\n",
    "    selectedNodes = [];\n",
    "        \n",
    "    def setSize(self, width, height):\n",
    "      self.status += \"setSize(%d, %d)\\n\" % (width, height)\n",
    "      self.frameWidth = width\n",
    "      self.frameHeight = height\n",
    "        \n",
    "    def fit(self, margin=50):\n",
    "      self.status += \"entering fit (%d)\\n\" % margin\n",
    "      self.msgFromKernel = json.dumps({\"cmd\": \"fit\", \"status\": \"request\",\n",
    "                                              \"callback\": \"\", \"payload\": margin});\n",
    "        \n",
    "    def getSelectedNodes(self):\n",
    "      #self.selectedNodes = [];\n",
    "      self._incomingMessage = None;\n",
    "      self.status += \"entering getSelectedNodes\\n\";\n",
    "      self.msgFromKernel = json.dumps({\"cmd\": \"cleanSlate\", \"status\": \"request\", \"callback\": \"\", \"payload\":\"\"});\n",
    "      self.msgFromKernel = json.dumps({\"cmd\": \"getSelectedNodes\", \"status\": \"request\",\n",
    "                                       \"callback\": \"\", \"payload\": \"\"});\n",
    "    \n",
    "    def selectNodes(self, nodes):\n",
    "      self.msgFromKernel = json.dumps({\"cmd\": \"selectNodes\", \"status\": \"request\",\n",
    "                                       \"callback\": \"\", \"payload\": nodes});\n",
    "       \n",
    "    def clearSelection(self):\n",
    "      self. msgFromKernel = json.dumps({\"cmd\": \"clearSelection\", \"status\": \"request\",\n",
    "                                        \"callback\": \"\", \"payload\": \"\"});\n",
    "        \n",
    "    @observe('msgFromBrowser')\n",
    "    def msg_arrived(self, change):\n",
    "       self.status += \"msgFromBrowser has arrived: %f\\n\" % time.time()\n",
    "       rawMessage = change['new']\n",
    "       self._incomingMessage = json.loads(rawMessage)\n",
    "         \n",
    "    def getResponse(self):\n",
    "       return(self._incomingMessage[\"payload\"])\n",
    "\n",
    "    def getFullResponse(self):\n",
    "       return(self._incomingMessage)\n",
    "        "
   ]
  },
  {
   "cell_type": "code",
   "execution_count": 10,
   "metadata": {
    "collapsed": false
   },
   "outputs": [
    {
     "data": {
      "application/javascript": [
       "\"use strict\";\n",
       "\n",
       "require.undef('cyjs');\n",
       "\n",
       "define('cyjs', [\"jupyter-js-widgets\", \"cytoscape\"], function(widgets, cytoscape) {\n",
       "    \n",
       "    var CyjsView = widgets.DOMWidgetView.extend({\n",
       "\n",
       "        initialize: function() {\n",
       "           this.circles = [];\n",
       "           this.circleCount = 0;\n",
       "           this.options = {}; \n",
       "           this.msg = \"empty in javascript\";\n",
       "           this.msgFromKernel = \"\";\n",
       "           this.defaultHeight = \"800px\";\n",
       "           this.defaultWidth = \"1000px\";\n",
       "           },\n",
       "\n",
       "        createDiv: function(){\n",
       "            var outerDiv = $(\"<div id='cyOuterDiv' style='border:1px solid gray; height: 800px; width: 1000px'></div>\");\n",
       "            var toolbarDiv = $(\"<div id='cyToolbarDiv' style='height: 30px; width: 1000px'></div>\");\n",
       "            var cyDiv = $(\"<div id='cyDiv' style='height: 870px; width: 1000px'></div>\");\n",
       "            outerDiv.append(toolbarDiv);\n",
       "            outerDiv.append(cyDiv);\n",
       "            var cyWidget = this;\n",
       "            var fitButton = $(\"<button>Fit</button>\").click(function(){\n",
       "                console.log(\"Fit!\");\n",
       "                console.log(\"fitButton's notion of this:\")\n",
       "                console.log(cyWidget.cy);\n",
       "                cyWidget.cy.fit(50);\n",
       "               });\n",
       "            toolbarDiv.append(fitButton);\n",
       "            var fitSelectedButton = $(\"<button>Fit Selected</button>\").click(function(){\n",
       "                var selectedNodes = cyWidget.cy.filter('node:selected');\n",
       "                if(selectedNodes.length > 0){\n",
       "                   cyWidget.cy.fit(selectedNodes, 50);\n",
       "                   }\n",
       "               });\n",
       "            toolbarDiv.append(fitSelectedButton);\n",
       "            var sfnButton = $(\"<button>SFN</button>\").click(function(){\n",
       "               cyWidget.cy.nodes(':selected').neighborhood().nodes().select()\n",
       "               });\n",
       "            toolbarDiv.append(sfnButton);\n",
       "            var clearButton = $(\"<button>Clear</button>\").click(function(){\n",
       "               cyWidget.cy.nodes().unselect();\n",
       "               cyWidget.cy.edges().unselect();\n",
       "               });\n",
       "            toolbarDiv.append(clearButton);\n",
       "            return(outerDiv);\n",
       "           },\n",
       " \n",
       "        \n",
       "        createCanvas: function(){\n",
       "            var cyjsWidget = this;\n",
       "            console.log(\"createCanvas notion of this:\")\n",
       "            console.log(cyjsWidget);\n",
       "            this.cy = cytoscape({\n",
       "               container: document.getElementById('cyDiv'),\n",
       "               //elements: {\n",
       "               //nodes: [\n",
       "               //  {data: {id: 'a', name: 'Node A', type: 'big' }},\n",
       "               //  {data: {id: 'b', name: 'Node B', type: 'little'}},\n",
       "               //  ],\n",
       "              //edges: [\n",
       "              //  {data: {source: 'a', target: 'b'}},\n",
       "              //         {data: {source: 'b', target: 'a'}}\n",
       "              // ]},\n",
       "          ready: function(){\n",
       "            console.log(\"small cyjs network ready\");\n",
       "            console.log(\"ready's notion of this:\")\n",
       "            console.log(this);\n",
       "            cyjsWidget.cy = this;\n",
       "            window.cy = this;  // for easy debugging\n",
       "            console.log(\"ready's notion of cyjsWidget:\")\n",
       "            console.log(cyjsWidget);\n",
       "            console.log(\"calling this.fit\")\n",
       "            //cyWidget.cy.fit(100);\n",
       "            console.log(\"--- about to call loadGraph\")\n",
       "            cyjsWidget.loadGraph(\"priyanka.json\");\n",
       "            cyjsWidget.loadStyle(\"style.js\");\n",
       "            console.log(\"    back from loadGraph\")\n",
       "            cyjsWidget.cy.on(\"select\", function(x){\n",
       "                var selectedNodeCount = cyjsWidget.cy.nodes(\":selected\").length;\n",
       "                var selectedEdgeCount = cyjsWidget.cy.edges(\":selected\").length;\n",
       "                console.log(\"selected nodes: \" + selectedNodeCount);\n",
       "                console.log(\"selected edges:\" + selectedEdgeCount);\n",
       "                });\n",
       "            cyjsWidget.cy.on(\"unselect\", function(x){\n",
       "                var selectedNodeCount = cyjsWidget.cy.nodes(\":selected\").length;\n",
       "                var selectedEdgeCount = cyjsWidget.cy.edges(\":selected\").length;\n",
       "                console.log(\"selected nodes: \" + selectedNodeCount);\n",
       "                console.log(\"selected edges:\" + selectedEdgeCount);\n",
       "                });\n",
       "            } // ready\n",
       "           })},\n",
       "\n",
       "        loadStyle: function(filename){\n",
       "           var cyObj = this.cy;\n",
       "           console.log(\"cyjsWidget.loadStyle: \" + filename)\n",
       "           console.log(\"loadStyle's notion of this:\");\n",
       "           console.log(this);\n",
       "           console.log(\"loadStyle's notion of cy:\");\n",
       "           console.log(cyObj);\n",
       "           var str = window.location.href;\n",
       "           var url = str.substr(0, str.lastIndexOf(\"/\")) + \"/\" + filename;\n",
       "           url = url.replace(\"/notebooks/\", \"/files/\");\n",
       "           console.log(\"about to getScript: \" + url);\n",
       "           $.getScript(url)\n",
       "              .done(function(script, textStatus) {\n",
       "                 console.log(textStatus);\n",
       "                 cyObj.style(vizmap);\n",
       "                 })\n",
       "             .fail(function( jqxhr, settings, exception ) {\n",
       "                console.log(\"getScript error trying to read \" + filename);\n",
       "                console.log(\"exception: \");\n",
       "                console.log(exception);\n",
       "                });\n",
       "          },\n",
       "        \n",
       "        loadGraph: function(filename){\n",
       "           console.log(\"entering loadGraph\");\n",
       "           var cyObj = this.cy;\n",
       "              // the robust url of a file in the same directory as the notebook is\n",
       "              // str.substring(0, str.lastIndexOf(\"/\"));\n",
       "           var str = window.location.href;\n",
       "           var url = str.substr(0, str.lastIndexOf(\"/\")) + \"/\" + filename;\n",
       "           url = url.replace(\"/notebooks/\", \"/files/\");\n",
       "           console.log(\"=== about to getScript on \" + url);\n",
       "           $.getScript(url)\n",
       "              .done(function(script, textStatus) {\n",
       "                 console.log(\"getScript: \" + textStatus);\n",
       "                 console.log(\"nodes: \" + network.elements.nodes.length);\n",
       "                 if(typeof(network.elements.edges) != \"undefined\")\n",
       "                    console.log(\"edges: \" + network.elements.edges.length);\n",
       "                cyObj.add(network.elements);  // no positions yet\n",
       "                cyObj.nodes().map(function(node){node.data({degree: node.degree()})});\n",
       "                cyObj.fit(150);\n",
       "                }) // .done\n",
       "            .fail(function(jqxhr, settings, exception) {\n",
       "               console.log(\"addNetwork getscript error trying to read \" + filename);\n",
       "               });\n",
       "           },\n",
       "        \n",
       "        render: function() { \n",
       "            console.log(\"entering render\")\n",
       "            this.$el.append(this.createDiv());\n",
       "            this.listenTo(this.model, 'change:frameWidth', this.frameDimensionsChanged, this);\n",
       "            this.listenTo(this.model, 'change:frameHeight', this.frameDimensionsChanged, this);\n",
       "            this.listenTo(this.model, 'change:msgFromKernel', this.dispatchRequest, this);\n",
       "            var cyjsWidget = this;\n",
       "            function myFunc(){\n",
       "               cyjsWidget.createCanvas()\n",
       "               }\n",
       "            setTimeout(myFunc, 500);\n",
       "            },\n",
       "\n",
       "        dispatchRequest: function(){\n",
       "           console.log(\"dispatchRequest\");\n",
       "           var msgRaw = this.model.get(\"msgFromKernel\");\n",
       "           var msg = JSON.parse(msgRaw);\n",
       "           console.log(msg);\n",
       "           console.log(\"========================\");\n",
       "           console.log(this);\n",
       "           switch(msg.cmd) {\n",
       "              case 'fit':\n",
       "                 var margin = msg.payload;\n",
       "                 console.log(\"fit with margin: \" + margin)\n",
       "                 this.cy.fit(margin);\n",
       "                 break;\n",
       "              case 'getSelectedNodes':\n",
       "                 var selectedNodes = this.cy.filter(\"node:selected\").map(function(node){ \n",
       "                     return node.data().id});\n",
       "                  console.log(\"-- found these selected nodes: \");\n",
       "                  console.log(selectedNodes);\n",
       "                  var jsonString = JSON.stringify({cmd: \"storeSelectedNodes\",\n",
       "                                                status: \"reply\",\n",
       "                                                callback: \"\",\n",
       "                                                payload: selectedNodes})\n",
       "                  console.log(\" *** jsonString: \")\n",
       "                  console.log(jsonString);\n",
       "                  this.model.set(\"msgFromBrowser\", jsonString);\n",
       "                  console.log(\"    after setting 'msgFromBrowser\");\n",
       "                  this.touch();\n",
       "                  break;\n",
       "               case 'selectNodes':\n",
       "                  var nodeIDs = msg.payload;\n",
       "                  console.log(\"--- selecting these nodes: \" + nodeIDs);\n",
       "                  if(typeof(nodeIDs) == \"string\")\n",
       "                     nodeIDs = [nodeIDs];\n",
       "                 var filterStrings = [];\n",
       "                 for(var i=0; i < nodeIDs.length; i++){\n",
       "                   var s = '[id=\"' + nodeIDs[i] + '\"]';\n",
       "                   filterStrings.push(s);\n",
       "                   } // for i\n",
       "                var nodesToSelect = this.cy.nodes(filterStrings.join());\n",
       "                nodesToSelect.select()\n",
       "                break;\n",
       "              case 'clearSelection':\n",
       "                 this.cy.nodes().unselect();\n",
       "                 break;\n",
       "            default:\n",
       "               console.log(\"unrecognized msg.cmd: \" + msg.cmd);\n",
       "             } // switch\n",
       "           console.log(\"CONCLUDING dispatchRequest\")\n",
       "           }, \n",
       "        \n",
       "        frameDimensionsChanged: function(){\n",
       "           console.log(\"frameDimensionsChanged\")\n",
       "           var newWidth  = this.model.get(\"frameWidth\");\n",
       "           var newHeight = this.model.get(\"frameHeight\");\n",
       "           console.log(\"frame: \" + newWidth + \" x \" + newHeight);\n",
       "           $(\"#cyOuterDiv\").width(newWidth);\n",
       "           $(\"#cyOuterDiv\").height(newHeight);\n",
       "           $(\"#cyToolbarDiv\").width(newWidth);\n",
       "           $(\"#cyDiv\").width(newWidth);\n",
       "           $(\"#cyDiv\").height(newHeight - $(\"#cyToolbarDiv\").height());\n",
       "           }, \n",
       "        \n",
       "        events: {\n",
       "           //\"click #svg\": \"changeHandler\"\n",
       "           }\n",
       "\n",
       "    });\n",
       "    return {\n",
       "        CyjsView: CyjsView\n",
       "    };\n",
       "});"
      ],
      "text/plain": [
       "<IPython.core.display.Javascript object>"
      ]
     },
     "metadata": {},
     "output_type": "display_data"
    }
   ],
   "source": [
    "%%javascript\n",
    "\"use strict\";\n",
    "\n",
    "require.undef('cyjs');\n",
    "\n",
    "define('cyjs', [\"jupyter-js-widgets\", \"cytoscape\"], function(widgets, cytoscape) {\n",
    "    \n",
    "    var CyjsView = widgets.DOMWidgetView.extend({\n",
    "\n",
    "        initialize: function() {\n",
    "           this.circles = [];\n",
    "           this.circleCount = 0;\n",
    "           this.options = {}; \n",
    "           this.msg = \"empty in javascript\";\n",
    "           this.msgFromKernel = \"\";\n",
    "           this.defaultHeight = \"800px\";\n",
    "           this.defaultWidth = \"1000px\";\n",
    "           },\n",
    "\n",
    "        createDiv: function(){\n",
    "            var outerDiv = $(\"<div id='cyOuterDiv' style='border:1px solid gray; height: 800px; width: 1000px'></div>\");\n",
    "            var toolbarDiv = $(\"<div id='cyToolbarDiv' style='height: 30px; width: 1000px'></div>\");\n",
    "            var cyDiv = $(\"<div id='cyDiv' style='height: 870px; width: 1000px'></div>\");\n",
    "            outerDiv.append(toolbarDiv);\n",
    "            outerDiv.append(cyDiv);\n",
    "            var cyWidget = this;\n",
    "            var fitButton = $(\"<button>Fit</button>\").click(function(){\n",
    "                console.log(\"Fit!\");\n",
    "                console.log(\"fitButton's notion of this:\")\n",
    "                console.log(cyWidget.cy);\n",
    "                cyWidget.cy.fit(50);\n",
    "               });\n",
    "            toolbarDiv.append(fitButton);\n",
    "            var fitSelectedButton = $(\"<button>Fit Selected</button>\").click(function(){\n",
    "                var selectedNodes = cyWidget.cy.filter('node:selected');\n",
    "                if(selectedNodes.length > 0){\n",
    "                   cyWidget.cy.fit(selectedNodes, 50);\n",
    "                   }\n",
    "               });\n",
    "            toolbarDiv.append(fitSelectedButton);\n",
    "            var sfnButton = $(\"<button>SFN</button>\").click(function(){\n",
    "               cyWidget.cy.nodes(':selected').neighborhood().nodes().select()\n",
    "               });\n",
    "            toolbarDiv.append(sfnButton);\n",
    "            var clearButton = $(\"<button>Clear</button>\").click(function(){\n",
    "               cyWidget.cy.nodes().unselect();\n",
    "               cyWidget.cy.edges().unselect();\n",
    "               });\n",
    "            toolbarDiv.append(clearButton);\n",
    "            return(outerDiv);\n",
    "           },\n",
    " \n",
    "        \n",
    "        createCanvas: function(){\n",
    "            var cyjsWidget = this;\n",
    "            console.log(\"createCanvas notion of this:\")\n",
    "            console.log(cyjsWidget);\n",
    "            this.cy = cytoscape({\n",
    "               container: document.getElementById('cyDiv'),\n",
    "               //elements: {\n",
    "               //nodes: [\n",
    "               //  {data: {id: 'a', name: 'Node A', type: 'big' }},\n",
    "               //  {data: {id: 'b', name: 'Node B', type: 'little'}},\n",
    "               //  ],\n",
    "              //edges: [\n",
    "              //  {data: {source: 'a', target: 'b'}},\n",
    "              //         {data: {source: 'b', target: 'a'}}\n",
    "              // ]},\n",
    "          ready: function(){\n",
    "            console.log(\"small cyjs network ready\");\n",
    "            console.log(\"ready's notion of this:\")\n",
    "            console.log(this);\n",
    "            cyjsWidget.cy = this;\n",
    "            window.cy = this;  // for easy debugging\n",
    "            console.log(\"ready's notion of cyjsWidget:\")\n",
    "            console.log(cyjsWidget);\n",
    "            console.log(\"calling this.fit\")\n",
    "            //cyWidget.cy.fit(100);\n",
    "            console.log(\"--- about to call loadGraph\")\n",
    "            cyjsWidget.loadGraph(\"priyanka.json\");\n",
    "            cyjsWidget.loadStyle(\"style.js\");\n",
    "            console.log(\"    back from loadGraph\")\n",
    "            cyjsWidget.cy.on(\"select\", function(x){\n",
    "                var selectedNodeCount = cyjsWidget.cy.nodes(\":selected\").length;\n",
    "                var selectedEdgeCount = cyjsWidget.cy.edges(\":selected\").length;\n",
    "                console.log(\"selected nodes: \" + selectedNodeCount);\n",
    "                console.log(\"selected edges:\" + selectedEdgeCount);\n",
    "                });\n",
    "            cyjsWidget.cy.on(\"unselect\", function(x){\n",
    "                var selectedNodeCount = cyjsWidget.cy.nodes(\":selected\").length;\n",
    "                var selectedEdgeCount = cyjsWidget.cy.edges(\":selected\").length;\n",
    "                console.log(\"selected nodes: \" + selectedNodeCount);\n",
    "                console.log(\"selected edges:\" + selectedEdgeCount);\n",
    "                });\n",
    "            } // ready\n",
    "           })},\n",
    "\n",
    "        loadStyle: function(filename){\n",
    "           var cyObj = this.cy;\n",
    "           console.log(\"cyjsWidget.loadStyle: \" + filename)\n",
    "           console.log(\"loadStyle's notion of this:\");\n",
    "           console.log(this);\n",
    "           console.log(\"loadStyle's notion of cy:\");\n",
    "           console.log(cyObj);\n",
    "           var str = window.location.href;\n",
    "           var url = str.substr(0, str.lastIndexOf(\"/\")) + \"/\" + filename;\n",
    "           url = url.replace(\"/notebooks/\", \"/files/\");\n",
    "           console.log(\"about to getScript: \" + url);\n",
    "           $.getScript(url)\n",
    "              .done(function(script, textStatus) {\n",
    "                 console.log(textStatus);\n",
    "                 cyObj.style(vizmap);\n",
    "                 })\n",
    "             .fail(function( jqxhr, settings, exception ) {\n",
    "                console.log(\"getScript error trying to read \" + filename);\n",
    "                console.log(\"exception: \");\n",
    "                console.log(exception);\n",
    "                });\n",
    "          },\n",
    "        \n",
    "        loadGraph: function(filename){\n",
    "           console.log(\"entering loadGraph\");\n",
    "           var cyObj = this.cy;\n",
    "              // the robust url of a file in the same directory as the notebook is\n",
    "              // str.substring(0, str.lastIndexOf(\"/\"));\n",
    "           var str = window.location.href;\n",
    "           var url = str.substr(0, str.lastIndexOf(\"/\")) + \"/\" + filename;\n",
    "           url = url.replace(\"/notebooks/\", \"/files/\");\n",
    "           console.log(\"=== about to getScript on \" + url);\n",
    "           $.getScript(url)\n",
    "              .done(function(script, textStatus) {\n",
    "                 console.log(\"getScript: \" + textStatus);\n",
    "                 console.log(\"nodes: \" + network.elements.nodes.length);\n",
    "                 if(typeof(network.elements.edges) != \"undefined\")\n",
    "                    console.log(\"edges: \" + network.elements.edges.length);\n",
    "                cyObj.add(network.elements);  // no positions yet\n",
    "                cyObj.nodes().map(function(node){node.data({degree: node.degree()})});\n",
    "                cyObj.fit(150);\n",
    "                }) // .done\n",
    "            .fail(function(jqxhr, settings, exception) {\n",
    "               console.log(\"addNetwork getscript error trying to read \" + filename);\n",
    "               });\n",
    "           },\n",
    "        \n",
    "        render: function() { \n",
    "            console.log(\"entering render\")\n",
    "            this.$el.append(this.createDiv());\n",
    "            this.listenTo(this.model, 'change:frameWidth', this.frameDimensionsChanged, this);\n",
    "            this.listenTo(this.model, 'change:frameHeight', this.frameDimensionsChanged, this);\n",
    "            this.listenTo(this.model, 'change:msgFromKernel', this.dispatchRequest, this);\n",
    "            var cyjsWidget = this;\n",
    "            function myFunc(){\n",
    "               cyjsWidget.createCanvas()\n",
    "               }\n",
    "            setTimeout(myFunc, 500);\n",
    "            },\n",
    "\n",
    "        dispatchRequest: function(){\n",
    "           console.log(\"dispatchRequest\");\n",
    "           var msgRaw = this.model.get(\"msgFromKernel\");\n",
    "           var msg = JSON.parse(msgRaw);\n",
    "           console.log(msg);\n",
    "           console.log(\"========================\");\n",
    "           console.log(this);\n",
    "           switch(msg.cmd) {\n",
    "              case 'fit':\n",
    "                 var margin = msg.payload;\n",
    "                 console.log(\"fit with margin: \" + margin)\n",
    "                 this.cy.fit(margin);\n",
    "                 break;\n",
    "              case 'getSelectedNodes':\n",
    "                 var selectedNodes = this.cy.filter(\"node:selected\").map(function(node){ \n",
    "                     return node.data().id});\n",
    "                  console.log(\"-- found these selected nodes: \");\n",
    "                  console.log(selectedNodes);\n",
    "                  var jsonString = JSON.stringify({cmd: \"storeSelectedNodes\",\n",
    "                                                status: \"reply\",\n",
    "                                                callback: \"\",\n",
    "                                                payload: selectedNodes})\n",
    "                  console.log(\" *** jsonString: \")\n",
    "                  console.log(jsonString);\n",
    "                  this.model.set(\"msgFromBrowser\", jsonString);\n",
    "                  console.log(\"    after setting 'msgFromBrowser\");\n",
    "                  this.touch();\n",
    "                  break;\n",
    "               case 'selectNodes':\n",
    "                  var nodeIDs = msg.payload;\n",
    "                  console.log(\"--- selecting these nodes: \" + nodeIDs);\n",
    "                  if(typeof(nodeIDs) == \"string\")\n",
    "                     nodeIDs = [nodeIDs];\n",
    "                 var filterStrings = [];\n",
    "                 for(var i=0; i < nodeIDs.length; i++){\n",
    "                   var s = '[id=\"' + nodeIDs[i] + '\"]';\n",
    "                   filterStrings.push(s);\n",
    "                   } // for i\n",
    "                var nodesToSelect = this.cy.nodes(filterStrings.join());\n",
    "                nodesToSelect.select()\n",
    "                break;\n",
    "              case 'clearSelection':\n",
    "                 this.cy.nodes().unselect();\n",
    "                 break;\n",
    "            default:\n",
    "               console.log(\"unrecognized msg.cmd: \" + msg.cmd);\n",
    "             } // switch\n",
    "           console.log(\"CONCLUDING dispatchRequest\")\n",
    "           }, \n",
    "        \n",
    "        frameDimensionsChanged: function(){\n",
    "           console.log(\"frameDimensionsChanged\")\n",
    "           var newWidth  = this.model.get(\"frameWidth\");\n",
    "           var newHeight = this.model.get(\"frameHeight\");\n",
    "           console.log(\"frame: \" + newWidth + \" x \" + newHeight);\n",
    "           $(\"#cyOuterDiv\").width(newWidth);\n",
    "           $(\"#cyOuterDiv\").height(newHeight);\n",
    "           $(\"#cyToolbarDiv\").width(newWidth);\n",
    "           $(\"#cyDiv\").width(newWidth);\n",
    "           $(\"#cyDiv\").height(newHeight - $(\"#cyToolbarDiv\").height());\n",
    "           }, \n",
    "        \n",
    "        events: {\n",
    "           //\"click #svg\": \"changeHandler\"\n",
    "           }\n",
    "\n",
    "    });\n",
    "    return {\n",
    "        CyjsView: CyjsView\n",
    "    };\n",
    "});"
   ]
  },
  {
   "cell_type": "code",
   "execution_count": 11,
   "metadata": {
    "collapsed": false
   },
   "outputs": [],
   "source": [
    "cy = cyjsWidget()\n",
    "#cy"
   ]
  },
  {
   "cell_type": "code",
   "execution_count": 12,
   "metadata": {
    "collapsed": false
   },
   "outputs": [
    {
     "data": {
      "application/vnd.jupyter.widget": "e03de293d4fb49f48565080a7f510d6f"
     },
     "metadata": {},
     "output_type": "display_data"
    }
   ],
   "source": [
    "display(cy)"
   ]
  },
  {
   "cell_type": "code",
   "execution_count": 13,
   "metadata": {
    "collapsed": false
   },
   "outputs": [],
   "source": [
    "cy.clearSelection()"
   ]
  },
  {
   "cell_type": "code",
   "execution_count": 14,
   "metadata": {
    "collapsed": false
   },
   "outputs": [
    {
     "name": "stdout",
     "output_type": "stream",
     "text": [
      "None\n"
     ]
    }
   ],
   "source": [
    "print(cy.getSelectedNodes())"
   ]
  },
  {
   "cell_type": "code",
   "execution_count": 15,
   "metadata": {
    "collapsed": false
   },
   "outputs": [
    {
     "name": "stdout",
     "output_type": "stream",
     "text": [
      "initial status message\n",
      "entering getSelectedNodes\n",
      "msgFromBrowser has arrived: 1480541340.915815\n",
      "\n"
     ]
    }
   ],
   "source": [
    "print(cy.status)"
   ]
  },
  {
   "cell_type": "code",
   "execution_count": 232,
   "metadata": {
    "collapsed": true
   },
   "outputs": [],
   "source": [
    "time.sleep(1)"
   ]
  },
  {
   "cell_type": "code",
   "execution_count": 233,
   "metadata": {
    "collapsed": false
   },
   "outputs": [],
   "source": [
    "# cy.getResponse()"
   ]
  },
  {
   "cell_type": "code",
   "execution_count": 234,
   "metadata": {
    "collapsed": false
   },
   "outputs": [],
   "source": [
    "# cy.getFullResponse()"
   ]
  },
  {
   "cell_type": "code",
   "execution_count": 235,
   "metadata": {
    "collapsed": true
   },
   "outputs": [],
   "source": [
    "cy.selectNodes([\"MAG\", \"PLD2\"])"
   ]
  },
  {
   "cell_type": "code",
   "execution_count": 236,
   "metadata": {
    "collapsed": true
   },
   "outputs": [],
   "source": [
    "# cy.getSelectedNodes()"
   ]
  },
  {
   "cell_type": "code",
   "execution_count": 237,
   "metadata": {
    "collapsed": false
   },
   "outputs": [],
   "source": [
    "# cy.getResponse()"
   ]
  },
  {
   "cell_type": "code",
   "execution_count": 28,
   "metadata": {
    "collapsed": false
   },
   "outputs": [],
   "source": [
    "import IPython, zmq\n",
    "ipython = IPython.get_ipython()\n",
    "hasattr(ipython, 'kernel')\n",
    "ioloop = zmq.eventloop.ioloop.IOLoop.instance()"
   ]
  },
  {
   "cell_type": "code",
   "execution_count": 29,
   "metadata": {
    "collapsed": false
   },
   "outputs": [
    {
     "data": {
      "text/plain": [
       "<zmq.eventloop.ioloop.ZMQIOLoop at 0x103bd5630>"
      ]
     },
     "execution_count": 29,
     "metadata": {},
     "output_type": "execute_result"
    }
   ],
   "source": [
    "ioloop"
   ]
  },
  {
   "cell_type": "code",
   "execution_count": 34,
   "metadata": {
    "collapsed": true
   },
   "outputs": [],
   "source": [
    "def work():\n",
    "    for i in range(10):\n",
    "        def update_progress(i=i):\n",
    "            print(\"calling from thread\", threading.currentThread())\n",
    "        print(i)\n",
    "        time.sleep(0.5)\n",
    "        ioloop.add_callback(update_progress)\n"
   ]
  },
  {
   "cell_type": "code",
   "execution_count": 35,
   "metadata": {
    "collapsed": false
   },
   "outputs": [],
   "source": [
    "import threading\n",
    "thread = threading.Thread(target=work)"
   ]
  },
  {
   "cell_type": "code",
   "execution_count": 36,
   "metadata": {
    "collapsed": false
   },
   "outputs": [
    {
     "name": "stdout",
     "output_type": "stream",
     "text": [
      "0\n",
      "1\n",
      "calling from thread <_MainThread(MainThread, started 140735095894016)>\n",
      "2calling from thread <_MainThread(MainThread, started 140735095894016)>\n",
      "\n",
      "3\n",
      "calling from thread <_MainThread(MainThread, started 140735095894016)>\n",
      "4\n",
      "calling from thread <_MainThread(MainThread, started 140735095894016)>\n",
      "5\n",
      "calling from thread <_MainThread(MainThread, started 140735095894016)>\n",
      "6\n",
      "calling from thread <_MainThread(MainThread, started 140735095894016)>\n",
      "7\n",
      "calling from thread <_MainThread(MainThread, started 140735095894016)>\n",
      "8\n",
      "calling from thread <_MainThread(MainThread, started 140735095894016)>\n",
      "9\n",
      "calling from thread <_MainThread(MainThread, started 140735095894016)>\n",
      "calling from thread <_MainThread(MainThread, started 140735095894016)>\n"
     ]
    }
   ],
   "source": [
    "thread.start()"
   ]
  },
  {
   "cell_type": "code",
   "execution_count": 37,
   "metadata": {
    "collapsed": false
   },
   "outputs": [
    {
     "data": {
      "application/json": {
       "cell": {
        "!": "OSMagics",
        "HTML": "Other",
        "SVG": "Other",
        "bash": "Other",
        "capture": "ExecutionMagics",
        "debug": "ExecutionMagics",
        "file": "Other",
        "html": "DisplayMagics",
        "javascript": "DisplayMagics",
        "latex": "DisplayMagics",
        "perl": "Other",
        "prun": "ExecutionMagics",
        "pypy": "Other",
        "python": "Other",
        "python2": "Other",
        "python3": "Other",
        "ruby": "Other",
        "script": "ScriptMagics",
        "sh": "Other",
        "svg": "DisplayMagics",
        "sx": "OSMagics",
        "system": "OSMagics",
        "time": "ExecutionMagics",
        "timeit": "ExecutionMagics",
        "writefile": "OSMagics"
       },
       "line": {
        "alias": "OSMagics",
        "alias_magic": "BasicMagics",
        "autocall": "AutoMagics",
        "automagic": "AutoMagics",
        "autosave": "KernelMagics",
        "bookmark": "OSMagics",
        "cat": "Other",
        "cd": "OSMagics",
        "clear": "KernelMagics",
        "colors": "BasicMagics",
        "config": "ConfigMagics",
        "connect_info": "KernelMagics",
        "cp": "Other",
        "debug": "ExecutionMagics",
        "dhist": "OSMagics",
        "dirs": "OSMagics",
        "doctest_mode": "BasicMagics",
        "ed": "Other",
        "edit": "KernelMagics",
        "env": "OSMagics",
        "gui": "BasicMagics",
        "hist": "Other",
        "history": "HistoryMagics",
        "install_default_config": "DeprecatedMagics",
        "install_ext": "ExtensionMagics",
        "install_profiles": "DeprecatedMagics",
        "killbgscripts": "ScriptMagics",
        "ldir": "Other",
        "less": "KernelMagics",
        "lf": "Other",
        "lk": "Other",
        "ll": "Other",
        "load": "CodeMagics",
        "load_ext": "ExtensionMagics",
        "loadpy": "CodeMagics",
        "logoff": "LoggingMagics",
        "logon": "LoggingMagics",
        "logstart": "LoggingMagics",
        "logstate": "LoggingMagics",
        "logstop": "LoggingMagics",
        "ls": "Other",
        "lsmagic": "BasicMagics",
        "lx": "Other",
        "macro": "ExecutionMagics",
        "magic": "BasicMagics",
        "man": "KernelMagics",
        "matplotlib": "PylabMagics",
        "mkdir": "Other",
        "more": "KernelMagics",
        "mv": "Other",
        "notebook": "BasicMagics",
        "page": "BasicMagics",
        "pastebin": "CodeMagics",
        "pdb": "ExecutionMagics",
        "pdef": "NamespaceMagics",
        "pdoc": "NamespaceMagics",
        "pfile": "NamespaceMagics",
        "pinfo": "NamespaceMagics",
        "pinfo2": "NamespaceMagics",
        "popd": "OSMagics",
        "pprint": "BasicMagics",
        "precision": "BasicMagics",
        "profile": "BasicMagics",
        "prun": "ExecutionMagics",
        "psearch": "NamespaceMagics",
        "psource": "NamespaceMagics",
        "pushd": "OSMagics",
        "pwd": "OSMagics",
        "pycat": "OSMagics",
        "pylab": "PylabMagics",
        "qtconsole": "KernelMagics",
        "quickref": "BasicMagics",
        "recall": "HistoryMagics",
        "rehashx": "OSMagics",
        "reload_ext": "ExtensionMagics",
        "rep": "Other",
        "rerun": "HistoryMagics",
        "reset": "NamespaceMagics",
        "reset_selective": "NamespaceMagics",
        "rm": "Other",
        "rmdir": "Other",
        "run": "ExecutionMagics",
        "save": "CodeMagics",
        "sc": "OSMagics",
        "set_env": "OSMagics",
        "store": "StoreMagics",
        "sx": "OSMagics",
        "system": "OSMagics",
        "tb": "ExecutionMagics",
        "time": "ExecutionMagics",
        "timeit": "ExecutionMagics",
        "unalias": "OSMagics",
        "unload_ext": "ExtensionMagics",
        "who": "NamespaceMagics",
        "who_ls": "NamespaceMagics",
        "whos": "NamespaceMagics",
        "xdel": "NamespaceMagics",
        "xmode": "BasicMagics"
       }
      },
      "text/plain": [
       "Available line magics:\n",
       "%alias  %alias_magic  %autocall  %automagic  %autosave  %bookmark  %cat  %cd  %clear  %colors  %config  %connect_info  %cp  %debug  %dhist  %dirs  %doctest_mode  %ed  %edit  %env  %gui  %hist  %history  %install_default_config  %install_ext  %install_profiles  %killbgscripts  %ldir  %less  %lf  %lk  %ll  %load  %load_ext  %loadpy  %logoff  %logon  %logstart  %logstate  %logstop  %ls  %lsmagic  %lx  %macro  %magic  %man  %matplotlib  %mkdir  %more  %mv  %notebook  %page  %pastebin  %pdb  %pdef  %pdoc  %pfile  %pinfo  %pinfo2  %popd  %pprint  %precision  %profile  %prun  %psearch  %psource  %pushd  %pwd  %pycat  %pylab  %qtconsole  %quickref  %recall  %rehashx  %reload_ext  %rep  %rerun  %reset  %reset_selective  %rm  %rmdir  %run  %save  %sc  %set_env  %store  %sx  %system  %tb  %time  %timeit  %unalias  %unload_ext  %who  %who_ls  %whos  %xdel  %xmode\n",
       "\n",
       "Available cell magics:\n",
       "%%!  %%HTML  %%SVG  %%bash  %%capture  %%debug  %%file  %%html  %%javascript  %%latex  %%perl  %%prun  %%pypy  %%python  %%python2  %%python3  %%ruby  %%script  %%sh  %%svg  %%sx  %%system  %%time  %%timeit  %%writefile\n",
       "\n",
       "Automagic is ON, % prefix IS NOT needed for line magics."
      ]
     },
     "execution_count": 37,
     "metadata": {},
     "output_type": "execute_result"
    }
   ],
   "source": [
    "%lsmagic"
   ]
  },
  {
   "cell_type": "code",
   "execution_count": 39,
   "metadata": {
    "collapsed": false
   },
   "outputs": [
    {
     "data": {
      "text/plain": [
       "['network.json',\n",
       " 'out_file.html',\n",
       " 'simple.ipynb',\n",
       " 'style.js',\n",
       " 'waitOnBrowserResponse.ipynb']"
      ]
     },
     "execution_count": 39,
     "metadata": {},
     "output_type": "execute_result"
    }
   ],
   "source": [
    "%system ls\n"
   ]
  },
  {
   "cell_type": "code",
   "execution_count": null,
   "metadata": {
    "collapsed": false
   },
   "outputs": [
    {
     "name": "stdout",
     "output_type": "stream",
     "text": [
      "> \u001b[0;32m<ipython-input-31-4be24dfd3ef9>\u001b[0m(1)\u001b[0;36m<module>\u001b[0;34m()\u001b[0m\n",
      "\u001b[0;32m----> 1 \u001b[0;31m\u001b[0mthread\u001b[0m \u001b[0;34m=\u001b[0m \u001b[0mthreading\u001b[0m\u001b[0;34m.\u001b[0m\u001b[0mThread\u001b[0m\u001b[0;34m(\u001b[0m\u001b[0mtarget\u001b[0m\u001b[0;34m=\u001b[0m\u001b[0mwork\u001b[0m\u001b[0;34m)\u001b[0m\u001b[0;34m\u001b[0m\u001b[0m\n",
      "\u001b[0m\n",
      "ipdb> 2 + 2\n",
      "4\n"
     ]
    }
   ],
   "source": [
    "%debug"
   ]
  },
  {
   "cell_type": "code",
   "execution_count": null,
   "metadata": {
    "collapsed": true
   },
   "outputs": [],
   "source": []
  }
 ],
 "metadata": {
  "kernelspec": {
   "display_name": "Python 3",
   "language": "python",
   "name": "python3"
  },
  "language_info": {
   "codemirror_mode": {
    "name": "ipython",
    "version": 3
   },
   "file_extension": ".py",
   "mimetype": "text/x-python",
   "name": "python",
   "nbconvert_exporter": "python",
   "pygments_lexer": "ipython3",
   "version": "3.5.2"
  }
 },
 "nbformat": 4,
 "nbformat_minor": 0
}

{
 "cells": [
  {
   "cell_type": "code",
   "execution_count": 33,
   "metadata": {},
   "outputs": [
    {
     "data": {
      "application/javascript": [
       "require.config({\n",
       "   paths: {cytoscape: 'http://localhost:8099/js/cytoscape-2.7.10'}\n",
       "   })"
      ],
      "text/plain": [
       "<IPython.core.display.Javascript object>"
      ]
     },
     "metadata": {},
     "output_type": "display_data"
    }
   ],
   "source": [
    "%%javascript\n",
    "require.config({\n",
    "   paths: {cytoscape: 'http://localhost:8099/js/cytoscape-2.7.10'}\n",
    "   })"
   ]
  },
  {
   "cell_type": "code",
   "execution_count": 34,
   "metadata": {
    "collapsed": true
   },
   "outputs": [],
   "source": [
    "# ensure the library is available\n",
    "import requests\n",
    "r = requests.get('http://localhost:8099/js/cytoscape-2.7.10.js')\n",
    "assert(r.status_code == 200)"
   ]
  },
  {
   "cell_type": "code",
   "execution_count": 35,
   "metadata": {
    "collapsed": true
   },
   "outputs": [],
   "source": [
    "import re"
   ]
  },
  {
   "cell_type": "code",
   "execution_count": 36,
   "metadata": {
    "collapsed": true
   },
   "outputs": [],
   "source": [
    "import igraph as ig\n",
    "DEF_SCALING = 100.0\n",
    "def from_igraph(igraph_network, layout=None, scale=DEF_SCALING):\n",
    "    new_graph = {}\n",
    "    network_data = {}\n",
    "    elements = {}\n",
    "    nodes = []\n",
    "    edges = []\n",
    "    network_attr = igraph_network.attributes() # Convert network attributes\n",
    "    for key in network_attr:\n",
    "        network_data[key] = igraph_network[key]\n",
    "    edges_original = igraph_network.es # get network as a list of edges\n",
    "    nodes_original = igraph_network.vs\n",
    "    node_attr = igraph_network.vs.attributes()\n",
    "    for idx, node in enumerate(nodes_original):\n",
    "        new_node = {}\n",
    "        data = {}\n",
    "        data['id'] = str(node.index)\n",
    "        data['name'] = str(node.index)\n",
    "        for key in node_attr:\n",
    "            data[key] = node[key]\n",
    "        new_node['data'] = data\n",
    "        if layout is not None:\n",
    "            position = {}\n",
    "            position['x'] = layout[idx][0] * scale\n",
    "            position['y'] = layout[idx][1] * scale\n",
    "            new_node['position'] = position\n",
    "        nodes.append(new_node)\n",
    "    edge_attr = igraph_network.es.attributes()  # Add edges to the elements\n",
    "    for edge in edges_original:\n",
    "        new_edge = {}\n",
    "        data = {}\n",
    "        data['source'] = str(edge.source)\n",
    "        data['target'] = str(edge.target)\n",
    "        for key in edge_attr:\n",
    "            data[key] = edge[key]\n",
    "        new_edge['data'] = data\n",
    "        edges.append(new_edge)\n",
    "    elements['nodes'] = nodes\n",
    "    elements['edges'] = edges\n",
    "    new_graph['elements'] = elements\n",
    "    new_graph['data'] = network_data\n",
    "    return new_graph\n",
    "\n",
    "\n",
    "def to_igraph(network):\n",
    "\n",
    "    nodes = network['elements']['nodes']\n",
    "    edges = network['elements']['edges']\n",
    "    network_attr = network['data']\n",
    "\n",
    "    node_count = len(nodes)\n",
    "    edge_count = len(edges)\n",
    "\n",
    "    g = ig.Graph()\n",
    "\n",
    "    # Graph attributes\n",
    "    for key in network_attr.keys():\n",
    "        g[key] = network_attr[key]\n",
    "\n",
    "    g.add_vertices(nodes)\n",
    "\n",
    "    # Add node attributes\n",
    "    node_attributes = {}\n",
    "    node_id_dict = {}\n",
    "    for i, node in enumerate(nodes):\n",
    "        data = node['data']\n",
    "        for key in data.keys():\n",
    "            if key not in node_attributes:\n",
    "                node_attributes[key] = [None] * node_count\n",
    "\n",
    "            # Save index to map\n",
    "            if key == 'id':\n",
    "                node_id_dict[data[key]] = i\n",
    "\n",
    "            node_attributes[key][i] = data[key]\n",
    "\n",
    "    for key in node_attributes.keys():\n",
    "        g.vs[key] = node_attributes[key]\n",
    "\n",
    "    # Create edges\n",
    "    edge_tuples = []\n",
    "    edge_attributes = {}\n",
    "    for i, edge in enumerate(edges):\n",
    "        data = edge['data']\n",
    "        source = data['source']\n",
    "        target = data['target']\n",
    "        edge_tuple = (node_id_dict[source], node_id_dict[target])\n",
    "        edge_tuples.append(edge_tuple)\n",
    "        for key in data.keys():\n",
    "            if key not in edge_attributes:\n",
    "                edge_attributes[key] = [None] * edge_count\n",
    "\n",
    "            # Save index to map\n",
    "            edge_attributes[key][i] = data[key]\n",
    "\n",
    "    g.add_edges(edge_tuples)\n",
    "\n",
    "    # Assign edge attributes\n",
    "    for key in edge_attributes.keys():\n",
    "        if key == 'source' or key == 'target':\n",
    "            continue\n",
    "        else:\n",
    "            g.es[key] = edge_attributes[key]\n",
    "\n",
    "    return g\n"
   ]
  },
  {
   "cell_type": "code",
   "execution_count": 37,
   "metadata": {
    "collapsed": true
   },
   "outputs": [],
   "source": [
    "import ipywidgets as widgets\n",
    "import json\n",
    "import time\n",
    "import os.path\n",
    "from IPython.display import display, HTML\n",
    "from traitlets import Int, Unicode, Tuple, CInt, Dict, validate, observe\n",
    "\n",
    "class SimpleCyjsPyWidget(widgets.DOMWidget):\n",
    "    \n",
    "    _view_name = Unicode('SimpleCyjsBrowserView').tag(sync=True)\n",
    "    _view_module = Unicode('SimpleCyjsBrowserViewModule').tag(sync=True)\n",
    "    frameHeight = Int(300).tag(sync=True)\n",
    "    msgFromKernel = Unicode(\"{}\").tag(sync=True)\n",
    "    msgFromBrowser = Unicode(\"{}\").tag(sync=True)\n",
    "    _incomingMessage = {};\n",
    "    status = \"initial status message\\n\"\n",
    "    _selectedNodes = [];\n",
    "    \n",
    "        \n",
    "    def addGraph(self, g):\n",
    "      self._resetMessage();\n",
    "      gjson = from_igraph(g)\n",
    "      self.msgFromKernel = json.dumps({\"cmd\": \"addGraph\", \"status\": \"request\",\n",
    "                                       \"callback\": \"\",    \"payload\": gjson});\n",
    "     \n",
    "    def addGraphWithLayout(self, g, layout):\n",
    "      self._resetMessage();\n",
    "      gjson = from_igraph(g, layout)\n",
    "      self.msgFromKernel = json.dumps({\"cmd\": \"addGraph\", \"status\": \"request\",\n",
    "                                       \"callback\": \"\",    \"payload\": gjson});\n",
    "     \n",
    "    def deleteGraph(self):\n",
    "      self._resetMessage();\n",
    "      self.msgFromKernel = json.dumps({\"cmd\": \"deleteGraph\", \"status\": \"request\", \"callback\": \"\", \"payload\": \"\"});\n",
    "     \n",
    "    \n",
    "    def setHeight(self, newHeight):\n",
    "      self.frameHeight = newHeight\n",
    "        \n",
    "    def fitSelected(self, margin=50):\n",
    "      self.status += \"entering fitSelected (%d)\\n\" % margin\n",
    "      self.msgFromKernel = json.dumps({\"cmd\": \"fitSelected\", \"status\": \"request\", \"callback\": \"\", \"payload\": margin});\n",
    "        \n",
    "    def fit(self, margin=50):\n",
    "      self.status += \"entering fit (%d)\\n\" % margin\n",
    "      self.msgFromKernel = json.dumps({\"cmd\": \"fit\", \"status\": \"request\", \"callback\": \"\", \"payload\": margin});\n",
    "        \n",
    "    def getSelectedNodes(self):\n",
    "       return(self._selectedNodes);\n",
    "\n",
    "    def selectNodes(self, nodes):\n",
    "      self.msgFromKernel = json.dumps({\"cmd\": \"selectNodes\", \"status\": \"request\",\n",
    "                                       \"callback\": \"\", \"payload\": nodes});\n",
    "\n",
    "    def _resetMessage(self):   # ensures that any ensuing message is seen as novel in the browser\n",
    "       self.msgFromKernel = json.dumps({\"cmd\": \"cleanSlate\", \"status\": \"nop\", \"callback\": \"\", \"payload\": \"\"});\n",
    "\n",
    "\n",
    "    def availableLayouts(self):\n",
    "        return([\"grid\", \"null\", \"random\", \"cose\", \"circle\", \"concentric\", \"breadthfirst\"]);\n",
    "    \n",
    "    def setPosition(self, igraph_layout):   # the somewhat cryptic object created by igraph layouts\n",
    "      tblPos = []\n",
    "      for i in range(0, len(igraph_layout)):\n",
    "         x = igraph_layout[i][0] * 100\n",
    "         y = igraph_layout[i][1] * 100\n",
    "         tblPos.append({\"id\": i, \"x\": x, \"y\": y})\n",
    "      self._resetMessage();\n",
    "      self.msgFromKernel = json.dumps({\"cmd\": \"setPosition\", \"status\": \"request\", \"callback\": \"\", \n",
    "                                       \"payload\": tblPos});\n",
    "       \n",
    "    def loadStyleFile(self, filename):\n",
    "      if(not os.path.isfile(filename)):\n",
    "        print(\"file '%s' not found\" % filename)\n",
    "        return;\n",
    "      self._resetMessage();\n",
    "      self.msgFromKernel = json.dumps({\"cmd\": \"loadStyleFile\", \"status\": \"request\", \"callback\": \"\", \n",
    "                                       \"payload\": filename});\n",
    "        \n",
    "    def layout(self, name):\n",
    "      self._resetMessage();\n",
    "      self.msgFromKernel = json.dumps({\"cmd\": \"layout\", \"status\": \"request\", \"callback\": \"\", \"payload\": name});\n",
    "        \n",
    "        \n",
    "    def getPositions(self):\n",
    "      self._resetMessage();\n",
    "      self.msgFromKernel = json.dumps({\"cmd\": \"getPositions\", \"status\": \"request\", \"callback\": \"\", \"payload\": \"\"});\n",
    "        \n",
    "    def clearSelection(self):\n",
    "      self._resetMessage();\n",
    "      self. msgFromKernel = json.dumps({\"cmd\": \"clearSelection\", \"status\": \"request\",\n",
    "                                        \"callback\": \"\", \"payload\": \"\"});\n",
    "        \n",
    "    def setNodeAttributes(self, attributeName, nodeNames, values):\n",
    "      self._resetMessage();\n",
    "      self. msgFromKernel = json.dumps({\"cmd\": \"setNodeAttributes\", \"status\": \"request\",\n",
    "                                        \"callback\": \"\", \n",
    "                                        \"payload\": {\"attributeName\": attributeName,\n",
    "                                                    \"nodeNames\": nodeNames,\n",
    "                                                    \"values\": values}})\n",
    "\n",
    "    def setEdgeAttributes(self, attributeName, sourceNames, targetNames, edgeTypes, values):\n",
    "        # g to be a class member variable?\n",
    "        # nodeMap also, with vigilance for modification of underlying graph?\n",
    "        # id lookup a member function?\n",
    "      names = g.vs['name']\n",
    "      ids = [g.vs.find(name).index for name in g.vs['name']]\n",
    "      nodeMap = dict(zip(names, ids))\n",
    "      sourceIDs = [nodeMap[name] for name in sourceNames]\n",
    "      targetIDs = [nodeMap[name] for name in targetNames]\n",
    "      self._resetMessage(); \n",
    "      self. msgFromKernel = json.dumps({\"cmd\": \"setEdgeAttributes\", \"status\": \"request\",\n",
    "                                        \"callback\": \"\", \n",
    "                                        \"payload\": {\"attributeName\": attributeName,\n",
    "                                                    \"sourceNames\": sourceIDs,\n",
    "                                                    \"targetNames\": targetIDs,\n",
    "                                                    \"edgeTypes\": edgeTypes,\n",
    "                                                    \"values\": values}})\n",
    "\n",
    "    @observe('msgFromBrowser')\n",
    "    def msg_arrived(self, change):\n",
    "       self.status += \"msgFromBrowser has arrived: %f\\n\" % time.time()\n",
    "       rawMessage = change['new']\n",
    "       self._incomingMessage = json.loads(rawMessage)\n",
    "       cmd = self._incomingMessage[\"cmd\"]\n",
    "       self.status += \"msg: %s\\n\"  % cmd\n",
    "       if(cmd == \"updateSelectedNodes\"):\n",
    "          self._selectedNodes = self._incomingMessage[\"payload\"]\n",
    "         \n",
    "    def getResponse(self):\n",
    "       return(self._incomingMessage[\"payload\"])\n",
    "\n",
    "    def getFullResponse(self):\n",
    "       return(self._incomingMessage)\n",
    "        "
   ]
  },
  {
   "cell_type": "code",
   "execution_count": 38,
   "metadata": {},
   "outputs": [
    {
     "data": {
      "text/html": [
       "\n",
       "<style>\n",
       "    div#notebook-container    { width: 95%; }\n",
       "    div#menubar-container     { width: 65%; }\n",
       "    div#maintoolbar-container { width: 99%; }\n",
       "</style>\n"
      ],
      "text/plain": [
       "<IPython.core.display.HTML object>"
      ]
     },
     "metadata": {},
     "output_type": "display_data"
    }
   ],
   "source": [
    "display(HTML(data=\"\"\"\n",
    "<style>\n",
    "    div#notebook-container    { width: 95%; }\n",
    "    div#menubar-container     { width: 65%; }\n",
    "    div#maintoolbar-container { width: 99%; }\n",
    "</style>\n",
    "\"\"\"))"
   ]
  },
  {
   "cell_type": "raw",
   "metadata": {
    "collapsed": true
   },
   "source": [
    "%%javascript\n",
    "\"use strict\";\n",
    "\n",
    "require.undef('SimpleCyjsBrowserViewModule');\n",
    "\n",
    "define('SimpleCyjsBrowserViewModule', [\"jupyter-js-widgets\", \"cytoscape\"], function(widgets, cytoscape) {\n",
    "    \n",
    "    var SimpleCyjsBrowserView = widgets.DOMWidgetView.extend({\n",
    "\n",
    "        initialize: function() {\n",
    "           console.log(\"constructing SimpleCyjsBrowserView\");\n",
    "           this.frameHeight = \"300px\";\n",
    "           this.options = {}; \n",
    "           this.msg = \"empty in javascript\";\n",
    "           this.msgFromKernel = \"\";\n",
    "           },\n",
    "\n",
    "        resizeHandler: function(){\n",
    "           console.log(\"****** resizeHandler\");\n",
    "           console.log(\"resizeHandler, width: \" + $(\"#cyOuterDiv\").width());\n",
    "           console.log(\"        parent width:\" + $(\"#cyOuterDiv\").parent().width());\n",
    "           this.size.resize();\n",
    "           //var currentWidgetWidth = $(\"#cyOuterDiv\").width()\n",
    "           //console.log(\"SimpleCyjsBrowserVIEW resizeHandler, outerDiv: \" + currentWidgetWidth);\n",
    "           },\n",
    "\n",
    "        createDiv: function(){\n",
    "            var outerDiv = $(\"<div id='cyOuterDiv' style='border:1px solid gray; height: 400px; width: 97%'></div>\");\n",
    "            var toolbarDiv = $(\"<div id='cyToolbarDiv' style='height: 30px; width: 97%'></div>\");\n",
    "            var cyDiv = $(\"<div id='cyDiv' style='height: 100%; width: 97%'></div>\");\n",
    "            outerDiv.append(toolbarDiv);\n",
    "            outerDiv.append(cyDiv);\n",
    "            var cyWidget = this;\n",
    "            var fitButton = $(\"<button>Fit</button>\").click(function(){\n",
    "                cyWidget.cy.fit(50);\n",
    "               });\n",
    "            toolbarDiv.append(fitButton);\n",
    "            var fitSelectedButton = $(\"<button>Fit Selected</button>\").click(function(){\n",
    "                var selectedNodes = cyWidget.cy.filter('node:selected');\n",
    "                if(selectedNodes.length > 0){\n",
    "                   cyWidget.cy.fit(selectedNodes, 50);\n",
    "                   }\n",
    "               });\n",
    "            toolbarDiv.append(fitSelectedButton);\n",
    "            var sfnButton = $(\"<button>SFN</button>\").click(function(){\n",
    "               cyWidget.cy.nodes(':selected').neighborhood().nodes().select()\n",
    "               });\n",
    "            toolbarDiv.append(sfnButton);\n",
    "            var clearButton = $(\"<button>Clear</button>\").click(function(){\n",
    "               cyWidget.cy.nodes().unselect();\n",
    "               cyWidget.cy.edges().unselect();\n",
    "               });\n",
    "            toolbarDiv.append(clearButton);\n",
    "            var saveLayoutButton = $(\"<button>Save Layout</button>\").click(function(){\n",
    "               var positions = cy.nodes().map(function(n){\n",
    "                     return({id: n.id(), name: n.data(\"name\"), x: n.position().x, y: n.position().y})});\n",
    "               var jsonString = JSON.stringify({cmd: \"updatePositions\",\n",
    "                                                status: \"request\",\n",
    "                                                callback: \"\",\n",
    "                                                payload: positions});\n",
    "               console.log(jsonString);\n",
    "               cyWidget.model.set(\"msgFromBrowser\", jsonString);\n",
    "               console.log(\"    after setting 'msgFromBrowser\");\n",
    "                  cyWidget.touch();\n",
    "                });\n",
    "            toolbarDiv.append(saveLayoutButton);\n",
    "            //$(window).resize(this.resizeHandler);\n",
    "            return(outerDiv);\n",
    "           },\n",
    " \n",
    "        \n",
    "        createCanvas: function(){\n",
    "            var cyjsWidget = this;\n",
    "            this.cy = cytoscape({\n",
    "               container: document.getElementById('cyDiv'),\n",
    "               layout: {name: 'preset'},\n",
    "          ready: function(){\n",
    "            cyjsWidget.cy = this;\n",
    "            window.cy = this;  // for easy debugging\n",
    "            cyjsWidget.loadStyle(\"style.js\");\n",
    "            cyjsWidget.cy.on(\"select\", function(){\n",
    "               console.log(\"calling updateSelectionToKernel, on select\");\n",
    "               cyjsWidget.updateSelectionToKernel(cyjsWidget);\n",
    "               });\n",
    "            cyjsWidget.cy.on(\"unselect\", function(){\n",
    "               console.log(\"calling updateSelectionToKernel, on unselect\");\n",
    "               cyjsWidget.updateSelectionToKernel(cyjsWidget);\n",
    "               });\n",
    "            } // ready\n",
    "           })},\n",
    "\n",
    "        updateSelectionToKernel: function(cyjsWidget){\n",
    "           console.log(\"*** entering updateSelectionToKernel\") \n",
    "           var selectedNodes = cyjsWidget.cy.nodes(\":selected\");\n",
    "           var selectedNodeIDs = selectedNodes.map(function(n){return (n.data(\"name\") )})\n",
    "           var selectedEdges = cyjsWidget.cy.edges(\":selected\");\n",
    "           var selectedNodeCount = selectedNodes.length;\n",
    "           var selectedEdgeCount = selectedEdges.length;\n",
    "           console.log(\"selected nodes: \" + selectedNodeCount);\n",
    "           console.log(\"selected edGes:\" + selectedEdgeCount);\n",
    "           var jsonString = JSON.stringify({cmd: \"updateSelectedNodes\",\n",
    "                                            status: \"request\",\n",
    "                                            callback: \"\",\n",
    "                                            payload: selectedNodeIDs});\n",
    "           console.log(\" *** jsonString: \")\n",
    "           console.log(jsonString);\n",
    "           cyjsWidget.model.set(\"msgFromBrowser\", jsonString);\n",
    "           console.log(\"    after setting 'msgFromBrowser\");\n",
    "           cyjsWidget.touch();\n",
    "           },\n",
    "        \n",
    "        loadStyle: function(filename){\n",
    "           var cyObj = this.cy;\n",
    "           var str = window.location.href;\n",
    "           var url = str.substr(0, str.lastIndexOf(\"/\")) + \"/\" + filename;\n",
    "           url = url.replace(\"/notebooks/\", \"/files/\");\n",
    "           $.getScript(url)\n",
    "              .done(function(script, textStatus) {\n",
    "                 console.log(textStatus);\n",
    "                 cyObj.style(vizmap);\n",
    "                 })\n",
    "             .fail(function( jqxhr, settings, exception ) {\n",
    "                console.log(\"getScript error trying to read \" + filename);\n",
    "                console.log(\"exception: \");\n",
    "                console.log(exception);\n",
    "                });\n",
    "          },\n",
    "        \n",
    "        loadGraph: function(filename){\n",
    "           var cyObj = this.cy;\n",
    "              // the robust url of a file in the same directory as the notebook is\n",
    "              // str.substring(0, str.lastIndexOf(\"/\"));\n",
    "           var str = window.location.href;\n",
    "           var url = str.substr(0, str.lastIndexOf(\"/\")) + \"/\" + filename;\n",
    "           url = url.replace(\"/notebooks/\", \"/files/\");\n",
    "           $.getScript(url)\n",
    "              .done(function(script, textStatus) {\n",
    "                 console.log(\"getScript: \" + textStatus);\n",
    "                 console.log(\"nodes: \" + network.elements.nodes.length);\n",
    "                 if(typeof(network.elements.edges) != \"undefined\")\n",
    "                    console.log(\"edges: \" + network.elements.edges.length);\n",
    "                cyObj.add(network.elements);  // no positions yet\n",
    "                cyObj.nodes().map(function(node){node.data({degree: node.degree()})});\n",
    "                cyObj.layout({\"name\": \"grid\"});\n",
    "                cyObj.fit(150);\n",
    "                }) // .done\n",
    "            .fail(function(jqxhr, settings, exception) {\n",
    "               console.log(\"addNetwork getscript error trying to read \" + filename);\n",
    "               });\n",
    "           },\n",
    "        \n",
    "        render: function() { \n",
    "            console.log(\"entering render\");\n",
    "            $(window).resize(this.resizeHandler);\n",
    "            this.$el.append(this.createDiv());\n",
    "            this.listenTo(this.model, 'change:frameHeight', this.heightChanged, this);\n",
    "            this.listenTo(this.model, 'change:msgFromKernel', this.dispatchRequest, this);\n",
    "            var cyjsWidget = this;\n",
    "            function myFunc(){\n",
    "               cyjsWidget.createCanvas()\n",
    "               }\n",
    "            setTimeout(myFunc, 500);\n",
    "            },\n",
    "\n",
    "        setNodeAttributes: function(attributeName, nodeNames, values){\n",
    "          for(var i=0; i < nodeNames.length; i++){\n",
    "             var name = nodeNames[i];\n",
    "             var newValue = values[i];\n",
    "             var filterString = \"[name='\" + name + \"']\";\n",
    "             console.log(\"filterString: \" + filterString);\n",
    "             console.log(\"nodeName: \" + name + \"   value: \" + newValue);\n",
    "             var dataObj = this.cy.nodes().filter(filterString).data();\n",
    "             Object.defineProperty(dataObj, attributeName, {value: newValue});\n",
    "             }// for i\n",
    "         }, // setNodeAttributes\n",
    "        \n",
    "        setEdgeAttributes: function(attributeName, sourceNodes, targetNodes, edgeTypes, attributeValues){\n",
    "            for(var i=0; i < sourceNodes.length; i++){\n",
    "              var selectorString = \"edge[source='\" + sourceNodes[i] + \"'][target='\" + targetNodes[i] +\n",
    "                                   \"'][edgeType='\" + edgeTypes[i] + \"']\";\n",
    "              console.log(selectorString);\n",
    "              console.log(\"eda value: \" + attributeValues[i]);\n",
    "              var dataObj = cy.edges().filter(selectorString).data();\n",
    "              if(dataObj != undefined){\n",
    "                 Object.defineProperty(dataObj, attributeName, \n",
    "                                       {value: attributeValues[i], configurable: true});\n",
    "                 }                  \n",
    "             } // for i\n",
    "          }, // setEdgeAttributes\n",
    "       \n",
    "        dispatchRequest: function(){\n",
    "           console.log(\"dispatchRequest\");\n",
    "           var msgRaw = this.model.get(\"msgFromKernel\");\n",
    "           var msg = JSON.parse(msgRaw);\n",
    "           console.log(msg);\n",
    "           console.log(\"========================\");\n",
    "           switch(msg.cmd) {\n",
    "              case 'deleteGraph':\n",
    "                this.cy.edges().remove();\n",
    "                this.cy.nodes().remove();\n",
    "                break;\n",
    "              case 'addGraph':\n",
    "                 var g = msg.payload;\n",
    "                 console.log(\"addGraph request\")\n",
    "                 console.log(g)\n",
    "                 this.cy.add(g.elements)\n",
    "                 break;\n",
    "              case 'layout':\n",
    "                 var layoutName = msg.payload;\n",
    "                 this.cy.layout({\"name\": layoutName})\n",
    "                 break;\n",
    "              case 'setPosition':\n",
    "                var positionObjects = msg.payload;\n",
    "                console.log(\"calling setPosition map\");\n",
    "                positionObjects.map(function(e){\n",
    "                  var tag=\"[id='\" + e.id + \"']\";\n",
    "                  cy.$(tag).position({x: e.x, y:e.y});\n",
    "                  });\n",
    "                break;\n",
    "              case 'setNodeAttributes':\n",
    "                var attributeName = msg.payload.attributeName;\n",
    "                var nodeNames = msg.payload.nodeNames;\n",
    "                var values = msg.payload.values;\n",
    "                this.setNodeAttributes(attributeName, nodeNames, values);\n",
    "                this.cy.style().update();\n",
    "                break;\n",
    "                   \n",
    "              case 'setEdgeAttributes':\n",
    "                var attributeName = msg.payload.attributeName;\n",
    "                var sourceNames = msg.payload.sourceNames;\n",
    "                var targetNames = msg.payload.targetNames;\n",
    "                var edgeTypes = msg.payload.edgeTypes;\n",
    "                var attributeValues = msg.payload.values;\n",
    "                console.log(\"js setEdgeAttributes, count = \" + sourceNames.length);\n",
    "                if(typeof(sourceNames) == \"string\") sourceNames = [sourceNames];\n",
    "                if(typeof(targetNames) == \"string\") targetNames = [targetNames];\n",
    "                if(typeof(edgeTypes) == \"string\") edgeTypes = [edgeTypes];\n",
    "                this.setEdgeAttributes(attributeName, sourceNames, targetNames, edgeTypes, attributeValues);\n",
    "                this.cy.style().update()\n",
    "                break;\n",
    "                   \n",
    "              case 'loadStyleFile':\n",
    "                var styleFile = msg.payload;\n",
    "                this.loadStyle(styleFile);\n",
    "                break;\n",
    "              case 'fit':\n",
    "                 var margin = msg.payload;\n",
    "                 console.log(\"fit with margin: \" + margin)\n",
    "                 this.cy.fit(margin);\n",
    "                 break;\n",
    "\n",
    "               case 'fitSelected':\n",
    "                 var margin = msg.payload;\n",
    "                 console.log(\"fit with margin: \" + margin)\n",
    "                 this.cy.fit(this.cy.nodes(\":selected\"), margin);\n",
    "                 break;\n",
    "\n",
    "              case 'getSelectedNodes':\n",
    "                 var selectedNodes = this.cy.filter(\"node:selected\").map(function(node){ \n",
    "                     return node.data().id});\n",
    "                  console.log(\"-- found these selected nodes: \");\n",
    "                  console.log(selectedNodes);\n",
    "                  var jsonString = JSON.stringify({cmd: \"storeSelectedNodes\",\n",
    "                                                status: \"reply\",\n",
    "                                                callback: \"\",\n",
    "                                                payload: selectedNodes})\n",
    "                  console.log(\" *** jsonString: \")\n",
    "                  console.log(jsonString);\n",
    "                  this.model.set(\"msgFromBrowser\", jsonString);\n",
    "                  console.log(\"    after setting 'msgFromBrowser\");\n",
    "                  this.touch();\n",
    "                  break;\n",
    "               case 'selectNodes':\n",
    "                  var nodeNames = msg.payload;\n",
    "                  console.log(\"--- selecting these nodes: \" + nodeNames);\n",
    "                  if(typeof(nodeNames) == \"string\")\n",
    "                     nodeNames = [nodeNames];\n",
    "                 var filterStrings = [];\n",
    "                 for(var i=0; i < nodeNames.length; i++){\n",
    "                   var s = '[name=\"' + nodeNames[i] + '\"]';\n",
    "                   filterStrings.push(s);\n",
    "                   } // for i\n",
    "                var nodesToSelect = this.cy.nodes(filterStrings.join());\n",
    "                nodesToSelect.select()\n",
    "                break;\n",
    "              case 'clearSelection':\n",
    "                 this.cy.nodes().unselect();\n",
    "                 break;\n",
    "              case 'getPositions':\n",
    "                 var positions = cy.nodes().map(function(n){\n",
    "                     return({id: n.id(), name: n.data(\"name\"), x: n.position().x, y: n.position().y})});\n",
    "                 var jsonString = JSON.stringify({cmd: \"updatePositions\",\n",
    "                                                  status: \"request\",\n",
    "                                                  callback: \"\",\n",
    "                                                  payload: positions});\n",
    "                  console.log(jsonString);\n",
    "                  this.model.set(\"msgFromBrowser\", jsonString);\n",
    "                  console.log(\"    after setting 'msgFromBrowser\");\n",
    "                  this.touch();\n",
    "                  break;\n",
    "            default:\n",
    "               console.log(\"unrecognized msg.cmd: \" + msg.cmd);\n",
    "             } // switch\n",
    "           console.log(\"CONCLUDING dispatchRequest\")\n",
    "           }, \n",
    "        \n",
    "        heightChanged: function(){\n",
    "           console.log(\"heightChanged\");\n",
    "           var newHeight = this.model.get(\"frameHeight\");\n",
    "           console.log(\"frameHeight: \"  + newHeight);\n",
    "           $(\"#cyOuterDiv\").height(newHeight);\n",
    "           this.cy.resize();\n",
    "           // $(\"#cyDiv\").height(newHeight - $(\"#cyToolbarDiv\").height());\n",
    "           }, \n",
    "        \n",
    "        events: {\n",
    "           //\"click #svg\": \"changeHandler\"\n",
    "           }\n",
    "\n",
    "    });\n",
    "    return {\n",
    "        SimpleCyjsBrowserView: SimpleCyjsBrowserView\n",
    "    };\n",
    "});"
   ]
  },
  {
   "cell_type": "code",
   "execution_count": 39,
   "metadata": {},
   "outputs": [
    {
     "data": {
      "application/vnd.jupyter.widget-view+json": {
       "model_id": "933505c17b2e48389fc8a9a58ef5671d"
      }
     },
     "metadata": {},
     "output_type": "display_data"
    }
   ],
   "source": [
    "widget = SimpleCyjsPyWidget()\n",
    "display(widget)"
   ]
  },
  {
   "cell_type": "code",
   "execution_count": 40,
   "metadata": {
    "collapsed": true
   },
   "outputs": [],
   "source": [
    "# widget.getPositions()"
   ]
  },
  {
   "cell_type": "code",
   "execution_count": 41,
   "metadata": {
    "collapsed": true
   },
   "outputs": [],
   "source": [
    "# widget.msgFromBrowser"
   ]
  },
  {
   "cell_type": "code",
   "execution_count": 42,
   "metadata": {},
   "outputs": [
    {
     "data": {
      "text/plain": [
       "'{}'"
      ]
     },
     "execution_count": 42,
     "metadata": {},
     "output_type": "execute_result"
    }
   ],
   "source": [
    "widget.msgFromBrowser"
   ]
  },
  {
   "cell_type": "code",
   "execution_count": 43,
   "metadata": {
    "collapsed": true
   },
   "outputs": [],
   "source": [
    "# cy.setHeight(800)"
   ]
  },
  {
   "cell_type": "code",
   "execution_count": 44,
   "metadata": {
    "collapsed": true
   },
   "outputs": [],
   "source": [
    "from igraph import *\n",
    "import random\n",
    "\n",
    "networkFile = \"toyNetwork2.tsv\"\n",
    "nodeAttributesFile = \"type.noa\"\n",
    "lines = open(networkFile).readlines()\n",
    "tbl_rel = []\n",
    "for line in lines:\n",
    "   tokens = line.rstrip(\"\\n\").split(\"\\t\")\n",
    "   tokens = [x.strip() for x in tokens]\n",
    "   if(len(tokens) == 3):\n",
    "      tbl_rel.append(tokens)\n",
    "\n"
   ]
  },
  {
   "cell_type": "code",
   "execution_count": 45,
   "metadata": {
    "collapsed": true,
    "scrolled": true
   },
   "outputs": [],
   "source": [
    "lines = open(nodeAttributesFile).readlines()\n",
    "\n",
    "nodeTypes=[]\n",
    "for line in lines:\n",
    "   (node, type) = line.rstrip(\"\\n\").split(\"\\t\")\n",
    "   nodeTypes.append([node, type])\n",
    "\n",
    "g = Graph(directed=True)\n",
    "nodeNames = [x[0] for x in nodeTypes]\n",
    "nodeTypeValues = [x[1] for x in nodeTypes]\n",
    "\n",
    "g.add_vertices(nodeNames)\n",
    "g.vs['type'] = nodeTypeValues\n"
   ]
  },
  {
   "cell_type": "code",
   "execution_count": 46,
   "metadata": {
    "collapsed": true
   },
   "outputs": [],
   "source": [
    "for row in tbl_rel:\n",
    "  source = row[0];\n",
    "  target = row[1];\n",
    "  #print(\"adding edge, %s -> %s\" % (source, target))\n",
    "  g.add_edge(source, target)\n",
    "\n",
    "g.es['edgeType'] = [x[2] for x in tbl_rel]\n",
    "#g.es()['flux'] = random.sample(range(0, 1000), len(g.es()))\n"
   ]
  },
  {
   "cell_type": "code",
   "execution_count": 47,
   "metadata": {
    "collapsed": true
   },
   "outputs": [],
   "source": [
    "widget.deleteGraph()\n",
    "widget.addGraph(g)"
   ]
  },
  {
   "cell_type": "code",
   "execution_count": 48,
   "metadata": {
    "collapsed": true
   },
   "outputs": [],
   "source": [
    "widget.loadStyleFile(\"style2.js\")"
   ]
  },
  {
   "cell_type": "code",
   "execution_count": 49,
   "metadata": {
    "collapsed": true
   },
   "outputs": [],
   "source": [
    "widget.selectNodes(\"R3\")\n",
    "widget.fitSelected(200)"
   ]
  },
  {
   "cell_type": "code",
   "execution_count": 50,
   "metadata": {
    "collapsed": true
   },
   "outputs": [],
   "source": [
    "rtLayout = g.layout(\"rt\")\n",
    "widget.setPosition(rtLayout)\n",
    "kkLayout = g.layout(\"kk\")\n",
    "widget.setPosition(kkLayout)\n",
    "widget.fit(100)\n",
    "#for i in range(len(rtLayout)):\n",
    "#   print(rtLayout[i])\n"
   ]
  },
  {
   "cell_type": "code",
   "execution_count": 51,
   "metadata": {
    "collapsed": true
   },
   "outputs": [],
   "source": [
    "igraphLayoutStrategies = [\"circle\", \"drl\", \"fruchterman_reingold\", \n",
    "                          \"fruchterman_reingold_3d\", \n",
    "                          \"kamada_kawai\", \"kamada_kawai_3d\", \"lgl\",\n",
    "                          \"random\", \"random_3d\", \"reingold_tilford\",\n",
    "                          \"reingold_tilford_circular\", \"sphere\"]"
   ]
  },
  {
   "cell_type": "code",
   "execution_count": 52,
   "metadata": {
    "collapsed": true
   },
   "outputs": [],
   "source": [
    "#for strategy in igraphLayoutStrategies:\n",
    "#   print(\"---- %s\" % strategy)\n",
    "#   layout = g.layout(strategy)\n",
    "#   cy.setPosition(layout)\n",
    "#   cy.fit(100)\n",
    "#   time.sleep(1)"
   ]
  },
  {
   "cell_type": "code",
   "execution_count": 53,
   "metadata": {},
   "outputs": [
    {
     "ename": "NameError",
     "evalue": "name 'cy' is not defined",
     "output_type": "error",
     "traceback": [
      "\u001b[0;31m---------------------------------------------------------------------------\u001b[0m",
      "\u001b[0;31mNameError\u001b[0m                                 Traceback (most recent call last)",
      "\u001b[0;32m<ipython-input-53-0f6987d545f0>\u001b[0m in \u001b[0;36m<module>\u001b[0;34m()\u001b[0m\n\u001b[0;32m----> 1\u001b[0;31m \u001b[0mcy\u001b[0m\u001b[0;34m.\u001b[0m\u001b[0mgetSelectedNodes\u001b[0m\u001b[0;34m(\u001b[0m\u001b[0;34m)\u001b[0m\u001b[0;34m\u001b[0m\u001b[0m\n\u001b[0m",
      "\u001b[0;31mNameError\u001b[0m: name 'cy' is not defined"
     ]
    }
   ],
   "source": [
    "cy.getSelectedNodes()"
   ]
  },
  {
   "cell_type": "code",
   "execution_count": null,
   "metadata": {
    "collapsed": true
   },
   "outputs": [],
   "source": [
    "cy.clearSelection()"
   ]
  },
  {
   "cell_type": "code",
   "execution_count": null,
   "metadata": {
    "collapsed": true
   },
   "outputs": [],
   "source": [
    "from pandas import *\n",
    "tbl_flux = DataFrame.from_csv('flux.tsv', sep='\\t', header=0)\n",
    "tbl_flux"
   ]
  },
  {
   "cell_type": "code",
   "execution_count": null,
   "metadata": {
    "collapsed": true
   },
   "outputs": [],
   "source": [
    "reactionNames = tbl_flux.index.tolist()\n",
    "conditionNames = tbl_flux.columns.tolist()"
   ]
  },
  {
   "cell_type": "code",
   "execution_count": null,
   "metadata": {
    "collapsed": true
   },
   "outputs": [],
   "source": [
    "values = tbl_flux[conditionNames[0]].tolist()\n",
    "values"
   ]
  },
  {
   "cell_type": "code",
   "execution_count": null,
   "metadata": {
    "collapsed": true
   },
   "outputs": [],
   "source": [
    "cy.setNodeAttributes(\"flux\", reactionNames, values)"
   ]
  },
  {
   "cell_type": "code",
   "execution_count": null,
   "metadata": {
    "collapsed": true
   },
   "outputs": [],
   "source": [
    "tbl_edgeFlux = read_csv('edgeFlux.tsv', sep='\\t')\n",
    "tbl_edgeFlux"
   ]
  },
  {
   "cell_type": "code",
   "execution_count": null,
   "metadata": {
    "collapsed": true
   },
   "outputs": [],
   "source": [
    "sourceNodes = tbl_edgeFlux[\"source\"].tolist()\n",
    "targetNodes = tbl_edgeFlux[\"target\"].tolist()\n",
    "edgeTypes = tbl_edgeFlux[\"edgeType\"].tolist()\n",
    "values = tbl_edgeFlux[\"cond3\"]"
   ]
  },
  {
   "cell_type": "code",
   "execution_count": null,
   "metadata": {
    "collapsed": true
   },
   "outputs": [],
   "source": [
    "cy.setEdgeAttributes(\"flux\", sourceNodes, targetNodes, edgeTypes, values)"
   ]
  },
  {
   "cell_type": "code",
   "execution_count": null,
   "metadata": {
    "collapsed": true
   },
   "outputs": [],
   "source": [
    "cy.selectNodes([\"R3\", \"i\"])"
   ]
  },
  {
   "cell_type": "code",
   "execution_count": null,
   "metadata": {
    "collapsed": true
   },
   "outputs": [],
   "source": [
    "cy.getSelectedNodes()"
   ]
  },
  {
   "cell_type": "code",
   "execution_count": null,
   "metadata": {
    "collapsed": true
   },
   "outputs": [],
   "source": [
    "cy.fitSelected(200)"
   ]
  },
  {
   "cell_type": "code",
   "execution_count": null,
   "metadata": {
    "collapsed": true
   },
   "outputs": [],
   "source": [
    "len(g.vs)"
   ]
  },
  {
   "cell_type": "code",
   "execution_count": null,
   "metadata": {
    "collapsed": true
   },
   "outputs": [],
   "source": [
    "g.vs[1]"
   ]
  },
  {
   "cell_type": "code",
   "execution_count": null,
   "metadata": {
    "collapsed": true
   },
   "outputs": [],
   "source": [
    "g.vs.find(\"R5\").index"
   ]
  },
  {
   "cell_type": "code",
   "execution_count": null,
   "metadata": {
    "collapsed": true
   },
   "outputs": [],
   "source": [
    "names = g.vs['name']\n",
    "ids = [g.vs.find(name).index for name in g.vs['name']]\n",
    "nodeMap = dict(zip(names, ids))"
   ]
  },
  {
   "cell_type": "code",
   "execution_count": null,
   "metadata": {
    "collapsed": true
   },
   "outputs": [],
   "source": [
    "nodeMap[\"R3\"]"
   ]
  },
  {
   "cell_type": "code",
   "execution_count": null,
   "metadata": {
    "collapsed": true
   },
   "outputs": [],
   "source": [
    "nodes = [\"R1\", \"c\", \"R5\", \"g1\"]\n",
    "[nodeMap[name] for name in nodes]"
   ]
  },
  {
   "cell_type": "code",
   "execution_count": null,
   "metadata": {
    "collapsed": true
   },
   "outputs": [],
   "source": [
    "[g.vs.find(x).index for x in g.vs['name']]"
   ]
  },
  {
   "cell_type": "code",
   "execution_count": null,
   "metadata": {
    "collapsed": true
   },
   "outputs": [],
   "source": [
    "x"
   ]
  },
  {
   "cell_type": "code",
   "execution_count": null,
   "metadata": {
    "collapsed": true
   },
   "outputs": [],
   "source": []
  }
 ],
 "metadata": {
  "anaconda-cloud": {},
  "kernelspec": {
   "display_name": "Python [default]",
   "language": "python",
   "name": "python3"
  },
  "language_info": {
   "codemirror_mode": {
    "name": "ipython",
    "version": 3
   },
   "file_extension": ".py",
   "mimetype": "text/x-python",
   "name": "python",
   "nbconvert_exporter": "python",
   "pygments_lexer": "ipython3",
   "version": "3.5.2"
  },
  "widgets": {
   "state": {
    "773dd6efde564d6f86a2c1df3b1698e6": {
     "model_module": "jupyter-js-widgets",
     "model_module_version": "*",
     "model_name": "DOMWidgetModel",
     "state": {
      "_dom_classes": [],
      "_model_module": "jupyter-js-widgets",
      "_model_module_version": "*",
      "_model_name": "DOMWidgetModel",
      "_view_module": "cyjs",
      "_view_module_version": "*",
      "_view_name": "CyjsView",
      "frameHeight": 300,
      "frameWidth": 400,
      "msgFromBrowser": "{}",
      "msgFromKernel": "{}",
      "msg_throttle": 1
     }
    },
    "8f8d68c55ed749e1b47682ba9dfc7a48": {
     "model_module": "jupyter-js-widgets",
     "model_module_version": "*",
     "model_name": "DOMWidgetModel",
     "state": {
      "_dom_classes": [],
      "_model_module": "jupyter-js-widgets",
      "_model_module_version": "*",
      "_model_name": "DOMWidgetModel",
      "_view_module": "cyjs",
      "_view_module_version": "*",
      "_view_name": "CyjsView",
      "frameHeight": 300,
      "frameWidth": 400,
      "msgFromBrowser": "{}",
      "msgFromKernel": "{}",
      "msg_throttle": 1
     }
    }
   },
   "version": "2.0.10"
  }
 },
 "nbformat": 4,
 "nbformat_minor": 1
}

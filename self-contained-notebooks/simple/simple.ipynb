{
 "cells": [
  {
   "cell_type": "code",
   "execution_count": 1,
   "metadata": {
    "collapsed": false
   },
   "outputs": [
    {
     "data": {
      "application/javascript": [
       "require.config({\n",
       "   paths: {cytoscape: 'http://localhost:8099/js/cytoscape-2.7.10'}\n",
       "   })"
      ],
      "text/plain": [
       "<IPython.core.display.Javascript object>"
      ]
     },
     "metadata": {},
     "output_type": "display_data"
    }
   ],
   "source": [
    "%%javascript\n",
    "require.config({\n",
    "   paths: {cytoscape: 'http://localhost:8099/js/cytoscape-2.7.10'}\n",
    "   })"
   ]
  },
  {
   "cell_type": "code",
   "execution_count": 2,
   "metadata": {
    "collapsed": true
   },
   "outputs": [],
   "source": [
    "import re"
   ]
  },
  {
   "cell_type": "code",
   "execution_count": 107,
   "metadata": {
    "collapsed": true
   },
   "outputs": [],
   "source": [
    "import igraph as ig\n",
    "DEF_SCALING = 100.0\n",
    "def from_igraph(igraph_network, layout=None, scale=DEF_SCALING):\n",
    "    new_graph = {}\n",
    "    network_data = {}\n",
    "    elements = {}\n",
    "    nodes = []\n",
    "    edges = []\n",
    "    network_attr = igraph_network.attributes() # Convert network attributes\n",
    "    for key in network_attr:\n",
    "        network_data[key] = igraph_network[key]\n",
    "    edges_original = igraph_network.es # get network as a list of edges\n",
    "    nodes_original = igraph_network.vs\n",
    "    node_attr = igraph_network.vs.attributes()\n",
    "    for idx, node in enumerate(nodes_original):\n",
    "        new_node = {}\n",
    "        data = {}\n",
    "        data['id'] = str(node.index)\n",
    "        data['name'] = str(node.index)\n",
    "        for key in node_attr:\n",
    "            data[key] = node[key]\n",
    "        new_node['data'] = data\n",
    "        if layout is not None:\n",
    "            position = {}\n",
    "            position['x'] = layout[idx][0] * scale\n",
    "            position['y'] = layout[idx][1] * scale\n",
    "            new_node['position'] = position\n",
    "        nodes.append(new_node)\n",
    "    edge_attr = igraph_network.es.attributes()  # Add edges to the elements\n",
    "    for edge in edges_original:\n",
    "        new_edge = {}\n",
    "        data = {}\n",
    "        data['source'] = str(edge.source)\n",
    "        data['target'] = str(edge.target)\n",
    "        for key in edge_attr:\n",
    "            data[key] = edge[key]\n",
    "        new_edge['data'] = data\n",
    "        edges.append(new_edge)\n",
    "    elements['nodes'] = nodes\n",
    "    elements['edges'] = edges\n",
    "    new_graph['elements'] = elements\n",
    "    new_graph['data'] = network_data\n",
    "    return new_graph\n",
    "\n",
    "\n",
    "def to_igraph(network):\n",
    "\n",
    "    nodes = network['elements']['nodes']\n",
    "    edges = network['elements']['edges']\n",
    "    network_attr = network['data']\n",
    "\n",
    "    node_count = len(nodes)\n",
    "    edge_count = len(edges)\n",
    "\n",
    "    g = ig.Graph()\n",
    "\n",
    "    # Graph attributes\n",
    "    for key in network_attr.keys():\n",
    "        g[key] = network_attr[key]\n",
    "\n",
    "    g.add_vertices(nodes)\n",
    "\n",
    "    # Add node attributes\n",
    "    node_attributes = {}\n",
    "    node_id_dict = {}\n",
    "    for i, node in enumerate(nodes):\n",
    "        data = node['data']\n",
    "        for key in data.keys():\n",
    "            if key not in node_attributes:\n",
    "                node_attributes[key] = [None] * node_count\n",
    "\n",
    "            # Save index to map\n",
    "            if key == 'id':\n",
    "                node_id_dict[data[key]] = i\n",
    "\n",
    "            node_attributes[key][i] = data[key]\n",
    "\n",
    "    for key in node_attributes.keys():\n",
    "        g.vs[key] = node_attributes[key]\n",
    "\n",
    "    # Create edges\n",
    "    edge_tuples = []\n",
    "    edge_attributes = {}\n",
    "    for i, edge in enumerate(edges):\n",
    "        data = edge['data']\n",
    "        source = data['source']\n",
    "        target = data['target']\n",
    "        edge_tuple = (node_id_dict[source], node_id_dict[target])\n",
    "        edge_tuples.append(edge_tuple)\n",
    "        for key in data.keys():\n",
    "            if key not in edge_attributes:\n",
    "                edge_attributes[key] = [None] * edge_count\n",
    "\n",
    "            # Save index to map\n",
    "            edge_attributes[key][i] = data[key]\n",
    "\n",
    "    g.add_edges(edge_tuples)\n",
    "\n",
    "    # Assign edge attributes\n",
    "    for key in edge_attributes.keys():\n",
    "        if key == 'source' or key == 'target':\n",
    "            continue\n",
    "        else:\n",
    "            g.es[key] = edge_attributes[key]\n",
    "\n",
    "    return g\n"
   ]
  },
  {
   "cell_type": "code",
   "execution_count": 50,
   "metadata": {
    "collapsed": false
   },
   "outputs": [
    {
     "data": {
      "text/plain": [
       "{'data': {},\n",
       " 'elements': {'edges': [{'data': {'edgeType': 'consumes',\n",
       "     'flux': 879,\n",
       "     'source': '1',\n",
       "     'target': '2'}},\n",
       "   {'data': {'edgeType': 'consumes',\n",
       "     'flux': 474,\n",
       "     'source': '2',\n",
       "     'target': '3'}},\n",
       "   {'data': {'edgeType': 'produces',\n",
       "     'flux': 934,\n",
       "     'source': '2',\n",
       "     'target': '4'}},\n",
       "   {'data': {'edgeType': 'catalyzes',\n",
       "     'flux': 352,\n",
       "     'source': '0',\n",
       "     'target': '2'}}],\n",
       "  'nodes': [{'data': {'id': '0', 'name': 'g1', 'type': 'gene'}},\n",
       "   {'data': {'id': '1', 'name': 'a', 'type': 'metabolite'}},\n",
       "   {'data': {'id': '2', 'name': 'R1', 'type': 'reaction'}},\n",
       "   {'data': {'id': '3', 'name': 'b', 'type': 'metabolite'}},\n",
       "   {'data': {'id': '4', 'name': 'c', 'type': 'metabolite'}}]}}"
      ]
     },
     "execution_count": 50,
     "metadata": {},
     "output_type": "execute_result"
    }
   ],
   "source": []
  },
  {
   "cell_type": "code",
   "execution_count": 51,
   "metadata": {
    "collapsed": false
   },
   "outputs": [],
   "source": [
    "import ipywidgets as widgets\n",
    "import json\n",
    "import time\n",
    "import os.path\n",
    "from IPython.display import display\n",
    "from traitlets import Int, Unicode, Tuple, CInt, Dict, validate, observe\n",
    "\n",
    "class cyjs(widgets.DOMWidget):\n",
    "    \n",
    "    _view_name = Unicode('CyjsView').tag(sync=True)\n",
    "    _view_module = Unicode('cyjs').tag(sync=True)\n",
    "    frameWidth = Int(400).tag(sync=True)\n",
    "    frameHeight = Int(300).tag(sync=True)\n",
    "    msgFromKernel = Unicode(\"{}\").tag(sync=True)\n",
    "    msgFromBrowser = Unicode(\"{}\").tag(sync=True)\n",
    "    _incomingMessage = {};\n",
    "    status = \"initial status message\\n\"\n",
    "    _selectedNodes = [];\n",
    "        \n",
    "    def addGraph(self, g):\n",
    "      self._resetMessage();\n",
    "      gjson = from_igraph(g)\n",
    "      self.msgFromKernel = json.dumps({\"cmd\": \"addGraph\", \"status\": \"request\",\n",
    "                                       \"callback\": \"\",    \"payload\": gjson});\n",
    "     \n",
    "    def addGraphWithLayout(self, g, layout):\n",
    "      self._resetMessage();\n",
    "      gjson = from_igraph(g, layout)\n",
    "      self.msgFromKernel = json.dumps({\"cmd\": \"addGraph\", \"status\": \"request\",\n",
    "                                       \"callback\": \"\",    \"payload\": gjson});\n",
    "     \n",
    "    def deleteGraph(self):\n",
    "      self._resetMessage();\n",
    "      self.msgFromKernel = json.dumps({\"cmd\": \"deleteGraph\", \"status\": \"request\", \"callback\": \"\", \"payload\": \"\"});\n",
    "     \n",
    "        \n",
    "    def setSize(self, width, height):\n",
    "      self.status += \"setSize(%d, %d)\\n\" % (width, height)\n",
    "      self.frameWidth = width\n",
    "      self.frameHeight = height\n",
    "        \n",
    "    def fit(self, margin=50):\n",
    "      self.status += \"entering fit (%d)\\n\" % margin\n",
    "      self.msgFromKernel = json.dumps({\"cmd\": \"fit\", \"status\": \"request\", \"callback\": \"\", \"payload\": margin});\n",
    "        \n",
    "    def getSelectedNodes(self):\n",
    "       return(self._selectedNodes);\n",
    "\n",
    "    def selectNodes(self, nodes):\n",
    "      self.msgFromKernel = json.dumps({\"cmd\": \"selectNodes\", \"status\": \"request\",\n",
    "                                       \"callback\": \"\", \"payload\": nodes});\n",
    "\n",
    "    def _resetMessage(self):   # ensures that any ensuing message is seen as novel in the browser\n",
    "       self.msgFromKernel = json.dumps({\"cmd\": \"cleanSlate\", \"status\": \"nop\", \"callback\": \"\", \"payload\": \"\"});\n",
    "\n",
    "\n",
    "    def availableLayouts(self):\n",
    "        return([\"grid\", \"null\", \"random\", \"cose\", \"circle\", \"concentric\", \"breadthfirst\"]);\n",
    "    \n",
    "    def setPosition(self, igraph_layout):   # the somewhat cryptic object created by igraph layouts\n",
    "      tblPos = []\n",
    "      for i in range(0, len(igraph_layout)):\n",
    "         x = igraph_layout[i][0] * 100\n",
    "         y = igraph_layout[i][1] * 100\n",
    "         tblPos.append({\"id\": i, \"x\": x, \"y\": y})\n",
    "      self._resetMessage();\n",
    "      self.msgFromKernel = json.dumps({\"cmd\": \"setPosition\", \"status\": \"request\", \"callback\": \"\", \n",
    "                                       \"payload\": tblPos});\n",
    "       \n",
    "    def loadStyleFile(self, filename):\n",
    "      if(not os.path.isfile(filename)):\n",
    "        print(\"file '%s' not found\" % filename)\n",
    "        return;\n",
    "      self._resetMessage();\n",
    "      self.msgFromKernel = json.dumps({\"cmd\": \"loadStyleFile\", \"status\": \"request\", \"callback\": \"\", \n",
    "                                       \"payload\": filename});\n",
    "        \n",
    "    def layout(self, name):\n",
    "      self._resetMessage();\n",
    "      self.msgFromKernel = json.dumps({\"cmd\": \"layout\", \"status\": \"request\", \"callback\": \"\", \"payload\": name});\n",
    "        \n",
    "        \n",
    "    def clearSelection(self):\n",
    "      self._resetMessage();\n",
    "      self. msgFromKernel = json.dumps({\"cmd\": \"clearSelection\", \"status\": \"request\",\n",
    "                                        \"callback\": \"\", \"payload\": \"\"});\n",
    "        \n",
    "    @observe('msgFromBrowser')\n",
    "    def msg_arrived(self, change):\n",
    "       self.status += \"msgFromBrowser has arrived: %f\\n\" % time.time()\n",
    "       rawMessage = change['new']\n",
    "       self._incomingMessage = json.loads(rawMessage)\n",
    "       cmd = self._incomingMessage[\"cmd\"]\n",
    "       self.status += \"msg: %s\\n\"  % cmd\n",
    "       if(cmd == \"updateSelectedNodes\"):\n",
    "          self._selectedNodes = self._incomingMessage[\"payload\"]\n",
    "         \n",
    "    def getResponse(self):\n",
    "       return(self._incomingMessage[\"payload\"])\n",
    "\n",
    "    def getFullResponse(self):\n",
    "       return(self._incomingMessage)\n",
    "        "
   ]
  },
  {
   "cell_type": "markdown",
   "metadata": {
    "collapsed": false
   },
   "source": [
    "##### %%javascript\n",
    "\"use strict\";\n",
    "\n",
    "require.undef('cyjs');\n",
    "\n",
    "define('cyjs', [\"jupyter-js-widgets\", \"cytoscape\"], function(widgets, cytoscape) {\n",
    "    \n",
    "    var CyjsView = widgets.DOMWidgetView.extend({\n",
    "\n",
    "        initialize: function() {\n",
    "           this.circles = [];\n",
    "           this.circleCount = 0;\n",
    "           this.options = {}; \n",
    "           this.msg = \"empty in javascript\";\n",
    "           this.msgFromKernel = \"\";\n",
    "           this.defaultHeight = \"800px\";\n",
    "           this.defaultWidth = \"1000px\";\n",
    "           },\n",
    "\n",
    "        createDiv: function(){\n",
    "            var outerDiv = $(\"<div id='cyOuterDiv' style='border:1px solid gray; height: 800px; width: 1000px'></div>\");\n",
    "            var toolbarDiv = $(\"<div id='cyToolbarDiv' style='height: 30px; width: 1000px'></div>\");\n",
    "            var cyDiv = $(\"<div id='cyDiv' style='height: 870px; width: 1000px'></div>\");\n",
    "            outerDiv.append(toolbarDiv);\n",
    "            outerDiv.append(cyDiv);\n",
    "            var cyWidget = this;\n",
    "            var fitButton = $(\"<button>Fit</button>\").click(function(){\n",
    "                console.log(\"Fit!\");\n",
    "                console.log(\"fitButton's notion of this:\")\n",
    "                console.log(cyWidget.cy);\n",
    "                cyWidget.cy.fit(50);\n",
    "               });\n",
    "            toolbarDiv.append(fitButton);\n",
    "            var fitSelectedButton = $(\"<button>Fit Selected</button>\").click(function(){\n",
    "                var selectedNodes = cyWidget.cy.filter('node:selected');\n",
    "                if(selectedNodes.length > 0){\n",
    "                   cyWidget.cy.fit(selectedNodes, 50);\n",
    "                   }\n",
    "               });\n",
    "            toolbarDiv.append(fitSelectedButton);\n",
    "            var sfnButton = $(\"<button>SFN</button>\").click(function(){\n",
    "               cyWidget.cy.nodes(':selected').neighborhood().nodes().select()\n",
    "               });\n",
    "            toolbarDiv.append(sfnButton);\n",
    "            var clearButton = $(\"<button>Clear</button>\").click(function(){\n",
    "               cyWidget.cy.nodes().unselect();\n",
    "               cyWidget.cy.edges().unselect();\n",
    "               });\n",
    "            toolbarDiv.append(clearButton);\n",
    "            return(outerDiv);\n",
    "           },\n",
    " \n",
    "        \n",
    "        createCanvas: function(){\n",
    "            var cyjsWidget = this;\n",
    "            console.log(\"createCanvas notion of this:\")\n",
    "            console.log(cyjsWidget);\n",
    "            this.cy = cytoscape({\n",
    "               container: document.getElementById('cyDiv'),\n",
    "               layout: {name: 'preset'},\n",
    "          ready: function(){\n",
    "            console.log(\"small cyjs network ready\");\n",
    "            console.log(\"ready's notion of this:\")\n",
    "            console.log(this);\n",
    "            cyjsWidget.cy = this;\n",
    "            window.cy = this;  // for easy debugging\n",
    "            console.log(\"ready's notion of cyjsWidget:\")\n",
    "            console.log(cyjsWidget);\n",
    "            console.log(\"calling this.fit\")\n",
    "            //cyWidget.cy.fit(100);\n",
    "            console.log(\"--- about to call loadGraph\")\n",
    "            //cyjsWidget.loadGraph(\"priyanka.json\");\n",
    "            cyjsWidget.loadStyle(\"style.js\");\n",
    "            //cyjsWidget.cy.layout({\"name\": \"grid\"});\n",
    "            console.log(\"    back from loadGraph\")\n",
    "            cyjsWidget.cy.on(\"select\", function(){\n",
    "               console.log(\"calling updateSelectionToKernel, on select\");\n",
    "               cyjsWidget.updateSelectionToKernel(cyjsWidget);\n",
    "               });\n",
    "            cyjsWidget.cy.on(\"unselect\", function(){\n",
    "               console.log(\"calling updateSelectionToKernel, on unselect\");\n",
    "               cyjsWidget.updateSelectionToKernel(cyjsWidget);\n",
    "               });\n",
    "            } // ready\n",
    "           })},\n",
    "\n",
    "        updateSelectionToKernel: function(cyjsWidget){\n",
    "           console.log(\"*** entering updateSelectionToKernel\") \n",
    "           var selectedNodes = cyjsWidget.cy.nodes(\":selected\");\n",
    "           var selectedNodeIDs = selectedNodes.map(function(n){return (n.id() )})\n",
    "           var selectedEdges = cyjsWidget.cy.edges(\":selected\");\n",
    "           var selectedNodeCount = selectedNodes.length;\n",
    "           var selectedEdgeCount = selectedEdges.length;\n",
    "           console.log(\"selected nodes: \" + selectedNodeCount);\n",
    "           console.log(\"selected edGes:\" + selectedEdgeCount);\n",
    "           var jsonString = JSON.stringify({cmd: \"updateSelectedNodes\",\n",
    "                                            status: \"request\",\n",
    "                                            callback: \"\",\n",
    "                                            payload: selectedNodeIDs});\n",
    "           console.log(\" *** jsonString: \")\n",
    "           console.log(jsonString);\n",
    "           cyjsWidget.model.set(\"msgFromBrowser\", jsonString);\n",
    "           console.log(\"    after setting 'msgFromBrowser\");\n",
    "           cyjsWidget.touch();\n",
    "           },\n",
    "        \n",
    "        loadStyle: function(filename){\n",
    "           var cyObj = this.cy;\n",
    "           console.log(\"cyjsWidget.loadStyle: \" + filename)\n",
    "           console.log(\"loadStyle's notion of this:\");\n",
    "           console.log(this);\n",
    "           console.log(\"loadStyle's notion of cy:\");\n",
    "           console.log(cyObj);\n",
    "           var str = window.location.href;\n",
    "           var url = str.substr(0, str.lastIndexOf(\"/\")) + \"/\" + filename;\n",
    "           url = url.replace(\"/notebooks/\", \"/files/\");\n",
    "           console.log(\"about to getScript: \" + url);\n",
    "           $.getScript(url)\n",
    "              .done(function(script, textStatus) {\n",
    "                 console.log(textStatus);\n",
    "                 cyObj.style(vizmap);\n",
    "                 })\n",
    "             .fail(function( jqxhr, settings, exception ) {\n",
    "                console.log(\"getScript error trying to read \" + filename);\n",
    "                console.log(\"exception: \");\n",
    "                console.log(exception);\n",
    "                });\n",
    "          },\n",
    "        \n",
    "        loadGraph: function(filename){\n",
    "           console.log(\"entering loadGraph\");\n",
    "           var cyObj = this.cy;\n",
    "              // the robust url of a file in the same directory as the notebook is\n",
    "              // str.substring(0, str.lastIndexOf(\"/\"));\n",
    "           var str = window.location.href;\n",
    "           var url = str.substr(0, str.lastIndexOf(\"/\")) + \"/\" + filename;\n",
    "           url = url.replace(\"/notebooks/\", \"/files/\");\n",
    "           console.log(\"=== about to getScript on \" + url);\n",
    "           $.getScript(url)\n",
    "              .done(function(script, textStatus) {\n",
    "                 console.log(\"getScript: \" + textStatus);\n",
    "                 console.log(\"nodes: \" + network.elements.nodes.length);\n",
    "                 if(typeof(network.elements.edges) != \"undefined\")\n",
    "                    console.log(\"edges: \" + network.elements.edges.length);\n",
    "                cyObj.add(network.elements);  // no positions yet\n",
    "                cyObj.nodes().map(function(node){node.data({degree: node.degree()})});\n",
    "                cyObj.layout({\"name\": \"grid\"});\n",
    "                cyObj.fit(150);\n",
    "                }) // .done\n",
    "            .fail(function(jqxhr, settings, exception) {\n",
    "               console.log(\"addNetwork getscript error trying to read \" + filename);\n",
    "               });\n",
    "           },\n",
    "        \n",
    "        render: function() { \n",
    "            console.log(\"entering render\")\n",
    "            this.$el.append(this.createDiv());\n",
    "            this.listenTo(this.model, 'change:frameWidth', this.frameDimensionsChanged, this);\n",
    "            this.listenTo(this.model, 'change:frameHeight', this.frameDimensionsChanged, this);\n",
    "            this.listenTo(this.model, 'change:msgFromKernel', this.dispatchRequest, this);\n",
    "            var cyjsWidget = this;\n",
    "            function myFunc(){\n",
    "               cyjsWidget.createCanvas()\n",
    "               }\n",
    "            setTimeout(myFunc, 500);\n",
    "            },\n",
    "\n",
    "        dispatchRequest: function(){\n",
    "           console.log(\"dispatchRequest\");\n",
    "           var msgRaw = this.model.get(\"msgFromKernel\");\n",
    "           var msg = JSON.parse(msgRaw);\n",
    "           console.log(msg);\n",
    "           console.log(\"========================\");\n",
    "           console.log(this);\n",
    "           switch(msg.cmd) {\n",
    "              case 'deleteGraph':\n",
    "                this.cy.edges().remove();\n",
    "                this.cy.nodes().remove();\n",
    "                break;\n",
    "              case 'addGraph':\n",
    "                 var g = msg.payload;\n",
    "                 console.log(\"addGraph request\")\n",
    "                 console.log(g)\n",
    "                 this.cy.add(g.elements)\n",
    "                 break;\n",
    "              case 'layout':\n",
    "                 var layoutName = msg.payload;\n",
    "                 this.cy.layout({\"name\": layoutName})\n",
    "                 break;\n",
    "              case 'setPosition':\n",
    "                var positionObjects = msg.payload;\n",
    "                console.log(\"calling setPosition map\");\n",
    "                positionObjects.map(function(e){\n",
    "                  var tag=\"[id='\" + e.id + \"']\";\n",
    "                  cy.$(tag).position({x: e.x, y:e.y});\n",
    "                  });\n",
    "                break;\n",
    "              case 'loadStyleFile':\n",
    "                var styleFile = msg.payload;\n",
    "                this.loadStyle(styleFile);\n",
    "                break;\n",
    "              case 'fit':\n",
    "                 var margin = msg.payload;\n",
    "                 console.log(\"fit with margin: \" + margin)\n",
    "                 this.cy.fit(margin);\n",
    "                 break;\n",
    "              case 'getSelectedNodes':\n",
    "                 var selectedNodes = this.cy.filter(\"node:selected\").map(function(node){ \n",
    "                     return node.data().id});\n",
    "                  console.log(\"-- found these selected nodes: \");\n",
    "                  console.log(selectedNodes);\n",
    "                  var jsonString = JSON.stringify({cmd: \"storeSelectedNodes\",\n",
    "                                                status: \"reply\",\n",
    "                                                callback: \"\",\n",
    "                                                payload: selectedNodes})\n",
    "                  console.log(\" *** jsonString: \")\n",
    "                  console.log(jsonString);\n",
    "                  this.model.set(\"msgFromBrowser\", jsonString);\n",
    "                  console.log(\"    after setting 'msgFromBrowser\");\n",
    "                  this.touch();\n",
    "                  break;\n",
    "               case 'selectNodes':\n",
    "                  var nodeIDs = msg.payload;\n",
    "                  console.log(\"--- selecting these nodes: \" + nodeIDs);\n",
    "                  if(typeof(nodeIDs) == \"string\")\n",
    "                     nodeIDs = [nodeIDs];\n",
    "                 var filterStrings = [];\n",
    "                 for(var i=0; i < nodeIDs.length; i++){\n",
    "                   var s = '[id=\"' + nodeIDs[i] + '\"]';\n",
    "                   filterStrings.push(s);\n",
    "                   } // for i\n",
    "                var nodesToSelect = this.cy.nodes(filterStrings.join());\n",
    "                nodesToSelect.select()\n",
    "                break;\n",
    "              case 'clearSelection':\n",
    "                 this.cy.nodes().unselect();\n",
    "                 break;\n",
    "            default:\n",
    "               console.log(\"unrecognized msg.cmd: \" + msg.cmd);\n",
    "             } // switch\n",
    "           console.log(\"CONCLUDING dispatchRequest\")\n",
    "           }, \n",
    "        \n",
    "        frameDimensionsChanged: function(){\n",
    "           console.log(\"frameDimensionsChanged\")\n",
    "           var newWidth  = this.model.get(\"frameWidth\");\n",
    "           var newHeight = this.model.get(\"frameHeight\");\n",
    "           console.log(\"frame: \" + newWidth + \" x \" + newHeight);\n",
    "           $(\"#cyOuterDiv\").width(newWidth);\n",
    "           $(\"#cyOuterDiv\").height(newHeight);\n",
    "           $(\"#cyToolbarDiv\").width(newWidth);\n",
    "           $(\"#cyDiv\").width(newWidth);\n",
    "           $(\"#cyDiv\").height(newHeight - $(\"#cyToolbarDiv\").height());\n",
    "           }, \n",
    "        \n",
    "        events: {\n",
    "           //\"click #svg\": \"changeHandler\"\n",
    "           }\n",
    "\n",
    "    });\n",
    "    return {\n",
    "        CyjsView: CyjsView\n",
    "    };\n",
    "});"
   ]
  },
  {
   "cell_type": "code",
   "execution_count": 53,
   "metadata": {
    "collapsed": false
   },
   "outputs": [],
   "source": [
    "cy = cyjs()"
   ]
  },
  {
   "cell_type": "code",
   "execution_count": 125,
   "metadata": {
    "collapsed": false
   },
   "outputs": [],
   "source": [
    "from igraph import *\n",
    "import random\n",
    "\n",
    "networkFile = \"toynetwork.tsv\"\n",
    "nodeAttributesFile = \"type.noa\"\n",
    "lines = open(networkFile).readlines()\n",
    "tbl_rel = []\n",
    "for line in lines:\n",
    "   tokens = line.rstrip(\"\\n\").split(\"\\t\")\n",
    "   tokens = [x.strip() for x in tokens]\n",
    "   if(len(tokens) == 3):\n",
    "      tbl_rel.append(tokens)\n",
    "\n"
   ]
  },
  {
   "cell_type": "code",
   "execution_count": 126,
   "metadata": {
    "collapsed": false
   },
   "outputs": [
    {
     "data": {
      "text/plain": [
       "[['R1', 'consumes', 'a'],\n",
       " ['R1', 'consumes', 'b'],\n",
       " ['R1', 'produces', 'c'],\n",
       " ['g1', 'catalyzes', 'R1'],\n",
       " ['R2', 'consumes', 'a'],\n",
       " ['R2', 'consumes', 'd'],\n",
       " ['R2', 'produces', 'e'],\n",
       " ['g2', 'catalyzes', 'R2'],\n",
       " ['g3', 'catalyzes', 'R2'],\n",
       " ['R3', 'consumes', 'c'],\n",
       " ['R3', 'consumes', 'f'],\n",
       " ['R3', 'produces', 'h'],\n",
       " ['R3', 'produces', 'i'],\n",
       " ['g4', 'catalyzes', 'R3'],\n",
       " ['g5', 'catalyzes', 'R3'],\n",
       " ['R4', 'consumes', 'x'],\n",
       " ['R4', 'consumes', 'y'],\n",
       " ['R4', 'produces', 'z'],\n",
       " ['R4', 'consumes', 'w'],\n",
       " ['g6', 'catalyzes', 'R4'],\n",
       " ['R5', 'consumes', 'z'],\n",
       " ['R5', 'produces', 'z1']]"
      ]
     },
     "execution_count": 126,
     "metadata": {},
     "output_type": "execute_result"
    }
   ],
   "source": [
    "tbl_rel"
   ]
  },
  {
   "cell_type": "code",
   "execution_count": 161,
   "metadata": {
    "collapsed": false,
    "scrolled": true
   },
   "outputs": [],
   "source": [
    "lines = open(nodeAttributesFile).readlines()\n",
    "\n",
    "nodeTypes=[]\n",
    "for line in lines:\n",
    "   (node, type) = line.rstrip(\"\\n\").split(\"\\t\")\n",
    "   nodeTypes.append([node, type])\n",
    "\n",
    "g = Graph(directed=True)\n",
    "nodeNames = [x[0] for x in nodeTypes]\n",
    "nodeTypeValues = [x[1] for x in nodeTypes]\n",
    "\n",
    "g.add_vertices(nodeNames)\n",
    "g.vs['type'] = nodeTypeValues\n"
   ]
  },
  {
   "cell_type": "code",
   "execution_count": 162,
   "metadata": {
    "collapsed": false
   },
   "outputs": [
    {
     "data": {
      "text/plain": [
       "[['R1', 'reaction'],\n",
       " ['R2', 'reaction'],\n",
       " ['R3', 'reaction'],\n",
       " ['R4', 'reaction'],\n",
       " ['R5', 'reaction'],\n",
       " ['a', 'metabolite'],\n",
       " ['b', 'metabolite'],\n",
       " ['c', 'metabolite'],\n",
       " ['d', 'metabolite'],\n",
       " ['e', 'metabolite'],\n",
       " ['f', 'metabolite'],\n",
       " ['g1', 'gene'],\n",
       " ['g2', 'gene'],\n",
       " ['g3', 'gene'],\n",
       " ['g4', 'gene'],\n",
       " ['g5', 'gene'],\n",
       " ['g6', 'gene'],\n",
       " ['h', 'metabolite'],\n",
       " ['i', 'metabolite'],\n",
       " ['orphan1', 'metabolite'],\n",
       " ['orphan2', 'metabolite'],\n",
       " ['w', 'metabolite'],\n",
       " ['x', 'metabolite'],\n",
       " ['y', 'metabolite'],\n",
       " ['z', 'metabolite'],\n",
       " ['z1', 'metabolite']]"
      ]
     },
     "execution_count": 162,
     "metadata": {},
     "output_type": "execute_result"
    }
   ],
   "source": [
    "nodeTypes"
   ]
  },
  {
   "cell_type": "code",
   "execution_count": 163,
   "metadata": {
    "collapsed": false
   },
   "outputs": [
    {
     "name": "stdout",
     "output_type": "stream",
     "text": [
      "adding edge, R1 -> a\n",
      "adding edge, R1 -> b\n",
      "adding edge, R1 -> c\n",
      "adding edge, g1 -> R1\n",
      "adding edge, R2 -> a\n",
      "adding edge, R2 -> d\n",
      "adding edge, R2 -> e\n",
      "adding edge, g2 -> R2\n",
      "adding edge, g3 -> R2\n",
      "adding edge, R3 -> c\n",
      "adding edge, R3 -> f\n",
      "adding edge, R3 -> h\n",
      "adding edge, R3 -> i\n",
      "adding edge, g4 -> R3\n",
      "adding edge, g5 -> R3\n",
      "adding edge, R4 -> x\n",
      "adding edge, R4 -> y\n",
      "adding edge, R4 -> z\n",
      "adding edge, R4 -> w\n",
      "adding edge, g6 -> R4\n",
      "adding edge, R5 -> z\n",
      "adding edge, R5 -> z1\n"
     ]
    },
    {
     "data": {
      "text/plain": [
       "{'data': {},\n",
       " 'elements': {'edges': [{'data': {'edgeType': 'consumes',\n",
       "     'flux': 866,\n",
       "     'source': '0',\n",
       "     'target': '5'}},\n",
       "   {'data': {'edgeType': 'consumes',\n",
       "     'flux': 562,\n",
       "     'source': '0',\n",
       "     'target': '6'}},\n",
       "   {'data': {'edgeType': 'produces',\n",
       "     'flux': 148,\n",
       "     'source': '0',\n",
       "     'target': '7'}},\n",
       "   {'data': {'edgeType': 'catalyzes',\n",
       "     'flux': 275,\n",
       "     'source': '11',\n",
       "     'target': '0'}},\n",
       "   {'data': {'edgeType': 'consumes',\n",
       "     'flux': 780,\n",
       "     'source': '1',\n",
       "     'target': '5'}},\n",
       "   {'data': {'edgeType': 'consumes',\n",
       "     'flux': 846,\n",
       "     'source': '1',\n",
       "     'target': '8'}},\n",
       "   {'data': {'edgeType': 'produces',\n",
       "     'flux': 273,\n",
       "     'source': '1',\n",
       "     'target': '9'}},\n",
       "   {'data': {'edgeType': 'catalyzes',\n",
       "     'flux': 114,\n",
       "     'source': '12',\n",
       "     'target': '1'}},\n",
       "   {'data': {'edgeType': 'catalyzes',\n",
       "     'flux': 842,\n",
       "     'source': '13',\n",
       "     'target': '1'}},\n",
       "   {'data': {'edgeType': 'consumes',\n",
       "     'flux': 367,\n",
       "     'source': '2',\n",
       "     'target': '7'}},\n",
       "   {'data': {'edgeType': 'consumes',\n",
       "     'flux': 338,\n",
       "     'source': '2',\n",
       "     'target': '10'}},\n",
       "   {'data': {'edgeType': 'produces',\n",
       "     'flux': 100,\n",
       "     'source': '2',\n",
       "     'target': '17'}},\n",
       "   {'data': {'edgeType': 'produces',\n",
       "     'flux': 358,\n",
       "     'source': '2',\n",
       "     'target': '18'}},\n",
       "   {'data': {'edgeType': 'catalyzes',\n",
       "     'flux': 199,\n",
       "     'source': '14',\n",
       "     'target': '2'}},\n",
       "   {'data': {'edgeType': 'catalyzes',\n",
       "     'flux': 217,\n",
       "     'source': '15',\n",
       "     'target': '2'}},\n",
       "   {'data': {'edgeType': 'consumes',\n",
       "     'flux': 301,\n",
       "     'source': '3',\n",
       "     'target': '22'}},\n",
       "   {'data': {'edgeType': 'consumes',\n",
       "     'flux': 113,\n",
       "     'source': '3',\n",
       "     'target': '23'}},\n",
       "   {'data': {'edgeType': 'produces',\n",
       "     'flux': 54,\n",
       "     'source': '3',\n",
       "     'target': '24'}},\n",
       "   {'data': {'edgeType': 'consumes',\n",
       "     'flux': 260,\n",
       "     'source': '3',\n",
       "     'target': '21'}},\n",
       "   {'data': {'edgeType': 'catalyzes',\n",
       "     'flux': 695,\n",
       "     'source': '16',\n",
       "     'target': '3'}},\n",
       "   {'data': {'edgeType': 'consumes',\n",
       "     'flux': 7,\n",
       "     'source': '4',\n",
       "     'target': '24'}},\n",
       "   {'data': {'edgeType': 'produces',\n",
       "     'flux': 838,\n",
       "     'source': '4',\n",
       "     'target': '25'}}],\n",
       "  'nodes': [{'data': {'id': '0', 'name': 'R1', 'type': 'reaction'}},\n",
       "   {'data': {'id': '1', 'name': 'R2', 'type': 'reaction'}},\n",
       "   {'data': {'id': '2', 'name': 'R3', 'type': 'reaction'}},\n",
       "   {'data': {'id': '3', 'name': 'R4', 'type': 'reaction'}},\n",
       "   {'data': {'id': '4', 'name': 'R5', 'type': 'reaction'}},\n",
       "   {'data': {'id': '5', 'name': 'a', 'type': 'metabolite'}},\n",
       "   {'data': {'id': '6', 'name': 'b', 'type': 'metabolite'}},\n",
       "   {'data': {'id': '7', 'name': 'c', 'type': 'metabolite'}},\n",
       "   {'data': {'id': '8', 'name': 'd', 'type': 'metabolite'}},\n",
       "   {'data': {'id': '9', 'name': 'e', 'type': 'metabolite'}},\n",
       "   {'data': {'id': '10', 'name': 'f', 'type': 'metabolite'}},\n",
       "   {'data': {'id': '11', 'name': 'g1', 'type': 'gene'}},\n",
       "   {'data': {'id': '12', 'name': 'g2', 'type': 'gene'}},\n",
       "   {'data': {'id': '13', 'name': 'g3', 'type': 'gene'}},\n",
       "   {'data': {'id': '14', 'name': 'g4', 'type': 'gene'}},\n",
       "   {'data': {'id': '15', 'name': 'g5', 'type': 'gene'}},\n",
       "   {'data': {'id': '16', 'name': 'g6', 'type': 'gene'}},\n",
       "   {'data': {'id': '17', 'name': 'h', 'type': 'metabolite'}},\n",
       "   {'data': {'id': '18', 'name': 'i', 'type': 'metabolite'}},\n",
       "   {'data': {'id': '19', 'name': 'orphan1', 'type': 'metabolite'}},\n",
       "   {'data': {'id': '20', 'name': 'orphan2', 'type': 'metabolite'}},\n",
       "   {'data': {'id': '21', 'name': 'w', 'type': 'metabolite'}},\n",
       "   {'data': {'id': '22', 'name': 'x', 'type': 'metabolite'}},\n",
       "   {'data': {'id': '23', 'name': 'y', 'type': 'metabolite'}},\n",
       "   {'data': {'id': '24', 'name': 'z', 'type': 'metabolite'}},\n",
       "   {'data': {'id': '25', 'name': 'z1', 'type': 'metabolite'}}]}}"
      ]
     },
     "execution_count": 163,
     "metadata": {},
     "output_type": "execute_result"
    }
   ],
   "source": [
    "for row in tbl_rel:\n",
    "  source = row[0];\n",
    "  target = row[2];\n",
    "  print(\"adding edge, %s -> %s\" % (source, target))\n",
    "  g.add_edge(source, target)\n",
    "\n",
    "g.es['edgeType'] = [x[1] for x in tbl_rel]\n",
    "\n",
    "g.es()['flux'] = random.sample(range(0, 1000), len(g.es()))\n",
    "\n",
    "# [x[1] for x in tbl_rel]\n",
    "\n",
    "from_igraph(g)"
   ]
  },
  {
   "cell_type": "code",
   "execution_count": 164,
   "metadata": {
    "collapsed": false
   },
   "outputs": [
    {
     "data": {
      "text/plain": [
       "[['R1', 'consumes', 'a'],\n",
       " ['R1', 'consumes', 'b'],\n",
       " ['R1', 'produces', 'c'],\n",
       " ['g1', 'catalyzes', 'R1'],\n",
       " ['R2', 'consumes', 'a'],\n",
       " ['R2', 'consumes', 'd'],\n",
       " ['R2', 'produces', 'e'],\n",
       " ['g2', 'catalyzes', 'R2'],\n",
       " ['g3', 'catalyzes', 'R2'],\n",
       " ['R3', 'consumes', 'c'],\n",
       " ['R3', 'consumes', 'f'],\n",
       " ['R3', 'produces', 'h'],\n",
       " ['R3', 'produces', 'i'],\n",
       " ['g4', 'catalyzes', 'R3'],\n",
       " ['g5', 'catalyzes', 'R3'],\n",
       " ['R4', 'consumes', 'x'],\n",
       " ['R4', 'consumes', 'y'],\n",
       " ['R4', 'produces', 'z'],\n",
       " ['R4', 'consumes', 'w'],\n",
       " ['g6', 'catalyzes', 'R4'],\n",
       " ['R5', 'consumes', 'z'],\n",
       " ['R5', 'produces', 'z1']]"
      ]
     },
     "execution_count": 164,
     "metadata": {},
     "output_type": "execute_result"
    }
   ],
   "source": [
    "tbl_rel"
   ]
  },
  {
   "cell_type": "code",
   "execution_count": 165,
   "metadata": {
    "collapsed": false
   },
   "outputs": [
    {
     "data": {
      "text/plain": [
       "22"
      ]
     },
     "execution_count": 165,
     "metadata": {},
     "output_type": "execute_result"
    }
   ],
   "source": [
    "len(g.es)"
   ]
  },
  {
   "cell_type": "code",
   "execution_count": 166,
   "metadata": {
    "collapsed": false
   },
   "outputs": [
    {
     "data": {
      "text/plain": [
       "5"
      ]
     },
     "execution_count": 166,
     "metadata": {},
     "output_type": "execute_result"
    }
   ],
   "source": [
    "g.es()[0].target"
   ]
  },
  {
   "cell_type": "code",
   "execution_count": 167,
   "metadata": {
    "collapsed": false
   },
   "outputs": [
    {
     "data": {
      "application/vnd.jupyter.widget-view+json": {
       "model_id": "a48feae988a8416bb7db9ca2fca3d532"
      }
     },
     "metadata": {},
     "output_type": "display_data"
    }
   ],
   "source": [
    "display(cy)"
   ]
  },
  {
   "cell_type": "code",
   "execution_count": null,
   "metadata": {
    "collapsed": false
   },
   "outputs": [],
   "source": []
  },
  {
   "cell_type": "code",
   "execution_count": 168,
   "metadata": {
    "collapsed": false
   },
   "outputs": [],
   "source": [
    "cy.deleteGraph()\n",
    "cy.addGraph(g)"
   ]
  },
  {
   "cell_type": "code",
   "execution_count": 169,
   "metadata": {
    "collapsed": false
   },
   "outputs": [],
   "source": [
    "cy.loadStyleFile(\"style2.js\")"
   ]
  },
  {
   "cell_type": "code",
   "execution_count": 170,
   "metadata": {
    "collapsed": true
   },
   "outputs": [],
   "source": [
    "cy.selectNodes(\"R1\")"
   ]
  },
  {
   "cell_type": "code",
   "execution_count": 176,
   "metadata": {
    "collapsed": false
   },
   "outputs": [],
   "source": [
    "cy.setPosition(g.layout(\"kk\"))\n",
    "cy.fit(100)"
   ]
  },
  {
   "cell_type": "code",
   "execution_count": 177,
   "metadata": {
    "collapsed": true
   },
   "outputs": [],
   "source": [
    "igraphLayoutStrategies = [\"circle\", \"drl\", \"fruchterman_reingold\", \n",
    "                          \"fruchterman_reingold_3d\", \n",
    "                          \"kamada_kawai\", \"kamada_kawai_3d\", \"lgl\",\n",
    "                          \"random\", \"random_3d\", \"reingold_tilford\",\n",
    "                          \"reingold_tilford_circular\", \"sphere\"]"
   ]
  },
  {
   "cell_type": "code",
   "execution_count": 178,
   "metadata": {
    "collapsed": false
   },
   "outputs": [
    {
     "name": "stdout",
     "output_type": "stream",
     "text": [
      "---- circle\n",
      "---- drl\n",
      "---- fruchterman_reingold\n",
      "---- fruchterman_reingold_3d\n",
      "---- kamada_kawai\n",
      "---- kamada_kawai_3d\n",
      "---- lgl\n",
      "---- random\n",
      "---- random_3d\n",
      "---- reingold_tilford\n",
      "---- reingold_tilford_circular\n",
      "---- sphere\n"
     ]
    }
   ],
   "source": [
    "for strategy in igraphLayoutStrategies:\n",
    "   print(\"---- %s\" % strategy)\n",
    "   layout = g.layout(strategy)\n",
    "   cy.setPosition(layout)\n",
    "   cy.fit(100)\n",
    "   time.sleep(1)"
   ]
  },
  {
   "cell_type": "code",
   "execution_count": 144,
   "metadata": {
    "collapsed": false
   },
   "outputs": [
    {
     "data": {
      "text/plain": [
       "['1', '5', '8', '9', '12', '13']"
      ]
     },
     "execution_count": 144,
     "metadata": {},
     "output_type": "execute_result"
    }
   ],
   "source": [
    "cy.getSelectedNodes()"
   ]
  },
  {
   "cell_type": "code",
   "execution_count": 161,
   "metadata": {
    "collapsed": true
   },
   "outputs": [],
   "source": [
    "cy.clearSelection()"
   ]
  },
  {
   "cell_type": "code",
   "execution_count": 156,
   "metadata": {
    "collapsed": true
   },
   "outputs": [],
   "source": [
    "cy.deleteGraph()"
   ]
  }
 ],
 "metadata": {
  "anaconda-cloud": {},
  "kernelspec": {
   "display_name": "Python [default]",
   "language": "python",
   "name": "python3"
  },
  "language_info": {
   "codemirror_mode": {
    "name": "ipython",
    "version": 3
   },
   "file_extension": ".py",
   "mimetype": "text/x-python",
   "name": "python",
   "nbconvert_exporter": "python",
   "pygments_lexer": "ipython3",
   "version": "3.5.2"
  },
  "widgets": {
   "state": {
    "0d26d946e1cc4ad79f1a0cb94615adb3": {
     "model_module": "jupyter-js-widgets",
     "model_module_version": "*",
     "model_name": "DOMWidgetModel",
     "state": {
      "_dom_classes": [],
      "_model_module": "jupyter-js-widgets",
      "_model_module_version": "*",
      "_model_name": "DOMWidgetModel",
      "_view_module": "cyjs",
      "_view_module_version": "*",
      "_view_name": "CyjsView",
      "frameHeight": 300,
      "frameWidth": 400,
      "msgFromBrowser": "{}",
      "msgFromKernel": "{\"cmd\": \"fit\", \"callback\": \"\", \"status\": \"request\", \"payload\": 100}",
      "msg_throttle": 1
     }
    },
    "a48feae988a8416bb7db9ca2fca3d532": {
     "model_module": "jupyter-js-widgets",
     "model_module_version": "*",
     "model_name": "DOMWidgetModel",
     "state": {
      "_dom_classes": [],
      "_model_module": "jupyter-js-widgets",
      "_model_module_version": "*",
      "_model_name": "DOMWidgetModel",
      "_view_module": "cyjs",
      "_view_module_version": "*",
      "_view_name": "CyjsView",
      "frameHeight": 300,
      "frameWidth": 400,
      "msgFromBrowser": "{\"cmd\":\"updateSelectedNodes\",\"status\":\"request\",\"callback\":\"\",\"payload\":[]}",
      "msgFromKernel": "{\"cmd\": \"fit\", \"callback\": \"\", \"status\": \"request\", \"payload\": 100}",
      "msg_throttle": 1
     }
    },
    "a8a48d4ffa86415eba5abbe364ddb558": {
     "model_module": "jupyter-js-widgets",
     "model_module_version": "*",
     "model_name": "DOMWidgetModel",
     "state": {
      "_dom_classes": [],
      "_model_module": "jupyter-js-widgets",
      "_model_module_version": "*",
      "_model_name": "DOMWidgetModel",
      "_view_module": "cyjs",
      "_view_module_version": "*",
      "_view_name": "CyjsView",
      "frameHeight": 300,
      "frameWidth": 400,
      "msgFromBrowser": "{\"cmd\":\"updateSelectedNodes\",\"status\":\"request\",\"callback\":\"\",\"payload\":[]}",
      "msgFromKernel": "{\"cmd\": \"loadStyleFile\", \"callback\": \"\", \"status\": \"request\", \"payload\": \"style2.js\"}",
      "msg_throttle": 1
     }
    },
    "eba995eb7b204b14b572f79a5072acfa": {
     "model_module": "jupyter-js-widgets",
     "model_module_version": "*",
     "model_name": "DOMWidgetModel",
     "state": {
      "_dom_classes": [],
      "_model_module": "jupyter-js-widgets",
      "_model_module_version": "*",
      "_model_name": "DOMWidgetModel",
      "_view_module": "cyjs",
      "_view_module_version": "*",
      "_view_name": "CyjsView",
      "frameHeight": 300,
      "frameWidth": 400,
      "msgFromBrowser": "{}",
      "msgFromKernel": "{\"cmd\": \"fit\", \"callback\": \"\", \"status\": \"request\", \"payload\": 100}",
      "msg_throttle": 1
     }
    }
   },
   "version": "2.0.10"
  }
 },
 "nbformat": 4,
 "nbformat_minor": 0
}

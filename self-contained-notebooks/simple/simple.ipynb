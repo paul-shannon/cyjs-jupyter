{
 "cells": [
  {
   "cell_type": "code",
   "execution_count": 17,
   "metadata": {},
   "outputs": [
    {
     "data": {
      "application/javascript": [
       "require.config({\n",
       "   paths: {cytoscape: 'http://localhost:8099/js/cytoscape-2.7.10'}\n",
       "   })"
      ],
      "text/plain": [
       "<IPython.core.display.Javascript object>"
      ]
     },
     "metadata": {},
     "output_type": "display_data"
    }
   ],
   "source": [
    "%%javascript\n",
    "require.config({\n",
    "   paths: {cytoscape: 'http://localhost:8099/js/cytoscape-2.7.10'}\n",
    "   })"
   ]
  },
  {
   "cell_type": "code",
   "execution_count": 18,
   "metadata": {
    "collapsed": true
   },
   "outputs": [],
   "source": [
    "# ensure the library is available\n",
    "import requests\n",
    "r = requests.get('http://localhost:8099/js/cytoscape-2.7.10.js')\n",
    "assert(r.status_code == 200)"
   ]
  },
  {
   "cell_type": "code",
   "execution_count": 19,
   "metadata": {
    "collapsed": true
   },
   "outputs": [],
   "source": [
    "import re"
   ]
  },
  {
   "cell_type": "code",
   "execution_count": 20,
   "metadata": {
    "collapsed": true
   },
   "outputs": [],
   "source": [
    "import igraph as ig\n",
    "DEF_SCALING = 100.0\n",
    "def from_igraph(igraph_network, layout=None, scale=DEF_SCALING):\n",
    "    new_graph = {}\n",
    "    network_data = {}\n",
    "    elements = {}\n",
    "    nodes = []\n",
    "    edges = []\n",
    "    network_attr = igraph_network.attributes() # Convert network attributes\n",
    "    for key in network_attr:\n",
    "        network_data[key] = igraph_network[key]\n",
    "    edges_original = igraph_network.es # get network as a list of edges\n",
    "    nodes_original = igraph_network.vs\n",
    "    node_attr = igraph_network.vs.attributes()\n",
    "    for idx, node in enumerate(nodes_original):\n",
    "        new_node = {}\n",
    "        data = {}\n",
    "        data['id'] = str(node.index)\n",
    "        data['name'] = str(node.index)\n",
    "        for key in node_attr:\n",
    "            data[key] = node[key]\n",
    "        new_node['data'] = data\n",
    "        if layout is not None:\n",
    "            position = {}\n",
    "            position['x'] = layout[idx][0] * scale\n",
    "            position['y'] = layout[idx][1] * scale\n",
    "            new_node['position'] = position\n",
    "        nodes.append(new_node)\n",
    "    edge_attr = igraph_network.es.attributes()  # Add edges to the elements\n",
    "    for edge in edges_original:\n",
    "        new_edge = {}\n",
    "        data = {}\n",
    "        data['source'] = str(edge.source)\n",
    "        data['target'] = str(edge.target)\n",
    "        for key in edge_attr:\n",
    "            data[key] = edge[key]\n",
    "        new_edge['data'] = data\n",
    "        edges.append(new_edge)\n",
    "    elements['nodes'] = nodes\n",
    "    elements['edges'] = edges\n",
    "    new_graph['elements'] = elements\n",
    "    new_graph['data'] = network_data\n",
    "    return new_graph\n",
    "\n",
    "\n",
    "def to_igraph(network):\n",
    "\n",
    "    nodes = network['elements']['nodes']\n",
    "    edges = network['elements']['edges']\n",
    "    network_attr = network['data']\n",
    "\n",
    "    node_count = len(nodes)\n",
    "    edge_count = len(edges)\n",
    "\n",
    "    g = ig.Graph()\n",
    "\n",
    "    # Graph attributes\n",
    "    for key in network_attr.keys():\n",
    "        g[key] = network_attr[key]\n",
    "\n",
    "    g.add_vertices(nodes)\n",
    "\n",
    "    # Add node attributes\n",
    "    node_attributes = {}\n",
    "    node_id_dict = {}\n",
    "    for i, node in enumerate(nodes):\n",
    "        data = node['data']\n",
    "        for key in data.keys():\n",
    "            if key not in node_attributes:\n",
    "                node_attributes[key] = [None] * node_count\n",
    "\n",
    "            # Save index to map\n",
    "            if key == 'id':\n",
    "                node_id_dict[data[key]] = i\n",
    "\n",
    "            node_attributes[key][i] = data[key]\n",
    "\n",
    "    for key in node_attributes.keys():\n",
    "        g.vs[key] = node_attributes[key]\n",
    "\n",
    "    # Create edges\n",
    "    edge_tuples = []\n",
    "    edge_attributes = {}\n",
    "    for i, edge in enumerate(edges):\n",
    "        data = edge['data']\n",
    "        source = data['source']\n",
    "        target = data['target']\n",
    "        edge_tuple = (node_id_dict[source], node_id_dict[target])\n",
    "        edge_tuples.append(edge_tuple)\n",
    "        for key in data.keys():\n",
    "            if key not in edge_attributes:\n",
    "                edge_attributes[key] = [None] * edge_count\n",
    "\n",
    "            # Save index to map\n",
    "            edge_attributes[key][i] = data[key]\n",
    "\n",
    "    g.add_edges(edge_tuples)\n",
    "\n",
    "    # Assign edge attributes\n",
    "    for key in edge_attributes.keys():\n",
    "        if key == 'source' or key == 'target':\n",
    "            continue\n",
    "        else:\n",
    "            g.es[key] = edge_attributes[key]\n",
    "\n",
    "    return g\n"
   ]
  },
  {
   "cell_type": "code",
   "execution_count": 21,
   "metadata": {
    "collapsed": true
   },
   "outputs": [],
   "source": [
    "import ipywidgets as widgets\n",
    "import json\n",
    "import time\n",
    "import os.path\n",
    "from IPython.display import display, HTML\n",
    "from traitlets import Int, Unicode, Tuple, CInt, Dict, validate, observe\n",
    "\n",
    "class cyjs_sa(widgets.DOMWidget):\n",
    "    \n",
    "    _view_name = Unicode('CyjsView').tag(sync=True)\n",
    "    _view_module = Unicode('cyjs_sa').tag(sync=True)\n",
    "    frameHeight = Int(300).tag(sync=True)\n",
    "    msgFromKernel = Unicode(\"{}\").tag(sync=True)\n",
    "    msgFromBrowser = Unicode(\"{}\").tag(sync=True)\n",
    "    _incomingMessage = {};\n",
    "    status = \"initial status message\\n\"\n",
    "    _selectedNodes = [];\n",
    "    \n",
    "        \n",
    "    def addGraph(self, g):\n",
    "      self._resetMessage();\n",
    "      gjson = from_igraph(g)\n",
    "      self.msgFromKernel = json.dumps({\"cmd\": \"addGraph\", \"status\": \"request\",\n",
    "                                       \"callback\": \"\",    \"payload\": gjson});\n",
    "     \n",
    "    def addGraphWithLayout(self, g, layout):\n",
    "      self._resetMessage();\n",
    "      gjson = from_igraph(g, layout)\n",
    "      self.msgFromKernel = json.dumps({\"cmd\": \"addGraph\", \"status\": \"request\",\n",
    "                                       \"callback\": \"\",    \"payload\": gjson});\n",
    "     \n",
    "    def deleteGraph(self):\n",
    "      self._resetMessage();\n",
    "      self.msgFromKernel = json.dumps({\"cmd\": \"deleteGraph\", \"status\": \"request\", \"callback\": \"\", \"payload\": \"\"});\n",
    "     \n",
    "    \n",
    "    def setHeight(self, newHeight):\n",
    "      self.frameHeight = newHeight\n",
    "        \n",
    "    def fitSelected(self, margin=50):\n",
    "      self.status += \"entering fitSelected (%d)\\n\" % margin\n",
    "      self.msgFromKernel = json.dumps({\"cmd\": \"fitSelected\", \"status\": \"request\", \"callback\": \"\", \"payload\": margin});\n",
    "        \n",
    "    def fit(self, margin=50):\n",
    "      self.status += \"entering fit (%d)\\n\" % margin\n",
    "      self.msgFromKernel = json.dumps({\"cmd\": \"fit\", \"status\": \"request\", \"callback\": \"\", \"payload\": margin});\n",
    "        \n",
    "    def getSelectedNodes(self):\n",
    "       return(self._selectedNodes);\n",
    "\n",
    "    def selectNodes(self, nodes):\n",
    "      self.msgFromKernel = json.dumps({\"cmd\": \"selectNodes\", \"status\": \"request\",\n",
    "                                       \"callback\": \"\", \"payload\": nodes});\n",
    "\n",
    "    def _resetMessage(self):   # ensures that any ensuing message is seen as novel in the browser\n",
    "       self.msgFromKernel = json.dumps({\"cmd\": \"cleanSlate\", \"status\": \"nop\", \"callback\": \"\", \"payload\": \"\"});\n",
    "\n",
    "\n",
    "    def availableLayouts(self):\n",
    "        return([\"grid\", \"null\", \"random\", \"cose\", \"circle\", \"concentric\", \"breadthfirst\"]);\n",
    "    \n",
    "    def setPosition(self, igraph_layout):   # the somewhat cryptic object created by igraph layouts\n",
    "      tblPos = []\n",
    "      for i in range(0, len(igraph_layout)):\n",
    "         x = igraph_layout[i][0] * 100\n",
    "         y = igraph_layout[i][1] * 100\n",
    "         tblPos.append({\"id\": i, \"x\": x, \"y\": y})\n",
    "      self._resetMessage();\n",
    "      self.msgFromKernel = json.dumps({\"cmd\": \"setPosition\", \"status\": \"request\", \"callback\": \"\", \n",
    "                                       \"payload\": tblPos});\n",
    "       \n",
    "    def loadStyleFile(self, filename):\n",
    "      if(not os.path.isfile(filename)):\n",
    "        print(\"file '%s' not found\" % filename)\n",
    "        return;\n",
    "      self._resetMessage();\n",
    "      self.msgFromKernel = json.dumps({\"cmd\": \"loadStyleFile\", \"status\": \"request\", \"callback\": \"\", \n",
    "                                       \"payload\": filename});\n",
    "        \n",
    "    def layout(self, name):\n",
    "      self._resetMessage();\n",
    "      self.msgFromKernel = json.dumps({\"cmd\": \"layout\", \"status\": \"request\", \"callback\": \"\", \"payload\": name});\n",
    "        \n",
    "        \n",
    "    def clearSelection(self):\n",
    "      self._resetMessage();\n",
    "      self. msgFromKernel = json.dumps({\"cmd\": \"clearSelection\", \"status\": \"request\",\n",
    "                                        \"callback\": \"\", \"payload\": \"\"});\n",
    "        \n",
    "    def setNodeAttributes(self, attributeName, nodeNames, values):\n",
    "      self._resetMessage();\n",
    "      self. msgFromKernel = json.dumps({\"cmd\": \"setNodeAttributes\", \"status\": \"request\",\n",
    "                                        \"callback\": \"\", \n",
    "                                        \"payload\": {\"attributeName\": attributeName,\n",
    "                                                    \"nodeNames\": nodeNames,\n",
    "                                                    \"values\": values}})\n",
    "\n",
    "    def setEdgeAttributes(self, attributeName, sourceNames, targetNames, edgeTypes, values):\n",
    "        # g to be a class member variable?\n",
    "        # nodeMap also, with vigilance for modification of underlying graph?\n",
    "        # id lookup a member function?\n",
    "      names = g.vs['name']\n",
    "      ids = [g.vs.find(name).index for name in g.vs['name']]\n",
    "      nodeMap = dict(zip(names, ids))\n",
    "      sourceIDs = [nodeMap[name] for name in sourceNames]\n",
    "      targetIDs = [nodeMap[name] for name in targetNames]\n",
    "      self._resetMessage(); \n",
    "      self. msgFromKernel = json.dumps({\"cmd\": \"setEdgeAttributes\", \"status\": \"request\",\n",
    "                                        \"callback\": \"\", \n",
    "                                        \"payload\": {\"attributeName\": attributeName,\n",
    "                                                    \"sourceNames\": sourceIDs,\n",
    "                                                    \"targetNames\": targetIDs,\n",
    "                                                    \"edgeTypes\": edgeTypes,\n",
    "                                                    \"values\": values}})\n",
    "\n",
    "    @observe('msgFromBrowser')\n",
    "    def msg_arrived(self, change):\n",
    "       self.status += \"msgFromBrowser has arrived: %f\\n\" % time.time()\n",
    "       rawMessage = change['new']\n",
    "       self._incomingMessage = json.loads(rawMessage)\n",
    "       cmd = self._incomingMessage[\"cmd\"]\n",
    "       self.status += \"msg: %s\\n\"  % cmd\n",
    "       if(cmd == \"updateSelectedNodes\"):\n",
    "          self._selectedNodes = self._incomingMessage[\"payload\"]\n",
    "         \n",
    "    def getResponse(self):\n",
    "       return(self._incomingMessage[\"payload\"])\n",
    "\n",
    "    def getFullResponse(self):\n",
    "       return(self._incomingMessage)\n",
    "        "
   ]
  },
  {
   "cell_type": "code",
   "execution_count": 22,
   "metadata": {},
   "outputs": [
    {
     "data": {
      "text/html": [
       "\n",
       "<style>\n",
       "    div#notebook-container    { width: 95%; }\n",
       "    div#menubar-container     { width: 65%; }\n",
       "    div#maintoolbar-container { width: 99%; }\n",
       "</style>\n"
      ],
      "text/plain": [
       "<IPython.core.display.HTML object>"
      ]
     },
     "metadata": {},
     "output_type": "display_data"
    }
   ],
   "source": [
    "display(HTML(data=\"\"\"\n",
    "<style>\n",
    "    div#notebook-container    { width: 95%; }\n",
    "    div#menubar-container     { width: 65%; }\n",
    "    div#maintoolbar-container { width: 99%; }\n",
    "</style>\n",
    "\"\"\"))"
   ]
  },
  {
   "cell_type": "code",
   "execution_count": 37,
   "metadata": {},
   "outputs": [
    {
     "data": {
      "application/javascript": [
       "\"use strict\";\n",
       "\n",
       "require.undef('cyjs_sa');\n",
       "\n",
       "define('cyjs_sa', [\"jupyter-js-widgets\", \"cytoscape\"], function(widgets, cytoscape) {\n",
       "    \n",
       "    var CyjsView = widgets.DOMWidgetView.extend({\n",
       "\n",
       "        initialize: function() {\n",
       "           console.log(\"constructing CyjsView\");\n",
       "           this.frameHeight = \"300px\";\n",
       "           this.options = {}; \n",
       "           this.msg = \"empty in javascript\";\n",
       "           this.msgFromKernel = \"\";\n",
       "           },\n",
       "\n",
       "        resizeHandler: function(){\n",
       "           console.log(\"cyjs resizeHandler\")            \n",
       "           },\n",
       "\n",
       "        createDiv: function(){\n",
       "            var outerDiv = $(\"<div id='cyOuterDiv' style='border:1px solid gray; height: 400px; width: 97%'></div>\");\n",
       "            var toolbarDiv = $(\"<div id='cyToolbarDiv' style='height: 30px; width: 97%'></div>\");\n",
       "            var cyDiv = $(\"<div id='cyDiv' style='height: 100%; width: 97%'></div>\");\n",
       "            outerDiv.append(toolbarDiv);\n",
       "            outerDiv.append(cyDiv);\n",
       "            var cyWidget = this;\n",
       "            var fitButton = $(\"<button>Fit</button>\").click(function(){\n",
       "                console.log(\"Fit!\");\n",
       "                console.log(\"fitButton's notion of this:\")\n",
       "                console.log(cyWidget.cy);\n",
       "                cyWidget.cy.fit(50);\n",
       "               });\n",
       "            toolbarDiv.append(fitButton);\n",
       "            var fitSelectedButton = $(\"<button>Fit Selected</button>\").click(function(){\n",
       "                var selectedNodes = cyWidget.cy.filter('node:selected');\n",
       "                if(selectedNodes.length > 0){\n",
       "                   cyWidget.cy.fit(selectedNodes, 50);\n",
       "                   }\n",
       "               });\n",
       "            toolbarDiv.append(fitSelectedButton);\n",
       "            var sfnButton = $(\"<button>SFN</button>\").click(function(){\n",
       "               cyWidget.cy.nodes(':selected').neighborhood().nodes().select()\n",
       "               });\n",
       "            toolbarDiv.append(sfnButton);\n",
       "            var clearButton = $(\"<button>Clear</button>\").click(function(){\n",
       "               cyWidget.cy.nodes().unselect();\n",
       "               cyWidget.cy.edges().unselect();\n",
       "               });\n",
       "            toolbarDiv.append(clearButton);\n",
       "            $(window).resize(this.resizeHandler);\n",
       "            return(outerDiv);\n",
       "           },\n",
       " \n",
       "        \n",
       "        createCanvas: function(){\n",
       "            var cyjsWidget = this;\n",
       "            console.log(\"createCanvas notion of this:\")\n",
       "            console.log(cyjsWidget);\n",
       "            this.cy = cytoscape({\n",
       "               container: document.getElementById('cyDiv'),\n",
       "               layout: {name: 'preset'},\n",
       "          ready: function(){\n",
       "            console.log(\"small cyjs network ready\");\n",
       "            console.log(\"ready's notion of this:\")\n",
       "            console.log(this);\n",
       "            cyjsWidget.cy = this;\n",
       "            window.cy = this;  // for easy debugging\n",
       "            console.log(\"ready's notion of cyjsWidget:\")\n",
       "            console.log(cyjsWidget);\n",
       "            console.log(\"calling this.fit\")\n",
       "            //cyWidget.cy.fit(100);\n",
       "            console.log(\"--- about to call loadGraph\")\n",
       "            //cyjsWidget.loadGraph(\"priyanka.json\");\n",
       "            cyjsWidget.loadStyle(\"style.js\");\n",
       "            //cyjsWidget.cy.layout({\"name\": \"grid\"});\n",
       "            console.log(\"    back from loadGraph\")\n",
       "            cyjsWidget.cy.on(\"select\", function(){\n",
       "               console.log(\"calling updateSelectionToKernel, on select\");\n",
       "               cyjsWidget.updateSelectionToKernel(cyjsWidget);\n",
       "               });\n",
       "            cyjsWidget.cy.on(\"unselect\", function(){\n",
       "               console.log(\"calling updateSelectionToKernel, on unselect\");\n",
       "               cyjsWidget.updateSelectionToKernel(cyjsWidget);\n",
       "               });\n",
       "            } // ready\n",
       "           })},\n",
       "\n",
       "        updateSelectionToKernel: function(cyjsWidget){\n",
       "           console.log(\"*** entering updateSelectionToKernel\") \n",
       "           var selectedNodes = cyjsWidget.cy.nodes(\":selected\");\n",
       "           var selectedNodeIDs = selectedNodes.map(function(n){return (n.data(\"name\") )})\n",
       "           var selectedEdges = cyjsWidget.cy.edges(\":selected\");\n",
       "           var selectedNodeCount = selectedNodes.length;\n",
       "           var selectedEdgeCount = selectedEdges.length;\n",
       "           console.log(\"selected nodes: \" + selectedNodeCount);\n",
       "           console.log(\"selected edGes:\" + selectedEdgeCount);\n",
       "           var jsonString = JSON.stringify({cmd: \"updateSelectedNodes\",\n",
       "                                            status: \"request\",\n",
       "                                            callback: \"\",\n",
       "                                            payload: selectedNodeIDs});\n",
       "           console.log(\" *** jsonString: \")\n",
       "           console.log(jsonString);\n",
       "           cyjsWidget.model.set(\"msgFromBrowser\", jsonString);\n",
       "           console.log(\"    after setting 'msgFromBrowser\");\n",
       "           cyjsWidget.touch();\n",
       "           },\n",
       "        \n",
       "        loadStyle: function(filename){\n",
       "           var cyObj = this.cy;\n",
       "           console.log(\"cyjsWidget.loadStyle: \" + filename)\n",
       "           console.log(\"loadStyle's notion of this:\");\n",
       "           console.log(this);\n",
       "           console.log(\"loadStyle's notion of cy:\");\n",
       "           console.log(cyObj);\n",
       "           var str = window.location.href;\n",
       "           var url = str.substr(0, str.lastIndexOf(\"/\")) + \"/\" + filename;\n",
       "           url = url.replace(\"/notebooks/\", \"/files/\");\n",
       "           console.log(\"about to getScript: \" + url);\n",
       "           $.getScript(url)\n",
       "              .done(function(script, textStatus) {\n",
       "                 console.log(textStatus);\n",
       "                 cyObj.style(vizmap);\n",
       "                 })\n",
       "             .fail(function( jqxhr, settings, exception ) {\n",
       "                console.log(\"getScript error trying to read \" + filename);\n",
       "                console.log(\"exception: \");\n",
       "                console.log(exception);\n",
       "                });\n",
       "          },\n",
       "        \n",
       "        loadGraph: function(filename){\n",
       "           console.log(\"entering loadGraph\");\n",
       "           var cyObj = this.cy;\n",
       "              // the robust url of a file in the same directory as the notebook is\n",
       "              // str.substring(0, str.lastIndexOf(\"/\"));\n",
       "           var str = window.location.href;\n",
       "           var url = str.substr(0, str.lastIndexOf(\"/\")) + \"/\" + filename;\n",
       "           url = url.replace(\"/notebooks/\", \"/files/\");\n",
       "           console.log(\"=== about to getScript on \" + url);\n",
       "           $.getScript(url)\n",
       "              .done(function(script, textStatus) {\n",
       "                 console.log(\"getScript: \" + textStatus);\n",
       "                 console.log(\"nodes: \" + network.elements.nodes.length);\n",
       "                 if(typeof(network.elements.edges) != \"undefined\")\n",
       "                    console.log(\"edges: \" + network.elements.edges.length);\n",
       "                cyObj.add(network.elements);  // no positions yet\n",
       "                cyObj.nodes().map(function(node){node.data({degree: node.degree()})});\n",
       "                cyObj.layout({\"name\": \"grid\"});\n",
       "                cyObj.fit(150);\n",
       "                }) // .done\n",
       "            .fail(function(jqxhr, settings, exception) {\n",
       "               console.log(\"addNetwork getscript error trying to read \" + filename);\n",
       "               });\n",
       "           },\n",
       "        \n",
       "        render: function() { \n",
       "            console.log(\"entering render\")\n",
       "            this.$el.append(this.createDiv());\n",
       "            this.listenTo(this.model, 'change:frameHeight', this.frameDimensionsChanged, this);\n",
       "            this.listenTo(this.model, 'change:msgFromKernel', this.dispatchRequest, this);\n",
       "            var cyjsWidget = this;\n",
       "            function myFunc(){\n",
       "               cyjsWidget.createCanvas()\n",
       "               }\n",
       "            setTimeout(myFunc, 500);\n",
       "            },\n",
       "\n",
       "        setNodeAttributes: function(attributeName, nodeNames, values){\n",
       "          console.log(\"entering setNodeAttributes\")\n",
       "          console.log(\"have \" + nodeNames.length + \" values for attribute \" + attributeName);\n",
       "          for(var i=0; i < nodeNames.length; i++){\n",
       "             var name = nodeNames[i];\n",
       "             var newValue = values[i];\n",
       "             var filterString = \"[name='\" + name + \"']\";\n",
       "             console.log(\"filterString: \" + filterString);\n",
       "             console.log(\"nodeName: \" + name + \"   value: \" + newValue);\n",
       "             var dataObj = this.cy.nodes().filter(filterString).data();\n",
       "             Object.defineProperty(dataObj, attributeName, {value: newValue});\n",
       "             }// for i\n",
       "         }, // setNodeAttributes\n",
       "        \n",
       "        setEdgeAttributes: function(attributeName, sourceNodes, targetNodes, edgeTypes, attributeValues){\n",
       "            for(var i=0; i < sourceNodes.length; i++){\n",
       "              var selectorString = \"edge[source='\" + sourceNodes[i] + \"'][target='\" + targetNodes[i] +\n",
       "                                   \"'][edgeType='\" + edgeTypes[i] + \"']\";\n",
       "              console.log(selectorString);\n",
       "              console.log(\"eda value: \" + attributeValues[i]);\n",
       "              var dataObj = cy.edges().filter(selectorString).data();\n",
       "              if(dataObj != undefined){\n",
       "                 Object.defineProperty(dataObj, attributeName, \n",
       "                                       {value: attributeValues[i], configurable: true});\n",
       "                 }                  \n",
       "             } // for i\n",
       "          }, // setEdgeAttributes\n",
       "       \n",
       "        dispatchRequest: function(){\n",
       "           console.log(\"dispatchRequest\");\n",
       "           var msgRaw = this.model.get(\"msgFromKernel\");\n",
       "           var msg = JSON.parse(msgRaw);\n",
       "           console.log(msg);\n",
       "           console.log(\"========================\");\n",
       "           console.log(this);\n",
       "           switch(msg.cmd) {\n",
       "              case 'deleteGraph':\n",
       "                this.cy.edges().remove();\n",
       "                this.cy.nodes().remove();\n",
       "                break;\n",
       "              case 'addGraph':\n",
       "                 var g = msg.payload;\n",
       "                 console.log(\"addGraph request\")\n",
       "                 console.log(g)\n",
       "                 this.cy.add(g.elements)\n",
       "                 break;\n",
       "              case 'layout':\n",
       "                 var layoutName = msg.payload;\n",
       "                 this.cy.layout({\"name\": layoutName})\n",
       "                 break;\n",
       "              case 'setPosition':\n",
       "                var positionObjects = msg.payload;\n",
       "                console.log(\"calling setPosition map\");\n",
       "                positionObjects.map(function(e){\n",
       "                  var tag=\"[id='\" + e.id + \"']\";\n",
       "                  cy.$(tag).position({x: e.x, y:e.y});\n",
       "                  });\n",
       "                break;\n",
       "              case 'setNodeAttributes':\n",
       "                var attributeName = msg.payload.attributeName;\n",
       "                var nodeNames = msg.payload.nodeNames;\n",
       "                var values = msg.payload.values;\n",
       "                this.setNodeAttributes(attributeName, nodeNames, values);\n",
       "                this.cy.style().update();\n",
       "                break;\n",
       "                   \n",
       "              case 'setEdgeAttributes':\n",
       "                var attributeName = msg.payload.attributeName;\n",
       "                var sourceNames = msg.payload.sourceNames;\n",
       "                var targetNames = msg.payload.targetNames;\n",
       "                var edgeTypes = msg.payload.edgeTypes;\n",
       "                var attributeValues = msg.payload.values;\n",
       "                console.log(\"js setEdgeAttributes, count = \" + sourceNames.length);\n",
       "                if(typeof(sourceNames) == \"string\") sourceNames = [sourceNames];\n",
       "                if(typeof(targetNames) == \"string\") targetNames = [targetNames];\n",
       "                if(typeof(edgeTypes) == \"string\") edgeTypes = [edgeTypes];\n",
       "                this.setEdgeAttributes(attributeName, sourceNames, targetNames, edgeTypes, attributeValues);\n",
       "                this.cy.style().update()\n",
       "                break;\n",
       "                   \n",
       "              case 'loadStyleFile':\n",
       "                var styleFile = msg.payload;\n",
       "                this.loadStyle(styleFile);\n",
       "                break;\n",
       "              case 'fit':\n",
       "                 var margin = msg.payload;\n",
       "                 console.log(\"fit with margin: \" + margin)\n",
       "                 this.cy.fit(margin);\n",
       "                 break;\n",
       "\n",
       "               case 'fitSelected':\n",
       "                 var margin = msg.payload;\n",
       "                 console.log(\"fit with margin: \" + margin)\n",
       "                 this.cy.fit(this.cy.nodes(\":selected\"), margin);\n",
       "                 break;\n",
       "\n",
       "              case 'getSelectedNodes':\n",
       "                 var selectedNodes = this.cy.filter(\"node:selected\").map(function(node){ \n",
       "                     return node.data().id});\n",
       "                  console.log(\"-- found these selected nodes: \");\n",
       "                  console.log(selectedNodes);\n",
       "                  var jsonString = JSON.stringify({cmd: \"storeSelectedNodes\",\n",
       "                                                status: \"reply\",\n",
       "                                                callback: \"\",\n",
       "                                                payload: selectedNodes})\n",
       "                  console.log(\" *** jsonString: \")\n",
       "                  console.log(jsonString);\n",
       "                  this.model.set(\"msgFromBrowser\", jsonString);\n",
       "                  console.log(\"    after setting 'msgFromBrowser\");\n",
       "                  this.touch();\n",
       "                  break;\n",
       "               case 'selectNodes':\n",
       "                  var nodeNames = msg.payload;\n",
       "                  console.log(\"--- selecting these nodes: \" + nodeNames);\n",
       "                  if(typeof(nodeNames) == \"string\")\n",
       "                     nodeNames = [nodeNames];\n",
       "                 var filterStrings = [];\n",
       "                 for(var i=0; i < nodeNames.length; i++){\n",
       "                   var s = '[name=\"' + nodeNames[i] + '\"]';\n",
       "                   filterStrings.push(s);\n",
       "                   } // for i\n",
       "                var nodesToSelect = this.cy.nodes(filterStrings.join());\n",
       "                nodesToSelect.select()\n",
       "                break;\n",
       "              case 'clearSelection':\n",
       "                 this.cy.nodes().unselect();\n",
       "                 break;\n",
       "            default:\n",
       "               console.log(\"unrecognized msg.cmd: \" + msg.cmd);\n",
       "             } // switch\n",
       "           console.log(\"CONCLUDING dispatchRequest\")\n",
       "           }, \n",
       "        \n",
       "        frameDimensionsChanged: function(){\n",
       "           console.log(\"frameDimensionsChanged\");\n",
       "           var newHeight = this.model.get(\"frameHeight\");\n",
       "           console.log(\"frameHeight: \"  + newHeight);\n",
       "           $(\"#cyOuterDiv\").height(newHeight);\n",
       "           this.cy.resize();\n",
       "           // $(\"#cyDiv\").height(newHeight - $(\"#cyToolbarDiv\").height());\n",
       "           }, \n",
       "        \n",
       "        events: {\n",
       "           //\"click #svg\": \"changeHandler\"\n",
       "           }\n",
       "\n",
       "    });\n",
       "    return {\n",
       "        CyjsView: CyjsView\n",
       "    };\n",
       "});"
      ],
      "text/plain": [
       "<IPython.core.display.Javascript object>"
      ]
     },
     "metadata": {},
     "output_type": "display_data"
    }
   ],
   "source": [
    "%%javascript\n",
    "\"use strict\";\n",
    "\n",
    "require.undef('cyjs_sa');\n",
    "\n",
    "define('cyjs_sa', [\"jupyter-js-widgets\", \"cytoscape\"], function(widgets, cytoscape) {\n",
    "    \n",
    "    var CyjsView = widgets.DOMWidgetView.extend({\n",
    "\n",
    "        initialize: function() {\n",
    "           console.log(\"constructing CyjsView\");\n",
    "           this.frameHeight = \"300px\";\n",
    "           this.options = {}; \n",
    "           this.msg = \"empty in javascript\";\n",
    "           this.msgFromKernel = \"\";\n",
    "           },\n",
    "\n",
    "        resizeHandler: function(){\n",
    "           console.log(\"cyjs resizeHandler\")            \n",
    "           },\n",
    "\n",
    "        createDiv: function(){\n",
    "            var outerDiv = $(\"<div id='cyOuterDiv' style='border:1px solid gray; height: 400px; width: 97%'></div>\");\n",
    "            var toolbarDiv = $(\"<div id='cyToolbarDiv' style='height: 30px; width: 97%'></div>\");\n",
    "            var cyDiv = $(\"<div id='cyDiv' style='height: 100%; width: 97%'></div>\");\n",
    "            outerDiv.append(toolbarDiv);\n",
    "            outerDiv.append(cyDiv);\n",
    "            var cyWidget = this;\n",
    "            var fitButton = $(\"<button>Fit</button>\").click(function(){\n",
    "                console.log(\"Fit!\");\n",
    "                console.log(\"fitButton's notion of this:\")\n",
    "                console.log(cyWidget.cy);\n",
    "                cyWidget.cy.fit(50);\n",
    "               });\n",
    "            toolbarDiv.append(fitButton);\n",
    "            var fitSelectedButton = $(\"<button>Fit Selected</button>\").click(function(){\n",
    "                var selectedNodes = cyWidget.cy.filter('node:selected');\n",
    "                if(selectedNodes.length > 0){\n",
    "                   cyWidget.cy.fit(selectedNodes, 50);\n",
    "                   }\n",
    "               });\n",
    "            toolbarDiv.append(fitSelectedButton);\n",
    "            var sfnButton = $(\"<button>SFN</button>\").click(function(){\n",
    "               cyWidget.cy.nodes(':selected').neighborhood().nodes().select()\n",
    "               });\n",
    "            toolbarDiv.append(sfnButton);\n",
    "            var clearButton = $(\"<button>Clear</button>\").click(function(){\n",
    "               cyWidget.cy.nodes().unselect();\n",
    "               cyWidget.cy.edges().unselect();\n",
    "               });\n",
    "            toolbarDiv.append(clearButton);\n",
    "            $(window).resize(this.resizeHandler);\n",
    "            return(outerDiv);\n",
    "           },\n",
    " \n",
    "        \n",
    "        createCanvas: function(){\n",
    "            var cyjsWidget = this;\n",
    "            console.log(\"createCanvas notion of this:\")\n",
    "            console.log(cyjsWidget);\n",
    "            this.cy = cytoscape({\n",
    "               container: document.getElementById('cyDiv'),\n",
    "               layout: {name: 'preset'},\n",
    "          ready: function(){\n",
    "            console.log(\"small cyjs network ready\");\n",
    "            console.log(\"ready's notion of this:\")\n",
    "            console.log(this);\n",
    "            cyjsWidget.cy = this;\n",
    "            window.cy = this;  // for easy debugging\n",
    "            console.log(\"ready's notion of cyjsWidget:\")\n",
    "            console.log(cyjsWidget);\n",
    "            console.log(\"calling this.fit\")\n",
    "            //cyWidget.cy.fit(100);\n",
    "            console.log(\"--- about to call loadGraph\")\n",
    "            //cyjsWidget.loadGraph(\"priyanka.json\");\n",
    "            cyjsWidget.loadStyle(\"style.js\");\n",
    "            //cyjsWidget.cy.layout({\"name\": \"grid\"});\n",
    "            console.log(\"    back from loadGraph\")\n",
    "            cyjsWidget.cy.on(\"select\", function(){\n",
    "               console.log(\"calling updateSelectionToKernel, on select\");\n",
    "               cyjsWidget.updateSelectionToKernel(cyjsWidget);\n",
    "               });\n",
    "            cyjsWidget.cy.on(\"unselect\", function(){\n",
    "               console.log(\"calling updateSelectionToKernel, on unselect\");\n",
    "               cyjsWidget.updateSelectionToKernel(cyjsWidget);\n",
    "               });\n",
    "            } // ready\n",
    "           })},\n",
    "\n",
    "        updateSelectionToKernel: function(cyjsWidget){\n",
    "           console.log(\"*** entering updateSelectionToKernel\") \n",
    "           var selectedNodes = cyjsWidget.cy.nodes(\":selected\");\n",
    "           var selectedNodeIDs = selectedNodes.map(function(n){return (n.data(\"name\") )})\n",
    "           var selectedEdges = cyjsWidget.cy.edges(\":selected\");\n",
    "           var selectedNodeCount = selectedNodes.length;\n",
    "           var selectedEdgeCount = selectedEdges.length;\n",
    "           console.log(\"selected nodes: \" + selectedNodeCount);\n",
    "           console.log(\"selected edGes:\" + selectedEdgeCount);\n",
    "           var jsonString = JSON.stringify({cmd: \"updateSelectedNodes\",\n",
    "                                            status: \"request\",\n",
    "                                            callback: \"\",\n",
    "                                            payload: selectedNodeIDs});\n",
    "           console.log(\" *** jsonString: \")\n",
    "           console.log(jsonString);\n",
    "           cyjsWidget.model.set(\"msgFromBrowser\", jsonString);\n",
    "           console.log(\"    after setting 'msgFromBrowser\");\n",
    "           cyjsWidget.touch();\n",
    "           },\n",
    "        \n",
    "        loadStyle: function(filename){\n",
    "           var cyObj = this.cy;\n",
    "           console.log(\"cyjsWidget.loadStyle: \" + filename)\n",
    "           console.log(\"loadStyle's notion of this:\");\n",
    "           console.log(this);\n",
    "           console.log(\"loadStyle's notion of cy:\");\n",
    "           console.log(cyObj);\n",
    "           var str = window.location.href;\n",
    "           var url = str.substr(0, str.lastIndexOf(\"/\")) + \"/\" + filename;\n",
    "           url = url.replace(\"/notebooks/\", \"/files/\");\n",
    "           console.log(\"about to getScript: \" + url);\n",
    "           $.getScript(url)\n",
    "              .done(function(script, textStatus) {\n",
    "                 console.log(textStatus);\n",
    "                 cyObj.style(vizmap);\n",
    "                 })\n",
    "             .fail(function( jqxhr, settings, exception ) {\n",
    "                console.log(\"getScript error trying to read \" + filename);\n",
    "                console.log(\"exception: \");\n",
    "                console.log(exception);\n",
    "                });\n",
    "          },\n",
    "        \n",
    "        loadGraph: function(filename){\n",
    "           console.log(\"entering loadGraph\");\n",
    "           var cyObj = this.cy;\n",
    "              // the robust url of a file in the same directory as the notebook is\n",
    "              // str.substring(0, str.lastIndexOf(\"/\"));\n",
    "           var str = window.location.href;\n",
    "           var url = str.substr(0, str.lastIndexOf(\"/\")) + \"/\" + filename;\n",
    "           url = url.replace(\"/notebooks/\", \"/files/\");\n",
    "           console.log(\"=== about to getScript on \" + url);\n",
    "           $.getScript(url)\n",
    "              .done(function(script, textStatus) {\n",
    "                 console.log(\"getScript: \" + textStatus);\n",
    "                 console.log(\"nodes: \" + network.elements.nodes.length);\n",
    "                 if(typeof(network.elements.edges) != \"undefined\")\n",
    "                    console.log(\"edges: \" + network.elements.edges.length);\n",
    "                cyObj.add(network.elements);  // no positions yet\n",
    "                cyObj.nodes().map(function(node){node.data({degree: node.degree()})});\n",
    "                cyObj.layout({\"name\": \"grid\"});\n",
    "                cyObj.fit(150);\n",
    "                }) // .done\n",
    "            .fail(function(jqxhr, settings, exception) {\n",
    "               console.log(\"addNetwork getscript error trying to read \" + filename);\n",
    "               });\n",
    "           },\n",
    "        \n",
    "        render: function() { \n",
    "            console.log(\"entering render\")\n",
    "            this.$el.append(this.createDiv());\n",
    "            this.listenTo(this.model, 'change:frameHeight', this.frameDimensionsChanged, this);\n",
    "            this.listenTo(this.model, 'change:msgFromKernel', this.dispatchRequest, this);\n",
    "            var cyjsWidget = this;\n",
    "            function myFunc(){\n",
    "               cyjsWidget.createCanvas()\n",
    "               }\n",
    "            setTimeout(myFunc, 500);\n",
    "            },\n",
    "\n",
    "        setNodeAttributes: function(attributeName, nodeNames, values){\n",
    "          console.log(\"entering setNodeAttributes\")\n",
    "          console.log(\"have \" + nodeNames.length + \" values for attribute \" + attributeName);\n",
    "          for(var i=0; i < nodeNames.length; i++){\n",
    "             var name = nodeNames[i];\n",
    "             var newValue = values[i];\n",
    "             var filterString = \"[name='\" + name + \"']\";\n",
    "             console.log(\"filterString: \" + filterString);\n",
    "             console.log(\"nodeName: \" + name + \"   value: \" + newValue);\n",
    "             var dataObj = this.cy.nodes().filter(filterString).data();\n",
    "             Object.defineProperty(dataObj, attributeName, {value: newValue});\n",
    "             }// for i\n",
    "         }, // setNodeAttributes\n",
    "        \n",
    "        setEdgeAttributes: function(attributeName, sourceNodes, targetNodes, edgeTypes, attributeValues){\n",
    "            for(var i=0; i < sourceNodes.length; i++){\n",
    "              var selectorString = \"edge[source='\" + sourceNodes[i] + \"'][target='\" + targetNodes[i] +\n",
    "                                   \"'][edgeType='\" + edgeTypes[i] + \"']\";\n",
    "              console.log(selectorString);\n",
    "              console.log(\"eda value: \" + attributeValues[i]);\n",
    "              var dataObj = cy.edges().filter(selectorString).data();\n",
    "              if(dataObj != undefined){\n",
    "                 Object.defineProperty(dataObj, attributeName, \n",
    "                                       {value: attributeValues[i], configurable: true});\n",
    "                 }                  \n",
    "             } // for i\n",
    "          }, // setEdgeAttributes\n",
    "       \n",
    "        dispatchRequest: function(){\n",
    "           console.log(\"dispatchRequest\");\n",
    "           var msgRaw = this.model.get(\"msgFromKernel\");\n",
    "           var msg = JSON.parse(msgRaw);\n",
    "           console.log(msg);\n",
    "           console.log(\"========================\");\n",
    "           console.log(this);\n",
    "           switch(msg.cmd) {\n",
    "              case 'deleteGraph':\n",
    "                this.cy.edges().remove();\n",
    "                this.cy.nodes().remove();\n",
    "                break;\n",
    "              case 'addGraph':\n",
    "                 var g = msg.payload;\n",
    "                 console.log(\"addGraph request\")\n",
    "                 console.log(g)\n",
    "                 this.cy.add(g.elements)\n",
    "                 break;\n",
    "              case 'layout':\n",
    "                 var layoutName = msg.payload;\n",
    "                 this.cy.layout({\"name\": layoutName})\n",
    "                 break;\n",
    "              case 'setPosition':\n",
    "                var positionObjects = msg.payload;\n",
    "                console.log(\"calling setPosition map\");\n",
    "                positionObjects.map(function(e){\n",
    "                  var tag=\"[id='\" + e.id + \"']\";\n",
    "                  cy.$(tag).position({x: e.x, y:e.y});\n",
    "                  });\n",
    "                break;\n",
    "              case 'setNodeAttributes':\n",
    "                var attributeName = msg.payload.attributeName;\n",
    "                var nodeNames = msg.payload.nodeNames;\n",
    "                var values = msg.payload.values;\n",
    "                this.setNodeAttributes(attributeName, nodeNames, values);\n",
    "                this.cy.style().update();\n",
    "                break;\n",
    "                   \n",
    "              case 'setEdgeAttributes':\n",
    "                var attributeName = msg.payload.attributeName;\n",
    "                var sourceNames = msg.payload.sourceNames;\n",
    "                var targetNames = msg.payload.targetNames;\n",
    "                var edgeTypes = msg.payload.edgeTypes;\n",
    "                var attributeValues = msg.payload.values;\n",
    "                console.log(\"js setEdgeAttributes, count = \" + sourceNames.length);\n",
    "                if(typeof(sourceNames) == \"string\") sourceNames = [sourceNames];\n",
    "                if(typeof(targetNames) == \"string\") targetNames = [targetNames];\n",
    "                if(typeof(edgeTypes) == \"string\") edgeTypes = [edgeTypes];\n",
    "                this.setEdgeAttributes(attributeName, sourceNames, targetNames, edgeTypes, attributeValues);\n",
    "                this.cy.style().update()\n",
    "                break;\n",
    "                   \n",
    "              case 'loadStyleFile':\n",
    "                var styleFile = msg.payload;\n",
    "                this.loadStyle(styleFile);\n",
    "                break;\n",
    "              case 'fit':\n",
    "                 var margin = msg.payload;\n",
    "                 console.log(\"fit with margin: \" + margin)\n",
    "                 this.cy.fit(margin);\n",
    "                 break;\n",
    "\n",
    "               case 'fitSelected':\n",
    "                 var margin = msg.payload;\n",
    "                 console.log(\"fit with margin: \" + margin)\n",
    "                 this.cy.fit(this.cy.nodes(\":selected\"), margin);\n",
    "                 break;\n",
    "\n",
    "              case 'getSelectedNodes':\n",
    "                 var selectedNodes = this.cy.filter(\"node:selected\").map(function(node){ \n",
    "                     return node.data().id});\n",
    "                  console.log(\"-- found these selected nodes: \");\n",
    "                  console.log(selectedNodes);\n",
    "                  var jsonString = JSON.stringify({cmd: \"storeSelectedNodes\",\n",
    "                                                status: \"reply\",\n",
    "                                                callback: \"\",\n",
    "                                                payload: selectedNodes})\n",
    "                  console.log(\" *** jsonString: \")\n",
    "                  console.log(jsonString);\n",
    "                  this.model.set(\"msgFromBrowser\", jsonString);\n",
    "                  console.log(\"    after setting 'msgFromBrowser\");\n",
    "                  this.touch();\n",
    "                  break;\n",
    "               case 'selectNodes':\n",
    "                  var nodeNames = msg.payload;\n",
    "                  console.log(\"--- selecting these nodes: \" + nodeNames);\n",
    "                  if(typeof(nodeNames) == \"string\")\n",
    "                     nodeNames = [nodeNames];\n",
    "                 var filterStrings = [];\n",
    "                 for(var i=0; i < nodeNames.length; i++){\n",
    "                   var s = '[name=\"' + nodeNames[i] + '\"]';\n",
    "                   filterStrings.push(s);\n",
    "                   } // for i\n",
    "                var nodesToSelect = this.cy.nodes(filterStrings.join());\n",
    "                nodesToSelect.select()\n",
    "                break;\n",
    "              case 'clearSelection':\n",
    "                 this.cy.nodes().unselect();\n",
    "                 break;\n",
    "            default:\n",
    "               console.log(\"unrecognized msg.cmd: \" + msg.cmd);\n",
    "             } // switch\n",
    "           console.log(\"CONCLUDING dispatchRequest\")\n",
    "           }, \n",
    "        \n",
    "        frameDimensionsChanged: function(){\n",
    "           console.log(\"frameDimensionsChanged\");\n",
    "           var newHeight = this.model.get(\"frameHeight\");\n",
    "           console.log(\"frameHeight: \"  + newHeight);\n",
    "           $(\"#cyOuterDiv\").height(newHeight);\n",
    "           this.cy.resize();\n",
    "           // $(\"#cyDiv\").height(newHeight - $(\"#cyToolbarDiv\").height());\n",
    "           }, \n",
    "        \n",
    "        events: {\n",
    "           //\"click #svg\": \"changeHandler\"\n",
    "           }\n",
    "\n",
    "    });\n",
    "    return {\n",
    "        CyjsView: CyjsView\n",
    "    };\n",
    "});"
   ]
  },
  {
   "cell_type": "code",
   "execution_count": 38,
   "metadata": {},
   "outputs": [
    {
     "data": {
      "application/vnd.jupyter.widget-view+json": {
       "model_id": "0fffe8eed61a4cd58529d5b6b3749359"
      }
     },
     "metadata": {},
     "output_type": "display_data"
    }
   ],
   "source": [
    "cy = cyjs_sa()\n",
    "display(cy)"
   ]
  },
  {
   "cell_type": "code",
   "execution_count": 51,
   "metadata": {
    "collapsed": true
   },
   "outputs": [],
   "source": [
    "cy.setHeight(800)"
   ]
  },
  {
   "cell_type": "code",
   "execution_count": 39,
   "metadata": {
    "collapsed": true
   },
   "outputs": [],
   "source": [
    "from igraph import *\n",
    "import random\n",
    "\n",
    "networkFile = \"toyNetwork2.tsv\"\n",
    "nodeAttributesFile = \"type.noa\"\n",
    "lines = open(networkFile).readlines()\n",
    "tbl_rel = []\n",
    "for line in lines:\n",
    "   tokens = line.rstrip(\"\\n\").split(\"\\t\")\n",
    "   tokens = [x.strip() for x in tokens]\n",
    "   if(len(tokens) == 3):\n",
    "      tbl_rel.append(tokens)\n",
    "\n"
   ]
  },
  {
   "cell_type": "code",
   "execution_count": 40,
   "metadata": {
    "collapsed": true,
    "scrolled": true
   },
   "outputs": [],
   "source": [
    "lines = open(nodeAttributesFile).readlines()\n",
    "\n",
    "nodeTypes=[]\n",
    "for line in lines:\n",
    "   (node, type) = line.rstrip(\"\\n\").split(\"\\t\")\n",
    "   nodeTypes.append([node, type])\n",
    "\n",
    "g = Graph(directed=True)\n",
    "nodeNames = [x[0] for x in nodeTypes]\n",
    "nodeTypeValues = [x[1] for x in nodeTypes]\n",
    "\n",
    "g.add_vertices(nodeNames)\n",
    "g.vs['type'] = nodeTypeValues\n"
   ]
  },
  {
   "cell_type": "code",
   "execution_count": 41,
   "metadata": {
    "collapsed": true
   },
   "outputs": [],
   "source": [
    "for row in tbl_rel:\n",
    "  source = row[0];\n",
    "  target = row[1];\n",
    "  #print(\"adding edge, %s -> %s\" % (source, target))\n",
    "  g.add_edge(source, target)\n",
    "\n",
    "g.es['edgeType'] = [x[2] for x in tbl_rel]\n",
    "#g.es()['flux'] = random.sample(range(0, 1000), len(g.es()))\n"
   ]
  },
  {
   "cell_type": "code",
   "execution_count": 42,
   "metadata": {},
   "outputs": [
    {
     "data": {
      "text/plain": [
       "5"
      ]
     },
     "execution_count": 42,
     "metadata": {},
     "output_type": "execute_result"
    }
   ],
   "source": [
    "g.es()[0].target"
   ]
  },
  {
   "cell_type": "code",
   "execution_count": 43,
   "metadata": {},
   "outputs": [
    {
     "data": {
      "text/plain": [
       "<igraph.Graph at 0x1069f5d68>"
      ]
     },
     "execution_count": 43,
     "metadata": {},
     "output_type": "execute_result"
    }
   ],
   "source": [
    "g"
   ]
  },
  {
   "cell_type": "code",
   "execution_count": 44,
   "metadata": {
    "collapsed": true
   },
   "outputs": [],
   "source": [
    "cy.deleteGraph()\n",
    "cy.addGraph(g)"
   ]
  },
  {
   "cell_type": "code",
   "execution_count": 45,
   "metadata": {
    "collapsed": true
   },
   "outputs": [],
   "source": [
    "cy.loadStyleFile(\"style2.js\")"
   ]
  },
  {
   "cell_type": "code",
   "execution_count": 46,
   "metadata": {
    "collapsed": true
   },
   "outputs": [],
   "source": [
    "cy.selectNodes(\"R3\")\n",
    "cy.fitSelected(200)"
   ]
  },
  {
   "cell_type": "code",
   "execution_count": 47,
   "metadata": {
    "collapsed": true
   },
   "outputs": [],
   "source": [
    "rtLayout = g.layout(\"rt\")\n",
    "cy.setPosition(rtLayout)\n",
    "kkLayout = g.layout(\"kk\")\n",
    "cy.setPosition(kkLayout)\n",
    "cy.fit(100)\n",
    "#for i in range(len(rtLayout)):\n",
    "#   print(rtLayout[i])\n"
   ]
  },
  {
   "cell_type": "code",
   "execution_count": 157,
   "metadata": {
    "collapsed": true
   },
   "outputs": [],
   "source": [
    "igraphLayoutStrategies = [\"circle\", \"drl\", \"fruchterman_reingold\", \n",
    "                          \"fruchterman_reingold_3d\", \n",
    "                          \"kamada_kawai\", \"kamada_kawai_3d\", \"lgl\",\n",
    "                          \"random\", \"random_3d\", \"reingold_tilford\",\n",
    "                          \"reingold_tilford_circular\", \"sphere\"]"
   ]
  },
  {
   "cell_type": "code",
   "execution_count": 158,
   "metadata": {
    "collapsed": true
   },
   "outputs": [],
   "source": [
    "#for strategy in igraphLayoutStrategies:\n",
    "#   print(\"---- %s\" % strategy)\n",
    "#   layout = g.layout(strategy)\n",
    "#   cy.setPosition(layout)\n",
    "#   cy.fit(100)\n",
    "#   time.sleep(1)"
   ]
  },
  {
   "cell_type": "code",
   "execution_count": 68,
   "metadata": {},
   "outputs": [
    {
     "data": {
      "text/plain": [
       "['R3']"
      ]
     },
     "execution_count": 68,
     "metadata": {},
     "output_type": "execute_result"
    }
   ],
   "source": [
    "cy.getSelectedNodes()"
   ]
  },
  {
   "cell_type": "code",
   "execution_count": 69,
   "metadata": {
    "collapsed": true
   },
   "outputs": [],
   "source": [
    "cy.clearSelection()"
   ]
  },
  {
   "cell_type": "code",
   "execution_count": 22,
   "metadata": {},
   "outputs": [
    {
     "name": "stderr",
     "output_type": "stream",
     "text": [
      "/Users/paul/anaconda/lib/python3.5/site-packages/numexpr/cpuinfo.py:76: UserWarning: [Errno 2] No such file or directory: 'sysctl'\n",
      "  stacklevel=stacklevel + 1):\n"
     ]
    },
    {
     "data": {
      "text/html": [
       "<div>\n",
       "<table border=\"1\" class=\"dataframe\">\n",
       "  <thead>\n",
       "    <tr style=\"text-align: right;\">\n",
       "      <th></th>\n",
       "      <th>cond1</th>\n",
       "      <th>cond2</th>\n",
       "      <th>cond3</th>\n",
       "    </tr>\n",
       "  </thead>\n",
       "  <tbody>\n",
       "    <tr>\n",
       "      <th>R1</th>\n",
       "      <td>477</td>\n",
       "      <td>246</td>\n",
       "      <td>752</td>\n",
       "    </tr>\n",
       "    <tr>\n",
       "      <th>R2</th>\n",
       "      <td>44</td>\n",
       "      <td>734</td>\n",
       "      <td>633</td>\n",
       "    </tr>\n",
       "    <tr>\n",
       "      <th>R3</th>\n",
       "      <td>799</td>\n",
       "      <td>703</td>\n",
       "      <td>247</td>\n",
       "    </tr>\n",
       "    <tr>\n",
       "      <th>R4</th>\n",
       "      <td>368</td>\n",
       "      <td>736</td>\n",
       "      <td>551</td>\n",
       "    </tr>\n",
       "    <tr>\n",
       "      <th>R5</th>\n",
       "      <td>563</td>\n",
       "      <td>801</td>\n",
       "      <td>234</td>\n",
       "    </tr>\n",
       "  </tbody>\n",
       "</table>\n",
       "</div>"
      ],
      "text/plain": [
       "    cond1  cond2  cond3\n",
       "R1    477    246    752\n",
       "R2     44    734    633\n",
       "R3    799    703    247\n",
       "R4    368    736    551\n",
       "R5    563    801    234"
      ]
     },
     "execution_count": 22,
     "metadata": {},
     "output_type": "execute_result"
    }
   ],
   "source": [
    "from pandas import *\n",
    "tbl_flux = DataFrame.from_csv('flux.tsv', sep='\\t', header=0)\n",
    "tbl_flux"
   ]
  },
  {
   "cell_type": "code",
   "execution_count": 23,
   "metadata": {
    "collapsed": true
   },
   "outputs": [],
   "source": [
    "reactionNames = tbl_flux.index.tolist()\n",
    "conditionNames = tbl_flux.columns.tolist()"
   ]
  },
  {
   "cell_type": "code",
   "execution_count": 24,
   "metadata": {},
   "outputs": [
    {
     "data": {
      "text/plain": [
       "[477, 44, 799, 368, 563]"
      ]
     },
     "execution_count": 24,
     "metadata": {},
     "output_type": "execute_result"
    }
   ],
   "source": [
    "values = tbl_flux[conditionNames[0]].tolist()\n",
    "values"
   ]
  },
  {
   "cell_type": "code",
   "execution_count": 25,
   "metadata": {
    "collapsed": true
   },
   "outputs": [],
   "source": [
    "cy.setNodeAttributes(\"flux\", reactionNames, values)"
   ]
  },
  {
   "cell_type": "code",
   "execution_count": 26,
   "metadata": {},
   "outputs": [
    {
     "data": {
      "text/html": [
       "<div>\n",
       "<table border=\"1\" class=\"dataframe\">\n",
       "  <thead>\n",
       "    <tr style=\"text-align: right;\">\n",
       "      <th></th>\n",
       "      <th>source</th>\n",
       "      <th>target</th>\n",
       "      <th>edgeType</th>\n",
       "      <th>cond1</th>\n",
       "      <th>cond2</th>\n",
       "      <th>cond3</th>\n",
       "    </tr>\n",
       "  </thead>\n",
       "  <tbody>\n",
       "    <tr>\n",
       "      <th>0</th>\n",
       "      <td>R1</td>\n",
       "      <td>a</td>\n",
       "      <td>consumes</td>\n",
       "      <td>701</td>\n",
       "      <td>369</td>\n",
       "      <td>691</td>\n",
       "    </tr>\n",
       "    <tr>\n",
       "      <th>1</th>\n",
       "      <td>R1</td>\n",
       "      <td>b</td>\n",
       "      <td>consumes</td>\n",
       "      <td>885</td>\n",
       "      <td>389</td>\n",
       "      <td>556</td>\n",
       "    </tr>\n",
       "    <tr>\n",
       "      <th>2</th>\n",
       "      <td>R1</td>\n",
       "      <td>c</td>\n",
       "      <td>produces</td>\n",
       "      <td>274</td>\n",
       "      <td>692</td>\n",
       "      <td>927</td>\n",
       "    </tr>\n",
       "    <tr>\n",
       "      <th>3</th>\n",
       "      <td>R2</td>\n",
       "      <td>a</td>\n",
       "      <td>consumes</td>\n",
       "      <td>326</td>\n",
       "      <td>364</td>\n",
       "      <td>181</td>\n",
       "    </tr>\n",
       "    <tr>\n",
       "      <th>4</th>\n",
       "      <td>R2</td>\n",
       "      <td>d</td>\n",
       "      <td>consumes</td>\n",
       "      <td>742</td>\n",
       "      <td>90</td>\n",
       "      <td>643</td>\n",
       "    </tr>\n",
       "    <tr>\n",
       "      <th>5</th>\n",
       "      <td>R2</td>\n",
       "      <td>e</td>\n",
       "      <td>produces</td>\n",
       "      <td>832</td>\n",
       "      <td>660</td>\n",
       "      <td>96</td>\n",
       "    </tr>\n",
       "    <tr>\n",
       "      <th>6</th>\n",
       "      <td>R3</td>\n",
       "      <td>c</td>\n",
       "      <td>consumes</td>\n",
       "      <td>83</td>\n",
       "      <td>275</td>\n",
       "      <td>394</td>\n",
       "    </tr>\n",
       "    <tr>\n",
       "      <th>7</th>\n",
       "      <td>R3</td>\n",
       "      <td>f</td>\n",
       "      <td>consumes</td>\n",
       "      <td>318</td>\n",
       "      <td>224</td>\n",
       "      <td>587</td>\n",
       "    </tr>\n",
       "    <tr>\n",
       "      <th>8</th>\n",
       "      <td>R3</td>\n",
       "      <td>h</td>\n",
       "      <td>produces</td>\n",
       "      <td>312</td>\n",
       "      <td>448</td>\n",
       "      <td>170</td>\n",
       "    </tr>\n",
       "    <tr>\n",
       "      <th>9</th>\n",
       "      <td>R3</td>\n",
       "      <td>i</td>\n",
       "      <td>produces</td>\n",
       "      <td>661</td>\n",
       "      <td>94</td>\n",
       "      <td>7</td>\n",
       "    </tr>\n",
       "    <tr>\n",
       "      <th>10</th>\n",
       "      <td>R4</td>\n",
       "      <td>x</td>\n",
       "      <td>consumes</td>\n",
       "      <td>340</td>\n",
       "      <td>197</td>\n",
       "      <td>281</td>\n",
       "    </tr>\n",
       "    <tr>\n",
       "      <th>11</th>\n",
       "      <td>R4</td>\n",
       "      <td>y</td>\n",
       "      <td>consumes</td>\n",
       "      <td>883</td>\n",
       "      <td>12</td>\n",
       "      <td>197</td>\n",
       "    </tr>\n",
       "    <tr>\n",
       "      <th>12</th>\n",
       "      <td>R4</td>\n",
       "      <td>z</td>\n",
       "      <td>produces</td>\n",
       "      <td>784</td>\n",
       "      <td>172</td>\n",
       "      <td>5</td>\n",
       "    </tr>\n",
       "    <tr>\n",
       "      <th>13</th>\n",
       "      <td>R4</td>\n",
       "      <td>w</td>\n",
       "      <td>consumes</td>\n",
       "      <td>407</td>\n",
       "      <td>712</td>\n",
       "      <td>518</td>\n",
       "    </tr>\n",
       "    <tr>\n",
       "      <th>14</th>\n",
       "      <td>R5</td>\n",
       "      <td>z</td>\n",
       "      <td>consumes</td>\n",
       "      <td>642</td>\n",
       "      <td>822</td>\n",
       "      <td>306</td>\n",
       "    </tr>\n",
       "    <tr>\n",
       "      <th>15</th>\n",
       "      <td>R5</td>\n",
       "      <td>z1</td>\n",
       "      <td>produces</td>\n",
       "      <td>759</td>\n",
       "      <td>218</td>\n",
       "      <td>600</td>\n",
       "    </tr>\n",
       "  </tbody>\n",
       "</table>\n",
       "</div>"
      ],
      "text/plain": [
       "   source target  edgeType  cond1  cond2  cond3\n",
       "0      R1      a  consumes    701    369    691\n",
       "1      R1      b  consumes    885    389    556\n",
       "2      R1      c  produces    274    692    927\n",
       "3      R2      a  consumes    326    364    181\n",
       "4      R2      d  consumes    742     90    643\n",
       "5      R2      e  produces    832    660     96\n",
       "6      R3      c  consumes     83    275    394\n",
       "7      R3      f  consumes    318    224    587\n",
       "8      R3      h  produces    312    448    170\n",
       "9      R3      i  produces    661     94      7\n",
       "10     R4      x  consumes    340    197    281\n",
       "11     R4      y  consumes    883     12    197\n",
       "12     R4      z  produces    784    172      5\n",
       "13     R4      w  consumes    407    712    518\n",
       "14     R5      z  consumes    642    822    306\n",
       "15     R5     z1  produces    759    218    600"
      ]
     },
     "execution_count": 26,
     "metadata": {},
     "output_type": "execute_result"
    }
   ],
   "source": [
    "tbl_edgeFlux = read_csv('edgeFlux.tsv', sep='\\t')\n",
    "tbl_edgeFlux"
   ]
  },
  {
   "cell_type": "code",
   "execution_count": 27,
   "metadata": {
    "collapsed": true
   },
   "outputs": [],
   "source": [
    "sourceNodes = tbl_edgeFlux[\"source\"].tolist()\n",
    "targetNodes = tbl_edgeFlux[\"target\"].tolist()\n",
    "edgeTypes = tbl_edgeFlux[\"edgeType\"].tolist()\n",
    "values = tbl_edgeFlux[\"cond3\"]"
   ]
  },
  {
   "cell_type": "code",
   "execution_count": 28,
   "metadata": {
    "collapsed": true
   },
   "outputs": [],
   "source": [
    "cy.setEdgeAttributes(\"flux\", sourceNodes, targetNodes, edgeTypes, values)"
   ]
  },
  {
   "cell_type": "code",
   "execution_count": 184,
   "metadata": {
    "collapsed": true
   },
   "outputs": [],
   "source": [
    "cy.selectNodes([\"R3\", \"i\"])"
   ]
  },
  {
   "cell_type": "code",
   "execution_count": 185,
   "metadata": {},
   "outputs": [
    {
     "data": {
      "text/plain": [
       "[]"
      ]
     },
     "execution_count": 185,
     "metadata": {},
     "output_type": "execute_result"
    }
   ],
   "source": [
    "cy.getSelectedNodes()"
   ]
  },
  {
   "cell_type": "code",
   "execution_count": 34,
   "metadata": {
    "collapsed": true
   },
   "outputs": [],
   "source": [
    "cy.fitSelected(200)"
   ]
  },
  {
   "cell_type": "code",
   "execution_count": 222,
   "metadata": {},
   "outputs": [
    {
     "data": {
      "text/plain": [
       "26"
      ]
     },
     "execution_count": 222,
     "metadata": {},
     "output_type": "execute_result"
    }
   ],
   "source": [
    "len(g.vs)"
   ]
  },
  {
   "cell_type": "code",
   "execution_count": 225,
   "metadata": {},
   "outputs": [
    {
     "data": {
      "text/plain": [
       "igraph.Vertex(<igraph.Graph object at 0x104b42318>, 1, {'name': 'R2', 'type': 'reaction'})"
      ]
     },
     "execution_count": 225,
     "metadata": {},
     "output_type": "execute_result"
    }
   ],
   "source": [
    "g.vs[1]"
   ]
  },
  {
   "cell_type": "code",
   "execution_count": 46,
   "metadata": {},
   "outputs": [
    {
     "data": {
      "text/plain": [
       "4"
      ]
     },
     "execution_count": 46,
     "metadata": {},
     "output_type": "execute_result"
    }
   ],
   "source": [
    "g.vs.find(\"R5\").index"
   ]
  },
  {
   "cell_type": "code",
   "execution_count": 66,
   "metadata": {
    "collapsed": true
   },
   "outputs": [],
   "source": [
    "names = g.vs['name']\n",
    "ids = [g.vs.find(name).index for name in g.vs['name']]\n",
    "nodeMap = dict(zip(names, ids))"
   ]
  },
  {
   "cell_type": "code",
   "execution_count": 67,
   "metadata": {},
   "outputs": [
    {
     "data": {
      "text/plain": [
       "2"
      ]
     },
     "execution_count": 67,
     "metadata": {},
     "output_type": "execute_result"
    }
   ],
   "source": [
    "nodeMap[\"R3\"]"
   ]
  },
  {
   "cell_type": "code",
   "execution_count": 69,
   "metadata": {},
   "outputs": [
    {
     "data": {
      "text/plain": [
       "[0, 7, 4, 11]"
      ]
     },
     "execution_count": 69,
     "metadata": {},
     "output_type": "execute_result"
    }
   ],
   "source": [
    "nodes = [\"R1\", \"c\", \"R5\", \"g1\"]\n",
    "[nodeMap[name] for name in nodes]"
   ]
  },
  {
   "cell_type": "code",
   "execution_count": 45,
   "metadata": {},
   "outputs": [
    {
     "data": {
      "text/plain": [
       "[0,\n",
       " 1,\n",
       " 2,\n",
       " 3,\n",
       " 4,\n",
       " 5,\n",
       " 6,\n",
       " 7,\n",
       " 8,\n",
       " 9,\n",
       " 10,\n",
       " 11,\n",
       " 12,\n",
       " 13,\n",
       " 14,\n",
       " 15,\n",
       " 16,\n",
       " 17,\n",
       " 18,\n",
       " 19,\n",
       " 20,\n",
       " 21,\n",
       " 22,\n",
       " 23,\n",
       " 24,\n",
       " 25]"
      ]
     },
     "execution_count": 45,
     "metadata": {},
     "output_type": "execute_result"
    }
   ],
   "source": [
    "[g.vs.find(x).index for x in g.vs['name']]"
   ]
  },
  {
   "cell_type": "code",
   "execution_count": 242,
   "metadata": {},
   "outputs": [
    {
     "data": {
      "text/plain": [
       "{'R1': 0,\n",
       " 'R2': 1,\n",
       " 'R3': 2,\n",
       " 'R4': 3,\n",
       " 'R5': 4,\n",
       " 'a': 5,\n",
       " 'b': 6,\n",
       " 'c': 7,\n",
       " 'd': 8,\n",
       " 'e': 9,\n",
       " 'f': 10,\n",
       " 'g1': 11,\n",
       " 'g2': 12,\n",
       " 'g3': 13,\n",
       " 'g4': 14,\n",
       " 'g5': 15,\n",
       " 'g6': 16,\n",
       " 'h': 17,\n",
       " 'i': 18,\n",
       " 'orphan1': 19,\n",
       " 'orphan2': 20,\n",
       " 'w': 21,\n",
       " 'x': 22,\n",
       " 'y': 23,\n",
       " 'z': 24,\n",
       " 'z1': 25}"
      ]
     },
     "execution_count": 242,
     "metadata": {},
     "output_type": "execute_result"
    }
   ],
   "source": [
    "x"
   ]
  },
  {
   "cell_type": "code",
   "execution_count": null,
   "metadata": {
    "collapsed": true
   },
   "outputs": [],
   "source": []
  }
 ],
 "metadata": {
  "anaconda-cloud": {},
  "kernelspec": {
   "display_name": "Python [default]",
   "language": "python",
   "name": "python3"
  },
  "language_info": {
   "codemirror_mode": {
    "name": "ipython",
    "version": 3
   },
   "file_extension": ".py",
   "mimetype": "text/x-python",
   "name": "python",
   "nbconvert_exporter": "python",
   "pygments_lexer": "ipython3",
   "version": "3.5.2"
  },
  "widgets": {
   "state": {
    "773dd6efde564d6f86a2c1df3b1698e6": {
     "model_module": "jupyter-js-widgets",
     "model_module_version": "*",
     "model_name": "DOMWidgetModel",
     "state": {
      "_dom_classes": [],
      "_model_module": "jupyter-js-widgets",
      "_model_module_version": "*",
      "_model_name": "DOMWidgetModel",
      "_view_module": "cyjs",
      "_view_module_version": "*",
      "_view_name": "CyjsView",
      "frameHeight": 300,
      "frameWidth": 400,
      "msgFromBrowser": "{}",
      "msgFromKernel": "{}",
      "msg_throttle": 1
     }
    },
    "8f8d68c55ed749e1b47682ba9dfc7a48": {
     "model_module": "jupyter-js-widgets",
     "model_module_version": "*",
     "model_name": "DOMWidgetModel",
     "state": {
      "_dom_classes": [],
      "_model_module": "jupyter-js-widgets",
      "_model_module_version": "*",
      "_model_name": "DOMWidgetModel",
      "_view_module": "cyjs",
      "_view_module_version": "*",
      "_view_name": "CyjsView",
      "frameHeight": 300,
      "frameWidth": 400,
      "msgFromBrowser": "{}",
      "msgFromKernel": "{}",
      "msg_throttle": 1
     }
    }
   },
   "version": "2.0.10"
  }
 },
 "nbformat": 4,
 "nbformat_minor": 1
}

{
 "cells": [
  {
   "cell_type": "code",
   "execution_count": null,
   "metadata": {
    "collapsed": true
   },
   "outputs": [],
   "source": [
    "## Proof of concept: exploring functional genetics in a Jupyter notebook using igap snps\n"
   ]
  },
  {
   "cell_type": "markdown",
   "metadata": {},
   "source": [
    "[github conversation](https://github.com/ipython/ipywidgets/issues/838#issuecomment-255506936)|"
   ]
  },
  {
   "cell_type": "code",
   "execution_count": 1,
   "metadata": {
    "collapsed": false
   },
   "outputs": [
    {
     "data": {
      "application/javascript": [
       "require.config({\n",
       "   paths: {cytoscape: 'http://localhost:8099/js/cytoscape-2.7.10'}\n",
       "   })"
      ],
      "text/plain": [
       "<IPython.core.display.Javascript object>"
      ]
     },
     "metadata": {},
     "output_type": "display_data"
    }
   ],
   "source": [
    "%%javascript\n",
    "require.config({\n",
    "   paths: {cytoscape: 'http://localhost:8099/js/cytoscape-2.7.10'}\n",
    "   })"
   ]
  },
  {
   "cell_type": "code",
   "execution_count": 2,
   "metadata": {
    "collapsed": false
   },
   "outputs": [],
   "source": [
    "import ipywidgets as widgets\n",
    "import json\n",
    "from traitlets import Int, Unicode, Tuple, CInt, Dict, validate, observe\n",
    "\n",
    "class cyjsWidget(widgets.DOMWidget):\n",
    "    \n",
    "    _view_name = Unicode('CyjsView').tag(sync=True)\n",
    "    _view_module = Unicode('cyjs').tag(sync=True)\n",
    "    frameWidth = Int(400).tag(sync=True)\n",
    "    frameHeight = Int(300).tag(sync=True)\n",
    "    msgStringFromPython = Unicode(\"{}\").tag(sync=True)\n",
    "    msgStringToPython = Unicode(\"{}\").tag(sync=True)\n",
    "    msg = {};\n",
    "    status = \"initial status message\\n\"\n",
    "    selectedNodes = [];\n",
    "        \n",
    "    def setSize(self, width, height):\n",
    "       self.status += \"setSize(%d, %d)\\n\" % (width, height)\n",
    "       self.frameWidth = width\n",
    "       self.frameHeight = height\n",
    "        \n",
    "    def fit(self, margin=50):\n",
    "      self.status += \"entering fit (%d)\\n\" % margin\n",
    "      self.msgStringFromPython = json.dumps({\"cmd\": \"fit\", \"status\": \"request\",\n",
    "                                              \"callback\": \"\", \"payload\": margin});\n",
    "        \n",
    "    def requestSelectedNodes(self):\n",
    "      #self.selectedNodes = [];\n",
    "      self.status += \"entering requestSelectedNodes\\n\";\n",
    "      self.msgStringFromPython = json.dumps({\"cmd\": \"getSelectedNodes\", \"status\": \"request\",\n",
    "                                             \"callback\": \"\", \"payload\": \"\"});\n",
    "    def getSelectedNodes(self):\n",
    "      self.status += \"entering getSelectedNodes, current content is %s\\n\" % self.selectedNodes\n",
    "      return(self.selectedNodes)\n",
    "\n",
    "    def selectNodes(self, nodes):\n",
    "      self.msgStringFromPython = json.dumps({\"cmd\": \"selectNodes\", \"status\": \"request\",\n",
    "                                              \"callback\": \"\", \"payload\": nodes});\n",
    "       \n",
    "    def clearSelection(self):\n",
    "      self. msgStringFromPython = json.dumps({\"cmd\": \"clearSelection\", \"status\": \"request\",\n",
    "                                              \"callback\": \"\", \"payload\": \"\"});\n",
    "\n",
    "        \n",
    "    @observe('msgStringToPython')\n",
    "    def msg_arrived(self, change):\n",
    "        self.status += \"---- python - msg arrived\\n\"\n",
    "        tmp = change['new']\n",
    "        self.status += \"len of tmp: %d\\n\" % len(tmp)\n",
    "        self.status += \"type of tmp: %s\\n\" % type(tmp)\n",
    "        self.msgStringToPython = tmp\n",
    "        self.status += \"%s\\n\" % tmp\n",
    "        self.dispatch(self.msgStringToPython)\n",
    " \n",
    "    def dispatch(self, msgRaw):\n",
    "        msg = json.loads(msgRaw)\n",
    "        self.status += \"entering dispatch\\n\"\n",
    "        self.status += \"dispatch this msg: %s\\n\" % msg\n",
    "        self.status += \"msg.cmd: %s\\n\" % msg[\"cmd\"]\n",
    "        if msg[\"cmd\"] == 'storeSelectedNodes':\n",
    "            self.status += \"storing selected nodes to self.selectedNodes %s\\n\" % msg[\"payload\"]\n",
    "            self.selectedNodes = msg[\"payload\"]\n",
    "        elif msg[\"cmd\"] == 'clearCircles':\n",
    "            self.circles = []\n",
    "        else:\n",
    "          print(\"unknown cmd: %s\" % msg[\"cmd\"])\n",
    "        "
   ]
  },
  {
   "cell_type": "code",
   "execution_count": 17,
   "metadata": {
    "collapsed": false
   },
   "outputs": [
    {
     "data": {
      "application/javascript": [
       "\"use strict\";\n",
       "\n",
       "require.undef('cyjs');\n",
       "\n",
       "define('cyjs', [\"jupyter-js-widgets\", \"cytoscape\"], function(widgets, cytoscape) {\n",
       "    \n",
       "    var CyjsView = widgets.DOMWidgetView.extend({\n",
       "\n",
       "        initialize: function() {\n",
       "           this.circles = [];\n",
       "           this.circleCount = 0;\n",
       "           this.options = {}; \n",
       "           this.msg = \"empty in javascript\";\n",
       "           this.msgStringFromPython = \"\";\n",
       "           this.defaultHeight = \"800px\";\n",
       "           this.defaultWidth = \"1000px\";\n",
       "           },\n",
       "\n",
       "        createDiv: function(){\n",
       "            var outerDiv = $(\"<div id='cyOuterDiv' style='border:1px solid gray; height: 800px; width: 1000px'></div>\");\n",
       "            var toolbarDiv = $(\"<div id='cyToolbarDiv' style='height: 30px; width: 1000px'></div>\");\n",
       "            var cyDiv = $(\"<div id='cyDiv' style='height: 870px; width: 1000px'></div>\");\n",
       "            outerDiv.append(toolbarDiv);\n",
       "            outerDiv.append(cyDiv);\n",
       "            var cyWidget = this;\n",
       "            var fitButton = $(\"<button>Fit</button>\").click(function(){\n",
       "                console.log(\"Fit!\");\n",
       "                console.log(\"fitButton's notion of this:\")\n",
       "                console.log(cyWidget.cy);\n",
       "                cyWidget.cy.fit(50);\n",
       "               });\n",
       "            toolbarDiv.append(fitButton);\n",
       "            var fitSelectedButton = $(\"<button>Fit Selected</button>\").click(function(){\n",
       "                var selectedNodes = cyWidget.cy.filter('node:selected');\n",
       "                if(selectedNodes.length > 0){\n",
       "                   cyWidget.cy.fit(selectedNodes, 50);\n",
       "                   }\n",
       "               });\n",
       "            toolbarDiv.append(fitSelectedButton);\n",
       "            var sfnButton = $(\"<button>SFN</button>\").click(function(){\n",
       "               cyWidget.cy.nodes(':selected').neighborhood().nodes().select()\n",
       "               });\n",
       "            toolbarDiv.append(sfnButton);\n",
       "            var clearButton = $(\"<button>Clear</button>\").click(function(){\n",
       "               cyWidget.cy.nodes().unselect();\n",
       "               cyWidget.cy.edges().unselect();\n",
       "               });\n",
       "            toolbarDiv.append(clearButton);\n",
       "            return(outerDiv);\n",
       "           },\n",
       " \n",
       "        \n",
       "        createCanvas: function(){\n",
       "            var cyjsWidget = this;\n",
       "            console.log(\"createCanvas notion of this:\")\n",
       "            console.log(cyjsWidget);\n",
       "            this.cy = cytoscape({\n",
       "               container: document.getElementById('cyDiv'),\n",
       "               //elements: {\n",
       "               //nodes: [\n",
       "               //  {data: {id: 'a', name: 'Node A', type: 'big' }},\n",
       "               //  {data: {id: 'b', name: 'Node B', type: 'little'}},\n",
       "               //  ],\n",
       "              //edges: [\n",
       "              //  {data: {source: 'a', target: 'b'}},\n",
       "              //         {data: {source: 'b', target: 'a'}}\n",
       "              // ]},\n",
       "          ready: function(){\n",
       "            console.log(\"small cyjs network ready\");\n",
       "            console.log(\"ready's notion of this:\")\n",
       "            console.log(this);\n",
       "            cyjsWidget.cy = this;\n",
       "            window.cy = this;  // for easy debugging\n",
       "            console.log(\"ready's notion of cyjsWidget:\")\n",
       "            console.log(cyjsWidget);\n",
       "            console.log(\"calling this.fit\")\n",
       "            //cyWidget.cy.fit(100);\n",
       "            console.log(\"--- about to call loadGraph\")\n",
       "            cyjsWidget.loadGraph(\"network.json\");\n",
       "            cyjsWidget.loadStyle(\"style.js\");\n",
       "            console.log(\"    back from loadGraph\")\n",
       "            cyjsWidget.cy.on(\"select\", function(x){\n",
       "                var selectedNodeCount = cyjsWidget.cy.nodes(\":selected\").length;\n",
       "                var selectedEdgeCount = cyjsWidget.cy.edges(\":selected\").length;\n",
       "                console.log(\"selected nodes: \" + selectedNodeCount);\n",
       "                console.log(\"selected edges:\" + selectedEdgeCount);\n",
       "                });\n",
       "            cyjsWidget.cy.on(\"unselect\", function(x){\n",
       "                var selectedNodeCount = cyjsWidget.cy.nodes(\":selected\").length;\n",
       "                var selectedEdgeCount = cyjsWidget.cy.edges(\":selected\").length;\n",
       "                console.log(\"selected nodes: \" + selectedNodeCount);\n",
       "                console.log(\"selected edges:\" + selectedEdgeCount);\n",
       "                });\n",
       "            } // ready\n",
       "           })},\n",
       "\n",
       "        loadStyle: function(filename){\n",
       "           var cyObj = this.cy;\n",
       "           console.log(\"cyjsWidget.loadStyle: \" + filename)\n",
       "           console.log(\"loadStyle's notion of this:\");\n",
       "           console.log(this);\n",
       "           console.log(\"loadStyle's notion of cy:\");\n",
       "           console.log(cyObj);\n",
       "           var str = window.location.href;\n",
       "           var url = str.substr(0, str.lastIndexOf(\"/\")) + \"/\" + filename;\n",
       "           url = url.replace(\"/notebooks/\", \"/files/\");\n",
       "           console.log(\"about to getScript: \" + url);\n",
       "           $.getScript(url)\n",
       "              .done(function(script, textStatus) {\n",
       "                 console.log(textStatus);\n",
       "                 cyObj.style(vizmap);\n",
       "                 })\n",
       "             .fail(function( jqxhr, settings, exception ) {\n",
       "                console.log(\"getScript error trying to read \" + filename);\n",
       "                console.log(\"exception: \");\n",
       "                console.log(exception);\n",
       "                });\n",
       "          },\n",
       "        \n",
       "        loadGraph: function(filename){\n",
       "           console.log(\"entering loadGraph\");\n",
       "           var cyObj = this.cy;\n",
       "              // the robust url of a file in the same directory as the notebook is\n",
       "              // str.substring(0, str.lastIndexOf(\"/\"));\n",
       "           var str = window.location.href;\n",
       "           var url = str.substr(0, str.lastIndexOf(\"/\")) + \"/\" + filename;\n",
       "           url = url.replace(\"/notebooks/\", \"/files/\");\n",
       "           console.log(\"=== about to getScript on \" + url);\n",
       "           $.getScript(url)\n",
       "              .done(function(script, textStatus) {\n",
       "                 console.log(\"getScript: \" + textStatus);\n",
       "                 console.log(\"nodes: \" + network.elements.nodes.length);\n",
       "                 if(typeof(network.elements.edges) != \"undefined\")\n",
       "                    console.log(\"edges: \" + network.elements.edges.length);\n",
       "                cyObj.add(network.elements);  // no positions yet\n",
       "                cyObj.nodes().map(function(node){node.data({degree: node.degree()})});\n",
       "                }) // .done\n",
       "            .fail(function(jqxhr, settings, exception) {\n",
       "               console.log(\"addNetwork getscript error trying to read \" + filename);\n",
       "               });\n",
       "           },\n",
       "        \n",
       "        render: function() { \n",
       "            console.log(\"entering render\")\n",
       "            this.$el.append(this.createDiv());\n",
       "            this.listenTo(this.model, 'change:frameWidth', this.frameDimensionsChanged, this);\n",
       "            this.listenTo(this.model, 'change:frameHeight', this.frameDimensionsChanged, this);\n",
       "            this.listenTo(this.model, 'change:msgStringFromPython', this.dispatchRequest, this);\n",
       "            var cyjsWidget = this;\n",
       "            function myFunc(){\n",
       "               cyjsWidget.createCanvas()\n",
       "               }\n",
       "            setTimeout(myFunc, 500);\n",
       "            },\n",
       "\n",
       "        dispatchRequest: function(){\n",
       "           console.log(\"dispatchRequest\");\n",
       "           var msgRaw = this.model.get(\"msgStringFromPython\");\n",
       "           var msg = JSON.parse(msgRaw);\n",
       "           console.log(msg);\n",
       "           console.log(\"========================\");\n",
       "           console.log(this);\n",
       "           switch(msg.cmd) {\n",
       "              case 'fit':\n",
       "                 var margin = msg.payload;\n",
       "                 console.log(\"fit with margin: \" + margin)\n",
       "                 this.cy.fit(margin);\n",
       "                 break;\n",
       "              case 'getSelectedNodes':\n",
       "                 var selectedNodes = this.cy.filter(\"node:selected\").map(function(node){ \n",
       "                     return node.data().id});\n",
       "                  console.log(\"-- found these selected nodes: \");\n",
       "                  console.log(selectedNodes);\n",
       "                  var jsonString = JSON.stringify({cmd: \"storeSelectedNodes\",\n",
       "                                                status: \"reply\",\n",
       "                                                callback: \"\",\n",
       "                                                payload: selectedNodes})\n",
       "                  console.log(\" *** jsonString: \")\n",
       "                  console.log(jsonString);\n",
       "                  this.model.set(\"msgStringToPython\", jsonString);\n",
       "                  console.log(\"    after setting 'msgStringToPython\");\n",
       "                  this.touch();\n",
       "                  break;\n",
       "               case 'selectNodes':\n",
       "                  var nodeIDs = msg.payload;\n",
       "                  console.log(\"--- selecting these nodes: \" + nodeIDs);\n",
       "                  if(typeof(nodeIDs) == \"string\")\n",
       "                     nodeIDs = [nodeIDs];\n",
       "                 var filterStrings = [];\n",
       "                 for(var i=0; i < nodeIDs.length; i++){\n",
       "                   var s = '[id=\"' + nodeIDs[i] + '\"]';\n",
       "                   filterStrings.push(s);\n",
       "                   } // for i\n",
       "                var nodesToSelect = this.cy.nodes(filterStrings.join());\n",
       "                nodesToSelect.select()\n",
       "                break;\n",
       "              case 'clearSelection':\n",
       "                 this.cy.nodes().unselect();\n",
       "                 break;\n",
       "            default:\n",
       "               console.log(\"unrecognized msg.cmd: \" + msg.cmd);\n",
       "             } // switch\n",
       "           console.log(\"CONCLUDING dispatchRequest\")\n",
       "           }, \n",
       "        \n",
       "        frameDimensionsChanged: function(){\n",
       "           console.log(\"frameDimensionsChanged\")\n",
       "           var newWidth  = this.model.get(\"frameWidth\");\n",
       "           var newHeight = this.model.get(\"frameHeight\");\n",
       "           console.log(\"frame: \" + newWidth + \" x \" + newHeight);\n",
       "           $(\"#cyOuterDiv\").width(newWidth);\n",
       "           $(\"#cyOuterDiv\").height(newHeight);\n",
       "           $(\"#cyToolbarDiv\").width(newWidth);\n",
       "           $(\"#cyDiv\").width(newWidth);\n",
       "           $(\"#cyDiv\").height(newHeight - $(\"#cyToolbarDiv\").height());\n",
       "           }, \n",
       "        \n",
       "        events: {\n",
       "           //\"click #svg\": \"changeHandler\"\n",
       "           }\n",
       "\n",
       "    });\n",
       "    return {\n",
       "        CyjsView: CyjsView\n",
       "    };\n",
       "});"
      ],
      "text/plain": [
       "<IPython.core.display.Javascript object>"
      ]
     },
     "metadata": {},
     "output_type": "display_data"
    }
   ],
   "source": [
    "%%javascript\n",
    "\"use strict\";\n",
    "\n",
    "require.undef('cyjs');\n",
    "\n",
    "define('cyjs', [\"jupyter-js-widgets\", \"cytoscape\"], function(widgets, cytoscape) {\n",
    "    \n",
    "    var CyjsView = widgets.DOMWidgetView.extend({\n",
    "\n",
    "        initialize: function() {\n",
    "           this.circles = [];\n",
    "           this.circleCount = 0;\n",
    "           this.options = {}; \n",
    "           this.msg = \"empty in javascript\";\n",
    "           this.msgStringFromPython = \"\";\n",
    "           this.defaultHeight = \"800px\";\n",
    "           this.defaultWidth = \"1000px\";\n",
    "           },\n",
    "\n",
    "        createDiv: function(){\n",
    "            var outerDiv = $(\"<div id='cyOuterDiv' style='border:1px solid gray; height: 800px; width: 1000px'></div>\");\n",
    "            var toolbarDiv = $(\"<div id='cyToolbarDiv' style='height: 30px; width: 1000px'></div>\");\n",
    "            var cyDiv = $(\"<div id='cyDiv' style='height: 870px; width: 1000px'></div>\");\n",
    "            outerDiv.append(toolbarDiv);\n",
    "            outerDiv.append(cyDiv);\n",
    "            var cyWidget = this;\n",
    "            var fitButton = $(\"<button>Fit</button>\").click(function(){\n",
    "                console.log(\"Fit!\");\n",
    "                console.log(\"fitButton's notion of this:\")\n",
    "                console.log(cyWidget.cy);\n",
    "                cyWidget.cy.fit(50);\n",
    "               });\n",
    "            toolbarDiv.append(fitButton);\n",
    "            var fitSelectedButton = $(\"<button>Fit Selected</button>\").click(function(){\n",
    "                var selectedNodes = cyWidget.cy.filter('node:selected');\n",
    "                if(selectedNodes.length > 0){\n",
    "                   cyWidget.cy.fit(selectedNodes, 50);\n",
    "                   }\n",
    "               });\n",
    "            toolbarDiv.append(fitSelectedButton);\n",
    "            var sfnButton = $(\"<button>SFN</button>\").click(function(){\n",
    "               cyWidget.cy.nodes(':selected').neighborhood().nodes().select()\n",
    "               });\n",
    "            toolbarDiv.append(sfnButton);\n",
    "            var clearButton = $(\"<button>Clear</button>\").click(function(){\n",
    "               cyWidget.cy.nodes().unselect();\n",
    "               cyWidget.cy.edges().unselect();\n",
    "               });\n",
    "            toolbarDiv.append(clearButton);\n",
    "            return(outerDiv);\n",
    "           },\n",
    " \n",
    "        \n",
    "        createCanvas: function(){\n",
    "            var cyjsWidget = this;\n",
    "            console.log(\"createCanvas notion of this:\")\n",
    "            console.log(cyjsWidget);\n",
    "            this.cy = cytoscape({\n",
    "               container: document.getElementById('cyDiv'),\n",
    "               //elements: {\n",
    "               //nodes: [\n",
    "               //  {data: {id: 'a', name: 'Node A', type: 'big' }},\n",
    "               //  {data: {id: 'b', name: 'Node B', type: 'little'}},\n",
    "               //  ],\n",
    "              //edges: [\n",
    "              //  {data: {source: 'a', target: 'b'}},\n",
    "              //         {data: {source: 'b', target: 'a'}}\n",
    "              // ]},\n",
    "          ready: function(){\n",
    "            console.log(\"small cyjs network ready\");\n",
    "            console.log(\"ready's notion of this:\")\n",
    "            console.log(this);\n",
    "            cyjsWidget.cy = this;\n",
    "            window.cy = this;  // for easy debugging\n",
    "            console.log(\"ready's notion of cyjsWidget:\")\n",
    "            console.log(cyjsWidget);\n",
    "            console.log(\"calling this.fit\")\n",
    "            //cyWidget.cy.fit(100);\n",
    "            console.log(\"--- about to call loadGraph\")\n",
    "            cyjsWidget.loadGraph(\"network.json\");\n",
    "            cyjsWidget.loadStyle(\"style.js\");\n",
    "            console.log(\"    back from loadGraph\")\n",
    "            cyjsWidget.cy.on(\"select\", function(x){\n",
    "                var selectedNodeCount = cyjsWidget.cy.nodes(\":selected\").length;\n",
    "                var selectedEdgeCount = cyjsWidget.cy.edges(\":selected\").length;\n",
    "                console.log(\"selected nodes: \" + selectedNodeCount);\n",
    "                console.log(\"selected edges:\" + selectedEdgeCount);\n",
    "                });\n",
    "            cyjsWidget.cy.on(\"unselect\", function(x){\n",
    "                var selectedNodeCount = cyjsWidget.cy.nodes(\":selected\").length;\n",
    "                var selectedEdgeCount = cyjsWidget.cy.edges(\":selected\").length;\n",
    "                console.log(\"selected nodes: \" + selectedNodeCount);\n",
    "                console.log(\"selected edges:\" + selectedEdgeCount);\n",
    "                });\n",
    "            } // ready\n",
    "           })},\n",
    "\n",
    "        loadStyle: function(filename){\n",
    "           var cyObj = this.cy;\n",
    "           console.log(\"cyjsWidget.loadStyle: \" + filename)\n",
    "           console.log(\"loadStyle's notion of this:\");\n",
    "           console.log(this);\n",
    "           console.log(\"loadStyle's notion of cy:\");\n",
    "           console.log(cyObj);\n",
    "           var str = window.location.href;\n",
    "           var url = str.substr(0, str.lastIndexOf(\"/\")) + \"/\" + filename;\n",
    "           url = url.replace(\"/notebooks/\", \"/files/\");\n",
    "           console.log(\"about to getScript: \" + url);\n",
    "           $.getScript(url)\n",
    "              .done(function(script, textStatus) {\n",
    "                 console.log(textStatus);\n",
    "                 cyObj.style(vizmap);\n",
    "                 })\n",
    "             .fail(function( jqxhr, settings, exception ) {\n",
    "                console.log(\"getScript error trying to read \" + filename);\n",
    "                console.log(\"exception: \");\n",
    "                console.log(exception);\n",
    "                });\n",
    "          },\n",
    "        \n",
    "        loadGraph: function(filename){\n",
    "           console.log(\"entering loadGraph\");\n",
    "           var cyObj = this.cy;\n",
    "              // the robust url of a file in the same directory as the notebook is\n",
    "              // str.substring(0, str.lastIndexOf(\"/\"));\n",
    "           var str = window.location.href;\n",
    "           var url = str.substr(0, str.lastIndexOf(\"/\")) + \"/\" + filename;\n",
    "           url = url.replace(\"/notebooks/\", \"/files/\");\n",
    "           console.log(\"=== about to getScript on \" + url);\n",
    "           $.getScript(url)\n",
    "              .done(function(script, textStatus) {\n",
    "                 console.log(\"getScript: \" + textStatus);\n",
    "                 console.log(\"nodes: \" + network.elements.nodes.length);\n",
    "                 if(typeof(network.elements.edges) != \"undefined\")\n",
    "                    console.log(\"edges: \" + network.elements.edges.length);\n",
    "                cyObj.add(network.elements);  // no positions yet\n",
    "                cyObj.nodes().map(function(node){node.data({degree: node.degree()})});\n",
    "                }) // .done\n",
    "            .fail(function(jqxhr, settings, exception) {\n",
    "               console.log(\"addNetwork getscript error trying to read \" + filename);\n",
    "               });\n",
    "           },\n",
    "        \n",
    "        render: function() { \n",
    "            console.log(\"entering render\")\n",
    "            this.$el.append(this.createDiv());\n",
    "            this.listenTo(this.model, 'change:frameWidth', this.frameDimensionsChanged, this);\n",
    "            this.listenTo(this.model, 'change:frameHeight', this.frameDimensionsChanged, this);\n",
    "            this.listenTo(this.model, 'change:msgStringFromPython', this.dispatchRequest, this);\n",
    "            var cyjsWidget = this;\n",
    "            function myFunc(){\n",
    "               cyjsWidget.createCanvas()\n",
    "               }\n",
    "            setTimeout(myFunc, 500);\n",
    "            },\n",
    "\n",
    "        dispatchRequest: function(){\n",
    "           console.log(\"dispatchRequest\");\n",
    "           var msgRaw = this.model.get(\"msgStringFromPython\");\n",
    "           var msg = JSON.parse(msgRaw);\n",
    "           console.log(msg);\n",
    "           console.log(\"========================\");\n",
    "           console.log(this);\n",
    "           switch(msg.cmd) {\n",
    "              case 'fit':\n",
    "                 var margin = msg.payload;\n",
    "                 console.log(\"fit with margin: \" + margin)\n",
    "                 this.cy.fit(margin);\n",
    "                 break;\n",
    "              case 'getSelectedNodes':\n",
    "                 var selectedNodes = this.cy.filter(\"node:selected\").map(function(node){ \n",
    "                     return node.data().id});\n",
    "                  console.log(\"-- found these selected nodes: \");\n",
    "                  console.log(selectedNodes);\n",
    "                  var jsonString = JSON.stringify({cmd: \"storeSelectedNodes\",\n",
    "                                                status: \"reply\",\n",
    "                                                callback: \"\",\n",
    "                                                payload: selectedNodes})\n",
    "                  console.log(\" *** jsonString: \")\n",
    "                  console.log(jsonString);\n",
    "                  this.model.set(\"msgStringToPython\", jsonString);\n",
    "                  console.log(\"    after setting 'msgStringToPython\");\n",
    "                  this.touch();\n",
    "                  break;\n",
    "               case 'selectNodes':\n",
    "                  var nodeIDs = msg.payload;\n",
    "                  console.log(\"--- selecting these nodes: \" + nodeIDs);\n",
    "                  if(typeof(nodeIDs) == \"string\")\n",
    "                     nodeIDs = [nodeIDs];\n",
    "                 var filterStrings = [];\n",
    "                 for(var i=0; i < nodeIDs.length; i++){\n",
    "                   var s = '[id=\"' + nodeIDs[i] + '\"]';\n",
    "                   filterStrings.push(s);\n",
    "                   } // for i\n",
    "                var nodesToSelect = this.cy.nodes(filterStrings.join());\n",
    "                nodesToSelect.select()\n",
    "                break;\n",
    "              case 'clearSelection':\n",
    "                 this.cy.nodes().unselect();\n",
    "                 break;\n",
    "            default:\n",
    "               console.log(\"unrecognized msg.cmd: \" + msg.cmd);\n",
    "             } // switch\n",
    "           console.log(\"CONCLUDING dispatchRequest\")\n",
    "           }, \n",
    "        \n",
    "        frameDimensionsChanged: function(){\n",
    "           console.log(\"frameDimensionsChanged\")\n",
    "           var newWidth  = this.model.get(\"frameWidth\");\n",
    "           var newHeight = this.model.get(\"frameHeight\");\n",
    "           console.log(\"frame: \" + newWidth + \" x \" + newHeight);\n",
    "           $(\"#cyOuterDiv\").width(newWidth);\n",
    "           $(\"#cyOuterDiv\").height(newHeight);\n",
    "           $(\"#cyToolbarDiv\").width(newWidth);\n",
    "           $(\"#cyDiv\").width(newWidth);\n",
    "           $(\"#cyDiv\").height(newHeight - $(\"#cyToolbarDiv\").height());\n",
    "           }, \n",
    "        \n",
    "        events: {\n",
    "           //\"click #svg\": \"changeHandler\"\n",
    "           }\n",
    "\n",
    "    });\n",
    "    return {\n",
    "        CyjsView: CyjsView\n",
    "    };\n",
    "});"
   ]
  },
  {
   "cell_type": "code",
   "execution_count": 18,
   "metadata": {
    "collapsed": false
   },
   "outputs": [],
   "source": [
    "cy = cyjsWidget()\n",
    "cy"
   ]
  },
  {
   "cell_type": "code",
   "execution_count": 5,
   "metadata": {
    "collapsed": false
   },
   "outputs": [],
   "source": [
    "cy.setSize(800, 600)"
   ]
  },
  {
   "cell_type": "code",
   "execution_count": 6,
   "metadata": {
    "collapsed": true
   },
   "outputs": [],
   "source": [
    "cy.fit()"
   ]
  },
  {
   "cell_type": "code",
   "execution_count": 41,
   "metadata": {
    "collapsed": false
   },
   "outputs": [],
   "source": [
    "import sys, time\n",
    "sys.path.append(\"/Users/paul/github/fimoService/client-python\")\n",
    "from FimoClient import *\n",
    "sys.path.append(\"/Users/paul/github/getDNAService/client-python\")\n",
    "from GetDNAClient import *"
   ]
  },
  {
   "cell_type": "code",
   "execution_count": 42,
   "metadata": {
    "collapsed": false
   },
   "outputs": [],
   "source": [
    "fimo = FimoClient(\"whovian\", 5558)\n",
    "assert(fimo.getHost() == 'whovian:5558')\n",
    "dnaService = GetDNAClient(\"hg38\")\n",
    "assert(dnaService.getSequence(\"chr1\", 1, 5) == 'NNNNN')"
   ]
  },
  {
   "cell_type": "markdown",
   "metadata": {},
   "source": [
    " [\"Highly recurrent TERT promoter mutations in human melanoma\"](http://www.ncbi.nlm.nih.gov/pmc/articles/PMC4423787/)\n",
    "       "
   ]
  },
  {
   "cell_type": "code",
   "execution_count": 43,
   "metadata": {
    "collapsed": false
   },
   "outputs": [
    {
     "data": {
      "text/html": [
       "<div>\n",
       "<table border=\"1\" class=\"dataframe\">\n",
       "  <thead>\n",
       "    <tr style=\"text-align: right;\">\n",
       "      <th></th>\n",
       "      <th>#pattern name</th>\n",
       "      <th>matched sequence</th>\n",
       "      <th>p-value</th>\n",
       "      <th>q-value</th>\n",
       "      <th>score</th>\n",
       "      <th>sequence name</th>\n",
       "      <th>start</th>\n",
       "      <th>stop</th>\n",
       "      <th>strand</th>\n",
       "    </tr>\n",
       "  </thead>\n",
       "  <tbody>\n",
       "    <tr>\n",
       "      <th>0</th>\n",
       "      <td>MA0076.2</td>\n",
       "      <td>CCCCTTCCGGG</td>\n",
       "      <td>0.000022</td>\n",
       "      <td>0.000133</td>\n",
       "      <td>13.1818</td>\n",
       "      <td>tert_mut</td>\n",
       "      <td>1</td>\n",
       "      <td>11</td>\n",
       "      <td>+</td>\n",
       "    </tr>\n",
       "    <tr>\n",
       "      <th>1</th>\n",
       "      <td>ELK1,4_GABP{A,B1}.p3</td>\n",
       "      <td>CCCGGAAGGG</td>\n",
       "      <td>0.000045</td>\n",
       "      <td>0.000539</td>\n",
       "      <td>11.7000</td>\n",
       "      <td>tert_mut</td>\n",
       "      <td>2</td>\n",
       "      <td>11</td>\n",
       "      <td>-</td>\n",
       "    </tr>\n",
       "    <tr>\n",
       "      <th>2</th>\n",
       "      <td>ETV6_full_2</td>\n",
       "      <td>CCCGGAAGGG</td>\n",
       "      <td>0.000093</td>\n",
       "      <td>0.001120</td>\n",
       "      <td>10.7245</td>\n",
       "      <td>tert_mut</td>\n",
       "      <td>2</td>\n",
       "      <td>11</td>\n",
       "      <td>-</td>\n",
       "    </tr>\n",
       "    <tr>\n",
       "      <th>3</th>\n",
       "      <td>MA0645.1</td>\n",
       "      <td>CCCGGAAGGG</td>\n",
       "      <td>0.000095</td>\n",
       "      <td>0.001150</td>\n",
       "      <td>10.7308</td>\n",
       "      <td>tert_mut</td>\n",
       "      <td>2</td>\n",
       "      <td>11</td>\n",
       "      <td>-</td>\n",
       "    </tr>\n",
       "  </tbody>\n",
       "</table>\n",
       "</div>"
      ],
      "text/plain": [
       "          #pattern name matched sequence   p-value   q-value    score  \\\n",
       "0              MA0076.2      CCCCTTCCGGG  0.000022  0.000133  13.1818   \n",
       "1  ELK1,4_GABP{A,B1}.p3       CCCGGAAGGG  0.000045  0.000539  11.7000   \n",
       "2           ETV6_full_2       CCCGGAAGGG  0.000093  0.001120  10.7245   \n",
       "3              MA0645.1       CCCGGAAGGG  0.000095  0.001150  10.7308   \n",
       "\n",
       "  sequence name  start  stop strand  \n",
       "0      tert_mut      1    11      +  \n",
       "1      tert_mut      2    11      -  \n",
       "2      tert_mut      2    11      -  \n",
       "3      tert_mut      2    11      -  "
      ]
     },
     "execution_count": 43,
     "metadata": {},
     "output_type": "execute_result"
    }
   ],
   "source": [
    "sequences = {\"tert_wt1\": \"CCCGGAGGGGG\", \"tert_wt2\": \"CCCGGGAGGGG\", \"tert_mut\": \"CCCCTTCCGGG\"}\n",
    "fimo.request(sequences)"
   ]
  },
  {
   "cell_type": "code",
   "execution_count": 71,
   "metadata": {
    "collapsed": false
   },
   "outputs": [],
   "source": [
    "cy.requestSelectedNodes()"
   ]
  },
  {
   "cell_type": "code",
   "execution_count": 74,
   "metadata": {
    "collapsed": false
   },
   "outputs": [
    {
     "name": "stdout",
     "output_type": "stream",
     "text": [
      "['REACTOME_GLYCEROPHOSPHOLIPID_BIOSYNTHESIS']\n"
     ]
    }
   ],
   "source": [
    "# time.sleep(5)\n",
    "print(cy.getSelectedNodes())"
   ]
  },
  {
   "cell_type": "code",
   "execution_count": 72,
   "metadata": {
    "collapsed": false
   },
   "outputs": [
    {
     "name": "stdout",
     "output_type": "stream",
     "text": [
      "initial status message\n",
      "entering requestSelectedNodes\n",
      "---- python - msg arrived\n",
      "len of tmp: 97\n",
      "type of tmp: <class 'str'>\n",
      "{\"cmd\":\"storeSelectedNodes\",\"status\":\"reply\",\"callback\":\"\",\"payload\":[\"chr19:40348525-40348525\"]}\n",
      "entering dispatch\n",
      "dispatch this msg: {'cmd': 'storeSelectedNodes', 'payload': ['chr19:40348525-40348525'], 'callback': '', 'status': 'reply'}\n",
      "msg.cmd: storeSelectedNodes\n",
      "storing selected nodes to self.selectedNodes ['chr19:40348525-40348525']\n",
      "entering fit (50)\n",
      "entering requestSelectedNodes\n",
      "---- python - msg arrived\n",
      "len of tmp: 115\n",
      "type of tmp: <class 'str'>\n",
      "{\"cmd\":\"storeSelectedNodes\",\"status\":\"reply\",\"callback\":\"\",\"payload\":[\"REACTOME_GLYCEROPHOSPHOLIPID_BIOSYNTHESIS\"]}\n",
      "entering dispatch\n",
      "dispatch this msg: {'cmd': 'storeSelectedNodes', 'payload': ['REACTOME_GLYCEROPHOSPHOLIPID_BIOSYNTHESIS'], 'callback': '', 'status': 'reply'}\n",
      "msg.cmd: storeSelectedNodes\n",
      "storing selected nodes to self.selectedNodes ['REACTOME_GLYCEROPHOSPHOLIPID_BIOSYNTHESIS']\n",
      "\n"
     ]
    }
   ],
   "source": [
    "print(cy.status)"
   ]
  },
  {
   "cell_type": "markdown",
   "metadata": {},
   "source": [
    "#### load prepared igap snp data"
   ]
  },
  {
   "cell_type": "code",
   "execution_count": 73,
   "metadata": {
    "collapsed": false
   },
   "outputs": [
    {
     "data": {
      "text/plain": [
       "['REACTOME_GLYCEROPHOSPHOLIPID_BIOSYNTHESIS']"
      ]
     },
     "execution_count": 73,
     "metadata": {},
     "output_type": "execute_result"
    }
   ],
   "source": [
    "cy.selectedNodes"
   ]
  },
  {
   "cell_type": "markdown",
   "metadata": {
    "collapsed": true
   },
   "source": [
    "#### Select a SNP in the network view, parse it into a chromosomal location (+/- shoulders), get sequence, run FIMO"
   ]
  },
  {
   "cell_type": "code",
   "execution_count": null,
   "metadata": {
    "collapsed": true
   },
   "outputs": [],
   "source": [
    "cy.requestSelectedNodes()"
   ]
  },
  {
   "cell_type": "code",
   "execution_count": 44,
   "metadata": {
    "collapsed": false
   },
   "outputs": [
    {
     "name": "stdout",
     "output_type": "stream",
     "text": [
      "chr19:35292055-35292055\n"
     ]
    }
   ],
   "source": [
    "snp = cy.getSelectedNodes()[0]\n",
    "print(snp)"
   ]
  },
  {
   "cell_type": "markdown",
   "metadata": {},
   "source": [
    "#### define a convenience function to get chrom, start and end from a chromLocString"
   ]
  },
  {
   "cell_type": "code",
   "execution_count": 46,
   "metadata": {
    "collapsed": true
   },
   "outputs": [],
   "source": [
    "import re\n",
    "def parseChromLoc(s):\n",
    "  regex = re.compile('(chr.*):(\\d+)-(\\d+)')\n",
    "  m = regex.match(snp)\n",
    "  assert(len(m.groups()) == 3)\n",
    "  (chrom, start, end) = m.groups()\n",
    "  start = int(start)\n",
    "  end = int(end)\n",
    "  return((chrom, start, end))"
   ]
  },
  {
   "cell_type": "code",
   "execution_count": 47,
   "metadata": {
    "collapsed": false
   },
   "outputs": [],
   "source": [
    "(chrom, start, end) = parseChromLoc(snp)"
   ]
  },
  {
   "cell_type": "code",
   "execution_count": 48,
   "metadata": {
    "collapsed": false
   },
   "outputs": [
    {
     "name": "stdout",
     "output_type": "stream",
     "text": [
      "{'snp1': 'CTCCCCCGGGGGT'}\n"
     ]
    }
   ],
   "source": [
    "shoulder = 6\n",
    "seq ={\"snp1\": dnaService.getSequence(chrom, start-shoulder, start+shoulder)}\n",
    "print(seq)"
   ]
  },
  {
   "cell_type": "code",
   "execution_count": 49,
   "metadata": {
    "collapsed": false
   },
   "outputs": [
    {
     "data": {
      "text/html": [
       "<div>\n",
       "<table border=\"1\" class=\"dataframe\">\n",
       "  <thead>\n",
       "    <tr style=\"text-align: right;\">\n",
       "      <th></th>\n",
       "      <th>#pattern name</th>\n",
       "      <th>matched sequence</th>\n",
       "      <th>p-value</th>\n",
       "      <th>q-value</th>\n",
       "      <th>score</th>\n",
       "      <th>sequence name</th>\n",
       "      <th>start</th>\n",
       "      <th>stop</th>\n",
       "      <th>strand</th>\n",
       "    </tr>\n",
       "  </thead>\n",
       "  <tbody>\n",
       "    <tr>\n",
       "      <th>0</th>\n",
       "      <td>MA0524.2</td>\n",
       "      <td>ACCCCCGGGGGA</td>\n",
       "      <td>0.000039</td>\n",
       "      <td>0.000135</td>\n",
       "      <td>11.9898</td>\n",
       "      <td>snp1</td>\n",
       "      <td>2</td>\n",
       "      <td>13</td>\n",
       "      <td>-</td>\n",
       "    </tr>\n",
       "    <tr>\n",
       "      <th>1</th>\n",
       "      <td>MA0811.1</td>\n",
       "      <td>ACCCCCGGGGGA</td>\n",
       "      <td>0.000047</td>\n",
       "      <td>0.000166</td>\n",
       "      <td>11.7636</td>\n",
       "      <td>snp1</td>\n",
       "      <td>2</td>\n",
       "      <td>13</td>\n",
       "      <td>-</td>\n",
       "    </tr>\n",
       "    <tr>\n",
       "      <th>2</th>\n",
       "      <td>MA0524.2</td>\n",
       "      <td>TCCCCCGGGGGT</td>\n",
       "      <td>0.000067</td>\n",
       "      <td>0.000135</td>\n",
       "      <td>11.1939</td>\n",
       "      <td>snp1</td>\n",
       "      <td>2</td>\n",
       "      <td>13</td>\n",
       "      <td>+</td>\n",
       "    </tr>\n",
       "    <tr>\n",
       "      <th>3</th>\n",
       "      <td>MA0810.1</td>\n",
       "      <td>TCCCCCGGGGGT</td>\n",
       "      <td>0.000073</td>\n",
       "      <td>0.000148</td>\n",
       "      <td>11.1455</td>\n",
       "      <td>snp1</td>\n",
       "      <td>2</td>\n",
       "      <td>13</td>\n",
       "      <td>+</td>\n",
       "    </tr>\n",
       "    <tr>\n",
       "      <th>4</th>\n",
       "      <td>MA0810.1</td>\n",
       "      <td>ACCCCCGGGGGA</td>\n",
       "      <td>0.000074</td>\n",
       "      <td>0.000148</td>\n",
       "      <td>11.1273</td>\n",
       "      <td>snp1</td>\n",
       "      <td>2</td>\n",
       "      <td>13</td>\n",
       "      <td>-</td>\n",
       "    </tr>\n",
       "    <tr>\n",
       "      <th>5</th>\n",
       "      <td>MA0811.1</td>\n",
       "      <td>TCCCCCGGGGGT</td>\n",
       "      <td>0.000083</td>\n",
       "      <td>0.000166</td>\n",
       "      <td>10.9091</td>\n",
       "      <td>snp1</td>\n",
       "      <td>2</td>\n",
       "      <td>13</td>\n",
       "      <td>+</td>\n",
       "    </tr>\n",
       "  </tbody>\n",
       "</table>\n",
       "</div>"
      ],
      "text/plain": [
       "  #pattern name matched sequence   p-value   q-value    score sequence name  \\\n",
       "0      MA0524.2     ACCCCCGGGGGA  0.000039  0.000135  11.9898          snp1   \n",
       "1      MA0811.1     ACCCCCGGGGGA  0.000047  0.000166  11.7636          snp1   \n",
       "2      MA0524.2     TCCCCCGGGGGT  0.000067  0.000135  11.1939          snp1   \n",
       "3      MA0810.1     TCCCCCGGGGGT  0.000073  0.000148  11.1455          snp1   \n",
       "4      MA0810.1     ACCCCCGGGGGA  0.000074  0.000148  11.1273          snp1   \n",
       "5      MA0811.1     TCCCCCGGGGGT  0.000083  0.000166  10.9091          snp1   \n",
       "\n",
       "   start  stop strand  \n",
       "0      2    13      -  \n",
       "1      2    13      -  \n",
       "2      2    13      +  \n",
       "3      2    13      +  \n",
       "4      2    13      -  \n",
       "5      2    13      +  "
      ]
     },
     "execution_count": 49,
     "metadata": {},
     "output_type": "execute_result"
    }
   ],
   "source": [
    "tbl_fimo = fimo.request(seq)\n",
    "tbl_fimo"
   ]
  },
  {
   "cell_type": "code",
   "execution_count": 50,
   "metadata": {
    "collapsed": true
   },
   "outputs": [],
   "source": [
    " from igv import IGV, Reference, Track"
   ]
  },
  {
   "cell_type": "code",
   "execution_count": 51,
   "metadata": {
    "collapsed": false
   },
   "outputs": [
    {
     "name": "stdout",
     "output_type": "stream",
     "text": [
      "chr19:35292049-35292061\n"
     ]
    }
   ],
   "source": [
    "snpLocus = \"%s:%d-%d\" % (chrom, start-shoulder, start+ shoulder)\n",
    "print(snpLocus)"
   ]
  },
  {
   "cell_type": "code",
   "execution_count": 52,
   "metadata": {
    "collapsed": false
   },
   "outputs": [],
   "source": [
    "igv = IGV(locus=snpLocus, reference=Reference(id=\"hg38\"), \n",
    "          tracks=[Track(\n",
    "                 name=\"Genes\", \n",
    "                 url=\"//s3.amazonaws.com/igv.broadinstitute.org/annotations/hg38/genes/gencode.v24.annotation.sorted.gtf.gz\",\n",
    "                 indexURL=\"//s3.amazonaws.com/igv.broadinstitute.org/annotations/hg38/genes/gencode.v24.annotation.sorted.gtf.gz.tbi\",\n",
    "                 display_mode=\"EXPANDED\")])\n"
   ]
  },
  {
   "cell_type": "code",
   "execution_count": 53,
   "metadata": {
    "collapsed": false
   },
   "outputs": [
    {
     "data": {
      "text/html": [
       "\n",
       "            <div id=\"igv_2090035\" class=\"igv-js\"></div>\n",
       "            <script type=\"text/javascript\">\n",
       "                require([location.origin + Jupyter.contents.base_url + \"nbextensions/igv/igv-jupyter.js\"], function() {\n",
       "                    var div = $(\"#igv_2090035.igv-js\")[0], options = {\"hideIdeogram\": false, \"showKaryo\": false, \"doubleClickDelay\": 500, \"locus\": \"chr19:35292049-35292061\", \"showNavigation\": true, \"tracks\": [{\"name\": \"Genes\", \"displayMode\": \"EXPANDED\", \"url\": \"//s3.amazonaws.com/igv.broadinstitute.org/annotations/hg38/genes/gencode.v24.annotation.sorted.gtf.gz\", \"indexURL\": \"//s3.amazonaws.com/igv.broadinstitute.org/annotations/hg38/genes/gencode.v24.annotation.sorted.gtf.gz.tbi\"}], \"flanking\": 1000, \"reference\": {\"id\": \"hg38\"}, \"showCursorTrackingGuide\": true, \"showCenterGuide\": true, \"showRuler\": true};\n",
       "                    igv.createBrowser(div, options);\n",
       "                });\n",
       "            </script>\n",
       "            "
      ],
      "text/plain": [
       "<igv.IGV at 0x1120fe5c0>"
      ]
     },
     "execution_count": 53,
     "metadata": {},
     "output_type": "execute_result"
    }
   ],
   "source": [
    "igv"
   ]
  },
  {
   "cell_type": "code",
   "execution_count": 54,
   "metadata": {
    "collapsed": false
   },
   "outputs": [
    {
     "name": "stdout",
     "output_type": "stream",
     "text": [
      "Goto track location \n"
     ]
    },
    {
     "data": {
      "text/html": [
       "\n",
       "            <script type=\"text/javascript\">\n",
       "                require([location.origin + Jupyter.contents.base_url + \"nbextensions/igv/igv-jupyter.js\"], function() {\n",
       "                    igv.browser.search(\"chr19:35,290,644-35,293,726\");\n",
       "                });\n",
       "            </script>\n",
       "            "
      ],
      "text/plain": [
       "<IPython.core.display.HTML object>"
      ]
     },
     "execution_count": 54,
     "metadata": {},
     "output_type": "execute_result"
    }
   ],
   "source": [
    "igv.goto(\"chr19:35,290,644-35,293,726\")"
   ]
  },
  {
   "cell_type": "code",
   "execution_count": 55,
   "metadata": {
    "collapsed": true
   },
   "outputs": [],
   "source": [
    "import pandas as pd"
   ]
  },
  {
   "cell_type": "code",
   "execution_count": 56,
   "metadata": {
    "collapsed": false
   },
   "outputs": [],
   "source": [
    "trackTbl = pd.DataFrame([[chrom, start-shoulder, start+shoulder, \"a\", 17.2449]])\n",
    "trackTbl.to_csv(\"lpcat2Snp.bed\", sep=\"\\t\", header=False, index=False)\n",
    "newTrack = Track(name=\"snp1\", format=\"bed\", indexed=False, \n",
    "                 url=\"http://localhost:10001/files/cyjs/lpcat2Snp.bed\", \n",
    "                 display_mode='EXPANDED');"
   ]
  },
  {
   "cell_type": "code",
   "execution_count": 57,
   "metadata": {
    "collapsed": false
   },
   "outputs": [
    {
     "name": "stdout",
     "output_type": "stream",
     "text": [
      "Loading track into IGV.js\n"
     ]
    },
    {
     "data": {
      "text/html": [
       "\n",
       "            <script type=\"text/javascript\">\n",
       "                require([location.origin + Jupyter.contents.base_url + \"nbextensions/igv/igv-jupyter.js\"], function() {\n",
       "                    igv.browser.loadTrack({\"name\": \"snp1\", \"displayMode\": \"EXPANDED\", \"url\": \"http://localhost:10001/files/cyjs/lpcat2Snp.bed\", \"format\": \"bed\", \"indexed\": false});\n",
       "                });\n",
       "            </script>\n",
       "            "
      ],
      "text/plain": [
       "<IPython.core.display.HTML object>"
      ]
     },
     "execution_count": 57,
     "metadata": {},
     "output_type": "execute_result"
    }
   ],
   "source": [
    "igv.load_track(newTrack)"
   ]
  },
  {
   "cell_type": "markdown",
   "metadata": {},
   "source": [
    "#### simple-minded exploration of snp consequences"
   ]
  },
  {
   "cell_type": "code",
   "execution_count": 58,
   "metadata": {
    "collapsed": false
   },
   "outputs": [
    {
     "name": "stdout",
     "output_type": "stream",
     "text": [
      "chr19:35292055-35292055 (shoulder: 6)\n"
     ]
    }
   ],
   "source": [
    "print(\"%s:%d-%d (shoulder: %d)\" % (chrom, start, end, shoulder))"
   ]
  },
  {
   "cell_type": "code",
   "execution_count": 59,
   "metadata": {
    "collapsed": false
   },
   "outputs": [
    {
     "name": "stdout",
     "output_type": "stream",
     "text": [
      "CTCCCCCGGGGGT\n"
     ]
    }
   ],
   "source": [
    "baseSequence = dnaService.getSequence(chrom, start-shoulder, start+shoulder)\n",
    "print(baseSequence)"
   ]
  },
  {
   "cell_type": "code",
   "execution_count": null,
   "metadata": {
    "collapsed": false
   },
   "outputs": [],
   "source": [
    "mut1Sequences = baseSequence[1]\n",
    "snpSequence =  dnaService.getSequence(chrom, start-1, start+1)\n",
    "print(snpSequence)"
   ]
  },
  {
   "cell_type": "code",
   "execution_count": 60,
   "metadata": {
    "collapsed": false
   },
   "outputs": [
    {
     "data": {
      "text/plain": [
       "13"
      ]
     },
     "execution_count": 60,
     "metadata": {},
     "output_type": "execute_result"
    }
   ],
   "source": [
    "len(baseSequence)"
   ]
  },
  {
   "cell_type": "code",
   "execution_count": null,
   "metadata": {
    "collapsed": true
   },
   "outputs": [],
   "source": []
  },
  {
   "cell_type": "code",
   "execution_count": 61,
   "metadata": {
    "collapsed": false
   },
   "outputs": [],
   "source": [
    "end1 = shoulder\n",
    "start2 = shoulder + 1\n",
    "end2 = len(baseSequence)\n",
    "mutA = baseSequence[0:end1] + 'A' + baseSequence[start2:end2]\n",
    "mutG = baseSequence[0:end1] + 'G' + baseSequence[start2:end2]\n",
    "mutT = baseSequence[0:end1] + 'T' + baseSequence[start2:end2]\n"
   ]
  },
  {
   "cell_type": "markdown",
   "metadata": {},
   "source": [
    "### easy to commit off-by-one errors, so stack them up for easy comparison"
   ]
  },
  {
   "cell_type": "code",
   "execution_count": 62,
   "metadata": {
    "collapsed": false
   },
   "outputs": [
    {
     "data": {
      "text/html": [
       "<div>\n",
       "<table border=\"1\" class=\"dataframe\">\n",
       "  <thead>\n",
       "    <tr style=\"text-align: right;\">\n",
       "      <th></th>\n",
       "      <th>0</th>\n",
       "    </tr>\n",
       "  </thead>\n",
       "  <tbody>\n",
       "    <tr>\n",
       "      <th>0</th>\n",
       "      <td>CTCCCCCGGGGGT</td>\n",
       "    </tr>\n",
       "    <tr>\n",
       "      <th>1</th>\n",
       "      <td>CTCCCCAGGGGGT</td>\n",
       "    </tr>\n",
       "    <tr>\n",
       "      <th>2</th>\n",
       "      <td>CTCCCCGGGGGGT</td>\n",
       "    </tr>\n",
       "    <tr>\n",
       "      <th>3</th>\n",
       "      <td>CTCCCCTGGGGGT</td>\n",
       "    </tr>\n",
       "  </tbody>\n",
       "</table>\n",
       "</div>"
      ],
      "text/plain": [
       "               0\n",
       "0  CTCCCCCGGGGGT\n",
       "1  CTCCCCAGGGGGT\n",
       "2  CTCCCCGGGGGGT\n",
       "3  CTCCCCTGGGGGT"
      ]
     },
     "execution_count": 62,
     "metadata": {},
     "output_type": "execute_result"
    }
   ],
   "source": [
    "pd.DataFrame([[baseSequence], [mutA], [mutG], [mutT]])"
   ]
  },
  {
   "cell_type": "code",
   "execution_count": 63,
   "metadata": {
    "collapsed": true
   },
   "outputs": [],
   "source": [
    "seqArgs = {\"wt\": baseSequence, \"mutA\": mutA, \"mutG\": mutG, \"mutT\": mutT}"
   ]
  },
  {
   "cell_type": "code",
   "execution_count": 64,
   "metadata": {
    "collapsed": false
   },
   "outputs": [
    {
     "data": {
      "text/html": [
       "<div>\n",
       "<table border=\"1\" class=\"dataframe\">\n",
       "  <thead>\n",
       "    <tr style=\"text-align: right;\">\n",
       "      <th></th>\n",
       "      <th>#pattern name</th>\n",
       "      <th>matched sequence</th>\n",
       "      <th>p-value</th>\n",
       "      <th>q-value</th>\n",
       "      <th>score</th>\n",
       "      <th>sequence name</th>\n",
       "      <th>start</th>\n",
       "      <th>stop</th>\n",
       "      <th>strand</th>\n",
       "    </tr>\n",
       "  </thead>\n",
       "  <tbody>\n",
       "    <tr>\n",
       "      <th>0</th>\n",
       "      <td>MA0524.2</td>\n",
       "      <td>ACCCCCAGGGGA</td>\n",
       "      <td>0.000033</td>\n",
       "      <td>0.000243</td>\n",
       "      <td>12.2041</td>\n",
       "      <td>mutT</td>\n",
       "      <td>2</td>\n",
       "      <td>13</td>\n",
       "      <td>-</td>\n",
       "    </tr>\n",
       "    <tr>\n",
       "      <th>1</th>\n",
       "      <td>MA0524.2</td>\n",
       "      <td>ACCCCCGGGGGA</td>\n",
       "      <td>0.000039</td>\n",
       "      <td>0.000243</td>\n",
       "      <td>11.9898</td>\n",
       "      <td>wt</td>\n",
       "      <td>2</td>\n",
       "      <td>13</td>\n",
       "      <td>-</td>\n",
       "    </tr>\n",
       "    <tr>\n",
       "      <th>10</th>\n",
       "      <td>MA0810.1</td>\n",
       "      <td>ACCCCCGGGGGA</td>\n",
       "      <td>0.000074</td>\n",
       "      <td>0.000296</td>\n",
       "      <td>11.1273</td>\n",
       "      <td>wt</td>\n",
       "      <td>2</td>\n",
       "      <td>13</td>\n",
       "      <td>-</td>\n",
       "    </tr>\n",
       "    <tr>\n",
       "      <th>11</th>\n",
       "      <td>MA0811.1</td>\n",
       "      <td>TCCCCCGGGGGT</td>\n",
       "      <td>0.000083</td>\n",
       "      <td>0.000332</td>\n",
       "      <td>10.9091</td>\n",
       "      <td>wt</td>\n",
       "      <td>2</td>\n",
       "      <td>13</td>\n",
       "      <td>+</td>\n",
       "    </tr>\n",
       "    <tr>\n",
       "      <th>12</th>\n",
       "      <td>MA0524.2</td>\n",
       "      <td>TCCCCTGGGGGT</td>\n",
       "      <td>0.000092</td>\n",
       "      <td>0.000294</td>\n",
       "      <td>10.7245</td>\n",
       "      <td>mutT</td>\n",
       "      <td>2</td>\n",
       "      <td>13</td>\n",
       "      <td>+</td>\n",
       "    </tr>\n",
       "    <tr>\n",
       "      <th>2</th>\n",
       "      <td>MA0811.1</td>\n",
       "      <td>ACCCCCAGGGGA</td>\n",
       "      <td>0.000040</td>\n",
       "      <td>0.000277</td>\n",
       "      <td>12.0182</td>\n",
       "      <td>mutT</td>\n",
       "      <td>2</td>\n",
       "      <td>13</td>\n",
       "      <td>-</td>\n",
       "    </tr>\n",
       "    <tr>\n",
       "      <th>3</th>\n",
       "      <td>MA0524.2</td>\n",
       "      <td>ACCCCCCGGGGA</td>\n",
       "      <td>0.000046</td>\n",
       "      <td>0.000243</td>\n",
       "      <td>11.7653</td>\n",
       "      <td>mutG</td>\n",
       "      <td>2</td>\n",
       "      <td>13</td>\n",
       "      <td>-</td>\n",
       "    </tr>\n",
       "    <tr>\n",
       "      <th>4</th>\n",
       "      <td>MA0811.1</td>\n",
       "      <td>ACCCCCGGGGGA</td>\n",
       "      <td>0.000047</td>\n",
       "      <td>0.000277</td>\n",
       "      <td>11.7636</td>\n",
       "      <td>wt</td>\n",
       "      <td>2</td>\n",
       "      <td>13</td>\n",
       "      <td>-</td>\n",
       "    </tr>\n",
       "    <tr>\n",
       "      <th>5</th>\n",
       "      <td>MA0811.1</td>\n",
       "      <td>ACCCCCCGGGGA</td>\n",
       "      <td>0.000052</td>\n",
       "      <td>0.000277</td>\n",
       "      <td>11.6364</td>\n",
       "      <td>mutG</td>\n",
       "      <td>2</td>\n",
       "      <td>13</td>\n",
       "      <td>-</td>\n",
       "    </tr>\n",
       "    <tr>\n",
       "      <th>6</th>\n",
       "      <td>MA0810.1</td>\n",
       "      <td>ACCCCCCGGGGA</td>\n",
       "      <td>0.000055</td>\n",
       "      <td>0.000296</td>\n",
       "      <td>11.5818</td>\n",
       "      <td>mutG</td>\n",
       "      <td>2</td>\n",
       "      <td>13</td>\n",
       "      <td>-</td>\n",
       "    </tr>\n",
       "    <tr>\n",
       "      <th>7</th>\n",
       "      <td>MA0524.2</td>\n",
       "      <td>TCCCCCGGGGGT</td>\n",
       "      <td>0.000067</td>\n",
       "      <td>0.000270</td>\n",
       "      <td>11.1939</td>\n",
       "      <td>wt</td>\n",
       "      <td>2</td>\n",
       "      <td>13</td>\n",
       "      <td>+</td>\n",
       "    </tr>\n",
       "    <tr>\n",
       "      <th>8</th>\n",
       "      <td>MA0810.1</td>\n",
       "      <td>ACCCCCAGGGGA</td>\n",
       "      <td>0.000072</td>\n",
       "      <td>0.000296</td>\n",
       "      <td>11.1818</td>\n",
       "      <td>mutT</td>\n",
       "      <td>2</td>\n",
       "      <td>13</td>\n",
       "      <td>-</td>\n",
       "    </tr>\n",
       "    <tr>\n",
       "      <th>9</th>\n",
       "      <td>MA0810.1</td>\n",
       "      <td>TCCCCCGGGGGT</td>\n",
       "      <td>0.000073</td>\n",
       "      <td>0.000296</td>\n",
       "      <td>11.1455</td>\n",
       "      <td>wt</td>\n",
       "      <td>2</td>\n",
       "      <td>13</td>\n",
       "      <td>+</td>\n",
       "    </tr>\n",
       "  </tbody>\n",
       "</table>\n",
       "</div>"
      ],
      "text/plain": [
       "   #pattern name matched sequence   p-value   q-value    score sequence name  \\\n",
       "0       MA0524.2     ACCCCCAGGGGA  0.000033  0.000243  12.2041          mutT   \n",
       "1       MA0524.2     ACCCCCGGGGGA  0.000039  0.000243  11.9898            wt   \n",
       "10      MA0810.1     ACCCCCGGGGGA  0.000074  0.000296  11.1273            wt   \n",
       "11      MA0811.1     TCCCCCGGGGGT  0.000083  0.000332  10.9091            wt   \n",
       "12      MA0524.2     TCCCCTGGGGGT  0.000092  0.000294  10.7245          mutT   \n",
       "2       MA0811.1     ACCCCCAGGGGA  0.000040  0.000277  12.0182          mutT   \n",
       "3       MA0524.2     ACCCCCCGGGGA  0.000046  0.000243  11.7653          mutG   \n",
       "4       MA0811.1     ACCCCCGGGGGA  0.000047  0.000277  11.7636            wt   \n",
       "5       MA0811.1     ACCCCCCGGGGA  0.000052  0.000277  11.6364          mutG   \n",
       "6       MA0810.1     ACCCCCCGGGGA  0.000055  0.000296  11.5818          mutG   \n",
       "7       MA0524.2     TCCCCCGGGGGT  0.000067  0.000270  11.1939            wt   \n",
       "8       MA0810.1     ACCCCCAGGGGA  0.000072  0.000296  11.1818          mutT   \n",
       "9       MA0810.1     TCCCCCGGGGGT  0.000073  0.000296  11.1455            wt   \n",
       "\n",
       "    start  stop strand  \n",
       "0       2    13      -  \n",
       "1       2    13      -  \n",
       "10      2    13      -  \n",
       "11      2    13      +  \n",
       "12      2    13      +  \n",
       "2       2    13      -  \n",
       "3       2    13      -  \n",
       "4       2    13      -  \n",
       "5       2    13      -  \n",
       "6       2    13      -  \n",
       "7       2    13      +  \n",
       "8       2    13      -  \n",
       "9       2    13      +  "
      ]
     },
     "execution_count": 64,
     "metadata": {},
     "output_type": "execute_result"
    }
   ],
   "source": [
    "tbl_fimo = fimo.request(seqArgs)\n",
    "tbl_fimo"
   ]
  },
  {
   "cell_type": "code",
   "execution_count": null,
   "metadata": {
    "collapsed": true
   },
   "outputs": [],
   "source": []
  }
 ],
 "metadata": {
  "kernelspec": {
   "display_name": "Python 3",
   "language": "python",
   "name": "python3"
  },
  "language_info": {
   "codemirror_mode": {
    "name": "ipython",
    "version": 3
   },
   "file_extension": ".py",
   "mimetype": "text/x-python",
   "name": "python",
   "nbconvert_exporter": "python",
   "pygments_lexer": "ipython3",
   "version": "3.5.2"
  }
 },
 "nbformat": 4,
 "nbformat_minor": 0
}

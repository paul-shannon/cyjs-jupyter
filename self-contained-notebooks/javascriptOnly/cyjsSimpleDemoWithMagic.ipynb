{
 "cells": [
  {
   "cell_type": "code",
   "execution_count": 1,
   "metadata": {
    "collapsed": false
   },
   "outputs": [
    {
     "data": {
      "application/javascript": [
       "require.config({\n",
       "   paths: {cytoscape: 'http://localhost:8099/js/cytoscape-2.7.10'}\n",
       "   })"
      ],
      "text/plain": [
       "<IPython.core.display.Javascript object>"
      ]
     },
     "metadata": {},
     "output_type": "display_data"
    }
   ],
   "source": [
    "%%javascript\n",
    "require.config({\n",
    "   paths: {cytoscape: 'http://localhost:8099/js/cytoscape-2.7.10'}\n",
    "   })\n"
   ]
  },
  {
   "cell_type": "code",
   "execution_count": 2,
   "metadata": {
    "collapsed": false
   },
   "outputs": [
    {
     "data": {
      "application/javascript": [
       "\n",
       "require(['cytoscape'], function(cytoscape){\n",
       "//define('cyjs', ['cytoscape'], function(cytoscape){\n",
       "    $(\"#cyDiv\").remove();\n",
       "    element.append(\"<div id='cyDiv'></div>\")\n",
       "    $(\"#cyDiv\").width(\"700px\");\n",
       "    $(\"#cyDiv\").height(\"600px\");\n",
       "    \n",
       "    var cy = cytoscape({\n",
       "      container: document.getElementById('cyDiv'),\n",
       "      elements: {\n",
       "         nodes: [\n",
       "           {data: {id: 'a', name: 'Node A', type: 'big' }},\n",
       "           {data: {id: 'b', name: 'Node B', type: 'little'}},\n",
       "           ],\n",
       "        edges: [\n",
       "           {data: {source: 'a', target: 'b'}},\n",
       "           {data: {source: 'b', target: 'a'}}\n",
       "           ]\n",
       "        },\n",
       "  \n",
       "     style: [\n",
       "        {selector: 'node',\n",
       "           style: {\n",
       "              'text-valign': 'center',\n",
       "              'text-halign': 'center',\n",
       "              'border-color': 'red',\n",
       "              'background-color': 'white',\n",
       "              'border-width': 1,\n",
       "              'label': 'data(name)',\n",
       "              'height': 100,  // defaults\n",
       "              'width': 100\n",
       "              }},\n",
       "        {selector: \"node[type='big']\",\n",
       "          style: {\n",
       "             'height': 150,\n",
       "             'width': 150,\n",
       "             'shape': 'roundrectangle'\n",
       "             }},\n",
       "        {selector: \"node[type='little']\",\n",
       "          style: {\n",
       "             'height': 50,\n",
       "             'width': 80\n",
       "             }},\n",
       "        {selector: 'edge',\n",
       "           style: {\n",
       "             'width': '1px',\n",
       "             'line-color': 'blue',\n",
       "             'target-arrow-shape': 'triangle',\n",
       "             'target-arrow-color': 'black',\n",
       "             'curve-style': 'bezier'\n",
       "             }}\n",
       "         ],\n",
       "              \n",
       "     ready: function(){\n",
       "        console.log(\"small cyjs network ready\");\n",
       "        } // ready\n",
       "       }); // cytoscape\n",
       "\n",
       "});"
      ],
      "text/plain": [
       "<IPython.core.display.Javascript object>"
      ]
     },
     "metadata": {},
     "output_type": "display_data"
    }
   ],
   "source": [
    "%%javascript\n",
    "\n",
    "require(['cytoscape'], function(cytoscape){\n",
    "//define('cyjs', ['cytoscape'], function(cytoscape){\n",
    "    $(\"#cyDiv\").remove();\n",
    "    element.append(\"<div id='cyDiv'></div>\")\n",
    "    $(\"#cyDiv\").width(\"700px\");\n",
    "    $(\"#cyDiv\").height(\"600px\");\n",
    "    \n",
    "    var cy = cytoscape({\n",
    "      container: document.getElementById('cyDiv'),\n",
    "      elements: {\n",
    "         nodes: [\n",
    "           {data: {id: 'a', name: 'Node A', type: 'big' }},\n",
    "           {data: {id: 'b', name: 'Node B', type: 'little'}},\n",
    "           ],\n",
    "        edges: [\n",
    "           {data: {source: 'a', target: 'b'}},\n",
    "           {data: {source: 'b', target: 'a'}}\n",
    "           ]\n",
    "        },\n",
    "  \n",
    "     style: [\n",
    "        {selector: 'node',\n",
    "           style: {\n",
    "              'text-valign': 'center',\n",
    "              'text-halign': 'center',\n",
    "              'border-color': 'red',\n",
    "              'background-color': 'white',\n",
    "              'border-width': 1,\n",
    "              'label': 'data(name)',\n",
    "              'height': 100,  // defaults\n",
    "              'width': 100\n",
    "              }},\n",
    "        {selector: \"node[type='big']\",\n",
    "          style: {\n",
    "             'height': 150,\n",
    "             'width': 150,\n",
    "             'shape': 'roundrectangle'\n",
    "             }},\n",
    "        {selector: \"node[type='little']\",\n",
    "          style: {\n",
    "             'height': 50,\n",
    "             'width': 80\n",
    "             }},\n",
    "        {selector: 'edge',\n",
    "           style: {\n",
    "             'width': '1px',\n",
    "             'line-color': 'blue',\n",
    "             'target-arrow-shape': 'triangle',\n",
    "             'target-arrow-color': 'black',\n",
    "             'curve-style': 'bezier'\n",
    "             }}\n",
    "         ],\n",
    "              \n",
    "     ready: function(){\n",
    "        console.log(\"small cyjs network ready\");\n",
    "        } // ready\n",
    "       }); // cytoscape\n",
    "\n",
    "});"
   ]
  },
  {
   "cell_type": "code",
   "execution_count": null,
   "metadata": {
    "collapsed": true
   },
   "outputs": [],
   "source": []
  },
  {
   "cell_type": "code",
   "execution_count": null,
   "metadata": {
    "collapsed": true
   },
   "outputs": [],
   "source": []
  },
  {
   "cell_type": "code",
   "execution_count": null,
   "metadata": {
    "collapsed": true
   },
   "outputs": [],
   "source": []
  }
 ],
 "metadata": {
  "kernelspec": {
   "display_name": "Python 3",
   "language": "python",
   "name": "python3"
  },
  "language_info": {
   "codemirror_mode": {
    "name": "ipython",
    "version": 3
   },
   "file_extension": ".py",
   "mimetype": "text/x-python",
   "name": "python",
   "nbconvert_exporter": "python",
   "pygments_lexer": "ipython3",
   "version": "3.5.2"
  }
 },
 "nbformat": 4,
 "nbformat_minor": 0
}
